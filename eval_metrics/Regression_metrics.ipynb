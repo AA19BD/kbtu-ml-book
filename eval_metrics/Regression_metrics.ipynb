{
 "cells": [
  {
   "cell_type": "markdown",
   "id": "6551c50c",
   "metadata": {},
   "source": [
    "# Regression metrics\n",
    "\n",
    "\n",
    "Regression metrics are used to evaluate the performance of regression models, which are machine learning models that predict continuous numeric values rather than discrete classes. \n",
    "\n",
    "These metrics help measure how well a regression model's predictions align with the actual target values. Here are some common regression metrics:"
   ]
  },
  {
   "cell_type": "markdown",
   "id": "a13ee8c6",
   "metadata": {},
   "source": [
    "<h4> Here are some common regression metrics: </h4>\n",
    "\n",
    "<h6> 1. Mean Absolute Error (MAE): </h6>\n",
    "\n",
    "MAE calculates the average absolute difference between the predicted values and the actual target values. \n",
    "\n",
    "It gives an indication of how far off the predictions are on average.\n",
    "\n",
    "$$\n",
    "\\text{MAE} = \\frac{1}{n} \\sum_{i=1}^{n} |y_i - \\hat{y}_i|\n",
    "$$\n",
    "\n",
    "Where: \n",
    "\n",
    "   * n is the number of data points.\n",
    "   * y_i represents the actual target value for the i-th data point.\n",
    "   * y^i is the actual target value.\n",
    "   \n",
    "\n",
    "<h6> 2. Mean Squared Error (MSE) </h6>\n",
    "\n",
    "MSE calculates the average squared difference between the predicted values and the actual target values. \n",
    "\n",
    "It penalizes larger errors more heavily than MAE.\n",
    "\n",
    "\n",
    "$$\n",
    "\\text{MSE} = \\frac{1}{n} \\sum_{i=1}^{n} (y_i - \\hat{y}_i)^2\n",
    "$$\n",
    "\n",
    "\n",
    "<h6> 3. Root Mean Squared Error (RMSE) </h6>\n",
    "\n",
    "\n",
    "RMSE is the square root of MSE. \n",
    "\n",
    "It provides a measure of the standard deviation of prediction errors and is in the same units as the target variable.\n",
    "\n",
    "$$\n",
    "\\text{RMSE} = \\sqrt{\\text{MSE}}\n",
    "$$\n",
    "\n"
   ]
  },
  {
   "cell_type": "markdown",
   "id": "a1ec1bd0",
   "metadata": {},
   "source": [
    "###### Now let's use these metrics:"
   ]
  },
  {
   "cell_type": "code",
   "execution_count": 2,
   "id": "0a47060b",
   "metadata": {},
   "outputs": [
    {
     "name": "stdout",
     "output_type": "stream",
     "text": [
      "Mean Absolute Error (MAE): 0.1667\n",
      "Mean Squared Error (MSE): 0.0322\n",
      "Root Mean Squared Error (RMSE): 0.1795\n"
     ]
    }
   ],
   "source": [
    "import numpy as np\n",
    "from sklearn.metrics import mean_absolute_error, mean_squared_error\n",
    "\n",
    "# Actual target values\n",
    "actual_values = np.array([3.5, 2.7, 5.1, 4.8, 6.0, 7.2, 8.9, 9.5, 10.1])\n",
    "\n",
    "# Predicted values from your regression model\n",
    "predicted_values = np.array([3.2, 2.9, 5.0, 4.7, 6.2, 7.0, 8.8, 9.3, 10.0])\n",
    "\n",
    "# Calculate MAE\n",
    "mae = mean_absolute_error(actual_values, predicted_values)\n",
    "\n",
    "# Calculate MSE\n",
    "mse = mean_squared_error(actual_values, predicted_values)\n",
    "\n",
    "# Calculate RMSE\n",
    "rmse = np.sqrt(mse)\n",
    "\n",
    "print(f\"Mean Absolute Error (MAE): {mae:.4f}\")\n",
    "print(f\"Mean Squared Error (MSE): {mse:.4f}\")\n",
    "print(f\"Root Mean Squared Error (RMSE): {rmse:.4f}\")"
   ]
  },
  {
   "cell_type": "code",
   "execution_count": null,
   "id": "8173ae4b",
   "metadata": {},
   "outputs": [],
   "source": []
  },
  {
   "cell_type": "code",
   "execution_count": null,
   "id": "836cb94f",
   "metadata": {},
   "outputs": [],
   "source": []
  },
  {
   "cell_type": "code",
   "execution_count": null,
   "id": "4182e022",
   "metadata": {},
   "outputs": [],
   "source": []
  }
 ],
 "metadata": {
  "kernelspec": {
   "display_name": "Python 3 (ipykernel)",
   "language": "python",
   "name": "python3"
  },
  "language_info": {
   "codemirror_mode": {
    "name": "ipython",
    "version": 3
   },
   "file_extension": ".py",
   "mimetype": "text/x-python",
   "name": "python",
   "nbconvert_exporter": "python",
   "pygments_lexer": "ipython3",
   "version": "3.10.9"
  }
 },
 "nbformat": 4,
 "nbformat_minor": 5
}
