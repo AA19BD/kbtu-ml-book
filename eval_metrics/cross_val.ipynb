{
 "cells": [
  {
   "cell_type": "markdown",
   "id": "90558006",
   "metadata": {},
   "source": [
    "# Cross-validation\n",
    "\n",
    "Cross-validation is a widely used technique in machine learning and statistics for assessing the performance and generalization of a predictive model. \n",
    "\n",
    "It helps to evaluate how well a model will perform on unseen data and provides a more robust estimate of a model's performance than a single train-test split. \n",
    "\n",
    "The basic idea is to split the dataset into multiple subsets, train and test the model on different combinations of these subsets, and then aggregate the results to get a more comprehensive performance evaluation. \n",
    "\n",
    "Common types of cross-validation include k-fold cross-validation and leave-one-out cross-validation."
   ]
  },
  {
   "cell_type": "markdown",
   "id": "8280435f",
   "metadata": {},
   "source": []
  },
  {
   "cell_type": "markdown",
   "id": "8b4e08d9",
   "metadata": {},
   "source": []
  },
  {
   "cell_type": "code",
   "execution_count": 14,
   "id": "13600bd2",
   "metadata": {},
   "outputs": [
    {
     "name": "stdout",
     "output_type": "stream",
     "text": [
      "Fold 0 | Mean Squared Error (MSE): 0.8463\n",
      "Fold 1 | Mean Squared Error (MSE): 0.0929\n",
      "Fold 2 | Mean Squared Error (MSE): 3.3469\n",
      "Fold 3 | Mean Squared Error (MSE): 1.5318\n",
      "Fold 4 | Mean Squared Error (MSE): 1.7142\n",
      "\n",
      "Mean Squared Error (MSE) across 5 folds: 1.5064\n"
     ]
    }
   ],
   "source": [
    "from sklearn.model_selection import KFold, cross_val_score\n",
    "from sklearn.linear_model import LinearRegression\n",
    "from sklearn.datasets import make_regression\n",
    "\n",
    "# Load your dataset and target variable here\n",
    "X, y = make_regression(n_samples=5, n_features=2, noise=1, random_state=42)\n",
    "\n",
    "# Create a machine learning model (replace with your model)\n",
    "model = LinearRegression()\n",
    "\n",
    "# Specify the number of folds (e.g., 5-fold cross-validation)\n",
    "num_folds = 5\n",
    "\n",
    "# Create a KFold object to control the cross-validation process\n",
    "kf = KFold(n_splits=num_folds, shuffle=True, random_state=42)\n",
    "\n",
    "# Perform cross-validation and specify the scoring metric (e.g., mean squared error)\n",
    "scores = cross_val_score(model, X, y, cv=kf, scoring='neg_mean_squared_error')\n",
    "\n",
    "# The scores are typically negative, so we take their absolute values and calculate the mean\n",
    "mse_scores = -scores\n",
    "mean_mse = mse_scores.mean()\n",
    "\n",
    "for i, mse in enumerate(mse_scores):\n",
    "    print(f\"Fold {i} | Mean Squared Error (MSE): {mse:.4f}\")\n",
    "    \n",
    "print(f\"\\nMean Squared Error (MSE) across {num_folds} folds: {mean_mse:.4f}\")"
   ]
  },
  {
   "cell_type": "code",
   "execution_count": 4,
   "id": "76a96c9d",
   "metadata": {},
   "outputs": [
    {
     "data": {
      "text/plain": [
       "array([0.84628596, 0.09293514, 3.34686517, 1.53176163, 1.71417011])"
      ]
     },
     "execution_count": 4,
     "metadata": {},
     "output_type": "execute_result"
    }
   ],
   "source": [
    "mse_scores"
   ]
  },
  {
   "cell_type": "code",
   "execution_count": null,
   "id": "51f1ea72",
   "metadata": {},
   "outputs": [],
   "source": []
  },
  {
   "cell_type": "code",
   "execution_count": null,
   "id": "9c221487",
   "metadata": {},
   "outputs": [],
   "source": []
  }
 ],
 "metadata": {
  "kernelspec": {
   "display_name": "Python 3 (ipykernel)",
   "language": "python",
   "name": "python3"
  },
  "language_info": {
   "codemirror_mode": {
    "name": "ipython",
    "version": 3
   },
   "file_extension": ".py",
   "mimetype": "text/x-python",
   "name": "python",
   "nbconvert_exporter": "python",
   "pygments_lexer": "ipython3",
   "version": "3.10.11"
  }
 },
 "nbformat": 4,
 "nbformat_minor": 5
}
