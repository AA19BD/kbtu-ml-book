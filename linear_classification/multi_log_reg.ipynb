{
 "cells": [
  {
   "cell_type": "markdown",
   "metadata": {},
   "source": [
    "# 1. Introduction to Multinomial Logistic Regression\n",
    "\n",
    "Logistic regression has been used in the field of biological research since the early twentieth century. Then it began to be used in many social sciences. Logistic regression is applicable when the dependent variable (target value) is categorical.\n",
    "\n",
    "For example, we need to predict:\n",
    "\n",
    "- whether the email is spam (1) or not (0);\n",
    "- whether the tumor is malignant (1) or benign (0).\n",
    "\n",
    "$\\boldsymbol Multinomial logistic regression $ is a statistical method used for classification problems where the outcome can take on more than two categories. It's an extension of binary logistic regression. The goal is to model the probabilities of the different possible outcomes of a categorically distributed dependent variable, given a set of independent variables.\n",
    "\n",
    "Let's look at the following examples:\n",
    "\n",
    "Example Scripts\n",
    "\n",
    "- Classification of Texts: Determining the topic of the text (for example, sports, politics, technology, art).\n",
    "\n",
    "- Medical Diagnosis: Classification of the type of disease (eg, infectious, inflammatory, genetic, metabolic).\n",
    "\n",
    "In each of these scenarios, the outcome is multiple categories, and multinomial logistic regression can be used to predict the probability of each category."
   ]
  },
  {
   "cell_type": "markdown",
   "metadata": {},
   "source": [
    "### Some Picture"
   ]
  },
  {
   "cell_type": "markdown",
   "metadata": {},
   "source": [
    "\n",
    "##### Data Structure  \n",
    "Let's imagine a data set $\\mathcal D$, where each element consists of a pair of feature vectors $\\boldsymbol x_i$ and a class label $y_i$:\n",
    "\n",
    "$$\n",
    "\\mathcal{D} = \\{(\\boldsymbol{x}_i, y_i)\\}_{i=1}^n \\quad \\text{where } \\boldsymbol{x}_i \\in \\mathbb{R}\n",
    "$$\n",
    "\n",
    "Здесь $\\mathcal Y$ — это множество возможных категорий.\n",
    "\n",
    "##### Probability Prediction\n",
    "Multinomial logistic regression predicts the probability of membership in each category:\n",
    "\n",
    "The predicted probability vector $\\boldsymbol{\\hat{y}}$ is defined as:\n",
    "\n",
    "$$\n",
    "\\boldsymbol{\\hat{y}} = (p_1, \\ldots, p_K), \\quad \\text{where } p_k > 0 \\text{ and } \\sum_{k=1}^K p_k = 1.\n",
    "$$\n",
    "\n",
    "\n",
    "##### Calculating Logits and Softmax Transformation\n",
    "Logits are calculated as a linear combination of the input features and then converted to probabilities using the softmax function:\n",
    "\n",
    "The logits $\\boldsymbol{z}$ are calculated as a linear combination of the input features $\\boldsymbol{x}$ and the weights $\\boldsymbol{w}_k$ for each class, and the predicted probability vector $\\boldsymbol{\\hat{y}}$ is obtained through the softmax function:\n",
    "\n",
    "$$\n",
    "z_k = \\boldsymbol{x}^\\top \\boldsymbol{w}_k, \\quad \\boldsymbol{\\hat{y}} = \\text{Softmax}(\\boldsymbol{z}) = \\left( \\frac{e^{z_1}}{\\sum_{k=1}^K e^{z_k}}, \\ldots , \\frac{e^{z_K}}{\\sum_{k=1}^K e^{z_k}} \\right)\n",
    "$$\n",
    "\n",
    "\n",
    "##### Class Selection\n",
    "The predicted class is given by the argument that maximizes the probabilities:\n",
    "\n",
    "$$\n",
    "\\text{Predicted class} = \\arg\\max_{1 \\leq k \\leq K} p_k\n",
    "$$\n",
    "\n",
    "##### Model parameters\n",
    "The weight matrix $\\boldsymbol{W}$ is defined as:\n",
    "\n",
    "$$\n",
    "\\boldsymbol{W} = [\\boldsymbol{w}_1 \\ldots \\boldsymbol{w}_K]\n",
    "$$"
   ]
  },
  {
   "cell_type": "markdown",
   "metadata": {},
   "source": [
    "### Quiz: Basic Concepts of Multinomial Logistic Regression\n"
   ]
  },
  {
   "cell_type": "code",
   "execution_count": 6,
   "metadata": {},
   "outputs": [
    {
     "data": {
      "application/vnd.jupyter.widget-view+json": {
       "model_id": "1fd79516d6514ab78fbf940b8cfe7ded",
       "version_major": 2,
       "version_minor": 0
      },
      "text/plain": [
       "Label(value='1. What is Multinomial Logistic Regression primarily used for?')"
      ]
     },
     "metadata": {},
     "output_type": "display_data"
    },
    {
     "data": {
      "application/vnd.jupyter.widget-view+json": {
       "model_id": "9c10840dec444b8fa25d793a76f766e0",
       "version_major": 2,
       "version_minor": 0
      },
      "text/plain": [
       "RadioButtons(description='Choices:', options=('Predicting continuous outcomes', 'Classifying outcomes into one…"
      ]
     },
     "metadata": {},
     "output_type": "display_data"
    },
    {
     "data": {
      "application/vnd.jupyter.widget-view+json": {
       "model_id": "6b88572753974aa6b7328048b6c9d629",
       "version_major": 2,
       "version_minor": 0
      },
      "text/plain": [
       "Button(description='Submit', style=ButtonStyle())"
      ]
     },
     "metadata": {},
     "output_type": "display_data"
    },
    {
     "data": {
      "application/vnd.jupyter.widget-view+json": {
       "model_id": "dcd528869a1e4f9298882d5c8f34e75f",
       "version_major": 2,
       "version_minor": 0
      },
      "text/plain": [
       "Output()"
      ]
     },
     "metadata": {},
     "output_type": "display_data"
    },
    {
     "data": {
      "application/vnd.jupyter.widget-view+json": {
       "model_id": "1f8dd236c0a84901a3c1e131e4ed3905",
       "version_major": 2,
       "version_minor": 0
      },
      "text/plain": [
       "Label(value='2. Which function does Multinomial Logistic Regression use to model probabilities?')"
      ]
     },
     "metadata": {},
     "output_type": "display_data"
    },
    {
     "data": {
      "application/vnd.jupyter.widget-view+json": {
       "model_id": "d0738d86b430436a8f24194c887aa61d",
       "version_major": 2,
       "version_minor": 0
      },
      "text/plain": [
       "RadioButtons(description='Choices:', options=('Linear function', 'Sigmoid function', 'Softmax function', 'Tang…"
      ]
     },
     "metadata": {},
     "output_type": "display_data"
    },
    {
     "data": {
      "application/vnd.jupyter.widget-view+json": {
       "model_id": "15ead46866b54240a53767dcd32dc57b",
       "version_major": 2,
       "version_minor": 0
      },
      "text/plain": [
       "Button(description='Submit', style=ButtonStyle())"
      ]
     },
     "metadata": {},
     "output_type": "display_data"
    },
    {
     "data": {
      "application/vnd.jupyter.widget-view+json": {
       "model_id": "a1cf9006bca741959172ac7fdda28d02",
       "version_major": 2,
       "version_minor": 0
      },
      "text/plain": [
       "Output()"
      ]
     },
     "metadata": {},
     "output_type": "display_data"
    },
    {
     "data": {
      "application/vnd.jupyter.widget-view+json": {
       "model_id": "ed371ef5edfe4685a16ac2dea078366a",
       "version_major": 2,
       "version_minor": 0
      },
      "text/plain": [
       "Label(value='3. In Multinomial Logistic Regression, the outcome variable should be:')"
      ]
     },
     "metadata": {},
     "output_type": "display_data"
    },
    {
     "data": {
      "application/vnd.jupyter.widget-view+json": {
       "model_id": "b0e0910dad7b49bf92f723c001d10907",
       "version_major": 2,
       "version_minor": 0
      },
      "text/plain": [
       "RadioButtons(description='Choices:', options=('Continuous', 'Ordinal', 'Nominal with two categories', 'Nominal…"
      ]
     },
     "metadata": {},
     "output_type": "display_data"
    },
    {
     "data": {
      "application/vnd.jupyter.widget-view+json": {
       "model_id": "f372bbad9df04a37a878343790a49d01",
       "version_major": 2,
       "version_minor": 0
      },
      "text/plain": [
       "Button(description='Submit', style=ButtonStyle())"
      ]
     },
     "metadata": {},
     "output_type": "display_data"
    },
    {
     "data": {
      "application/vnd.jupyter.widget-view+json": {
       "model_id": "68c78aa4d91e481597ee8feed4496b7b",
       "version_major": 2,
       "version_minor": 0
      },
      "text/plain": [
       "Output()"
      ]
     },
     "metadata": {},
     "output_type": "display_data"
    },
    {
     "data": {
      "application/vnd.jupyter.widget-view+json": {
       "model_id": "834ce5e3070e4338b12d04283c6a21d9",
       "version_major": 2,
       "version_minor": 0
      },
      "text/plain": [
       "Label(value='4. What is the main difference between Multinomial and Binary Logistic Regression?')"
      ]
     },
     "metadata": {},
     "output_type": "display_data"
    },
    {
     "data": {
      "application/vnd.jupyter.widget-view+json": {
       "model_id": "626476a9da40413796b83534a8655dd4",
       "version_major": 2,
       "version_minor": 0
      },
      "text/plain": [
       "RadioButtons(description='Choices:', options=('The number of predictor variables', 'The number of outcome cate…"
      ]
     },
     "metadata": {},
     "output_type": "display_data"
    },
    {
     "data": {
      "application/vnd.jupyter.widget-view+json": {
       "model_id": "2708ad9f83554d65a05661aae7004626",
       "version_major": 2,
       "version_minor": 0
      },
      "text/plain": [
       "Button(description='Submit', style=ButtonStyle())"
      ]
     },
     "metadata": {},
     "output_type": "display_data"
    },
    {
     "data": {
      "application/vnd.jupyter.widget-view+json": {
       "model_id": "45fe506a4735433b9e79080d26ade7f9",
       "version_major": 2,
       "version_minor": 0
      },
      "text/plain": [
       "Output()"
      ]
     },
     "metadata": {},
     "output_type": "display_data"
    },
    {
     "data": {
      "application/vnd.jupyter.widget-view+json": {
       "model_id": "b437f0f0614741118cedc122d892c261",
       "version_major": 2,
       "version_minor": 0
      },
      "text/plain": [
       "Label(value='5. Which of the following is an assumption of Multinomial Logistic Regression?')"
      ]
     },
     "metadata": {},
     "output_type": "display_data"
    },
    {
     "data": {
      "application/vnd.jupyter.widget-view+json": {
       "model_id": "366cf8cf5ffa4facb4bf54fb3f245160",
       "version_major": 2,
       "version_minor": 0
      },
      "text/plain": [
       "RadioButtons(description='Choices:', options=('There must be a linear relationship between independent variabl…"
      ]
     },
     "metadata": {},
     "output_type": "display_data"
    },
    {
     "data": {
      "application/vnd.jupyter.widget-view+json": {
       "model_id": "b87fc8dace5b42b78e6f25ee38ac657b",
       "version_major": 2,
       "version_minor": 0
      },
      "text/plain": [
       "Button(description='Submit', style=ButtonStyle())"
      ]
     },
     "metadata": {},
     "output_type": "display_data"
    },
    {
     "data": {
      "application/vnd.jupyter.widget-view+json": {
       "model_id": "ec59d6ed858e40719d86ba25398a8804",
       "version_major": 2,
       "version_minor": 0
      },
      "text/plain": [
       "Output()"
      ]
     },
     "metadata": {},
     "output_type": "display_data"
    },
    {
     "data": {
      "application/vnd.jupyter.widget-view+json": {
       "model_id": "c2f372eeb92d438aafa3b33be5d094bf",
       "version_major": 2,
       "version_minor": 0
      },
      "text/plain": [
       "Label(value=\"6. What does the 'multinomial' in Multinomial Logistic Regression refer to?\")"
      ]
     },
     "metadata": {},
     "output_type": "display_data"
    },
    {
     "data": {
      "application/vnd.jupyter.widget-view+json": {
       "model_id": "4f637f954f3b41d9a8f3ce2f19a15a62",
       "version_major": 2,
       "version_minor": 0
      },
      "text/plain": [
       "RadioButtons(description='Choices:', options=('Multiple linear relationships', 'Multiple predictor variables',…"
      ]
     },
     "metadata": {},
     "output_type": "display_data"
    },
    {
     "data": {
      "application/vnd.jupyter.widget-view+json": {
       "model_id": "a901c2bc67da4eb7ab45ea843eba8ece",
       "version_major": 2,
       "version_minor": 0
      },
      "text/plain": [
       "Button(description='Submit', style=ButtonStyle())"
      ]
     },
     "metadata": {},
     "output_type": "display_data"
    },
    {
     "data": {
      "application/vnd.jupyter.widget-view+json": {
       "model_id": "ff2ecbf9d77f45f0b33237b8b85592f3",
       "version_major": 2,
       "version_minor": 0
      },
      "text/plain": [
       "Output()"
      ]
     },
     "metadata": {},
     "output_type": "display_data"
    },
    {
     "data": {
      "application/vnd.jupyter.widget-view+json": {
       "model_id": "ec13af70f2a14743a320d7ba5edfb080",
       "version_major": 2,
       "version_minor": 0
      },
      "text/plain": [
       "Label(value='7. Which method is commonly used to estimate the model parameters in Multinomial Logistic Regress…"
      ]
     },
     "metadata": {},
     "output_type": "display_data"
    },
    {
     "data": {
      "application/vnd.jupyter.widget-view+json": {
       "model_id": "efd6a79e184a4e6386c19a8177326b8e",
       "version_major": 2,
       "version_minor": 0
      },
      "text/plain": [
       "RadioButtons(description='Choices:', options=('Ordinary Least Squares', 'Maximum Likelihood Estimation', 'Baye…"
      ]
     },
     "metadata": {},
     "output_type": "display_data"
    },
    {
     "data": {
      "application/vnd.jupyter.widget-view+json": {
       "model_id": "b2b63992f2194ac7aab2d4700c94816e",
       "version_major": 2,
       "version_minor": 0
      },
      "text/plain": [
       "Button(description='Submit', style=ButtonStyle())"
      ]
     },
     "metadata": {},
     "output_type": "display_data"
    },
    {
     "data": {
      "application/vnd.jupyter.widget-view+json": {
       "model_id": "ff634451166d46a0bb9c4f9ee1c12e76",
       "version_major": 2,
       "version_minor": 0
      },
      "text/plain": [
       "Output()"
      ]
     },
     "metadata": {},
     "output_type": "display_data"
    },
    {
     "data": {
      "application/vnd.jupyter.widget-view+json": {
       "model_id": "62c1fe70a29a41d18068f356f75136e6",
       "version_major": 2,
       "version_minor": 0
      },
      "text/plain": [
       "Label(value=\"8. In the context of Multinomial Logistic Regression, what does 'overfitting' refer to?\")"
      ]
     },
     "metadata": {},
     "output_type": "display_data"
    },
    {
     "data": {
      "application/vnd.jupyter.widget-view+json": {
       "model_id": "4911051ff1814dad8a59c002f3684b22",
       "version_major": 2,
       "version_minor": 0
      },
      "text/plain": [
       "RadioButtons(description='Choices:', options=('When the model is too simple to capture the patterns in the dat…"
      ]
     },
     "metadata": {},
     "output_type": "display_data"
    },
    {
     "data": {
      "application/vnd.jupyter.widget-view+json": {
       "model_id": "9a8c9a3224544549a796bb8fd099040d",
       "version_major": 2,
       "version_minor": 0
      },
      "text/plain": [
       "Button(description='Submit', style=ButtonStyle())"
      ]
     },
     "metadata": {},
     "output_type": "display_data"
    },
    {
     "data": {
      "application/vnd.jupyter.widget-view+json": {
       "model_id": "2593dfabde7f4391aec89014eb91174e",
       "version_major": 2,
       "version_minor": 0
      },
      "text/plain": [
       "Output()"
      ]
     },
     "metadata": {},
     "output_type": "display_data"
    },
    {
     "data": {
      "application/vnd.jupyter.widget-view+json": {
       "model_id": "e19e4feeed384c4595cd4ea72904219e",
       "version_major": 2,
       "version_minor": 0
      },
      "text/plain": [
       "Label(value='9. Which of the following metrics can be used to evaluate the performance of a Multinomial Logist…"
      ]
     },
     "metadata": {},
     "output_type": "display_data"
    },
    {
     "data": {
      "application/vnd.jupyter.widget-view+json": {
       "model_id": "638528396f044f4f9dc30ddc9035b4f6",
       "version_major": 2,
       "version_minor": 0
      },
      "text/plain": [
       "RadioButtons(description='Choices:', options=('R-squared value', 'Mean Squared Error', 'Accuracy and Confusion…"
      ]
     },
     "metadata": {},
     "output_type": "display_data"
    },
    {
     "data": {
      "application/vnd.jupyter.widget-view+json": {
       "model_id": "fe49d477696e4f728a84c2409cd7c90c",
       "version_major": 2,
       "version_minor": 0
      },
      "text/plain": [
       "Button(description='Submit', style=ButtonStyle())"
      ]
     },
     "metadata": {},
     "output_type": "display_data"
    },
    {
     "data": {
      "application/vnd.jupyter.widget-view+json": {
       "model_id": "145fc0bc1a3a44d7ac5769457717406e",
       "version_major": 2,
       "version_minor": 0
      },
      "text/plain": [
       "Output()"
      ]
     },
     "metadata": {},
     "output_type": "display_data"
    },
    {
     "data": {
      "application/vnd.jupyter.widget-view+json": {
       "model_id": "e4b94db03cdb4d86b64ea2854239d768",
       "version_major": 2,
       "version_minor": 0
      },
      "text/plain": [
       "Label(value='10. Can Multinomial Logistic Regression be used for binary classification problems?')"
      ]
     },
     "metadata": {},
     "output_type": "display_data"
    },
    {
     "data": {
      "application/vnd.jupyter.widget-view+json": {
       "model_id": "192fc527afaa423d9cce63c376250a3f",
       "version_major": 2,
       "version_minor": 0
      },
      "text/plain": [
       "RadioButtons(description='Choices:', options=('Yes, but it is not recommended', 'No, it can only be used for m…"
      ]
     },
     "metadata": {},
     "output_type": "display_data"
    },
    {
     "data": {
      "application/vnd.jupyter.widget-view+json": {
       "model_id": "7feb009b24c94aa4a680a583fc8f1e73",
       "version_major": 2,
       "version_minor": 0
      },
      "text/plain": [
       "Button(description='Submit', style=ButtonStyle())"
      ]
     },
     "metadata": {},
     "output_type": "display_data"
    },
    {
     "data": {
      "application/vnd.jupyter.widget-view+json": {
       "model_id": "eef828f3aa674838b61d2475891c2c8f",
       "version_major": 2,
       "version_minor": 0
      },
      "text/plain": [
       "Output()"
      ]
     },
     "metadata": {},
     "output_type": "display_data"
    }
   ],
   "source": [
    "import ipywidgets as widgets\n",
    "from IPython.display import display, clear_output\n",
    "\n",
    "questions = [\n",
    "    {\n",
    "        \"question\": \"1. What is Multinomial Logistic Regression primarily used for?\",\n",
    "        \"options\": [\"Predicting continuous outcomes\", \"Classifying outcomes into one of two categories\", \"Estimating the relationships between continuous variables\", \"Classifying outcomes into one of three or more categories\"],\n",
    "        \"answer\": \"Classifying outcomes into one of three or more categories\"\n",
    "    },\n",
    "    {\n",
    "        \"question\": \"2. Which function does Multinomial Logistic Regression use to model probabilities?\",\n",
    "        \"options\": [\"Linear function\", \"Sigmoid function\", \"Softmax function\", \"Tangent function\"],\n",
    "        \"answer\": \"Softmax function\"\n",
    "    },\n",
    "    {\n",
    "        \"question\": \"3. In Multinomial Logistic Regression, the outcome variable should be:\",\n",
    "        \"options\": [\"Continuous\", \"Ordinal\", \"Nominal with two categories\", \"Nominal with more than two categories\"],\n",
    "        \"answer\": \"Nominal with more than two categories\"\n",
    "    },\n",
    "    {\n",
    "        \"question\": \"4. What is the main difference between Multinomial and Binary Logistic Regression?\",\n",
    "        \"options\": [\"The number of predictor variables\", \"The number of outcome categories\", \"The type of algorithms used for optimization\", \"The type of data used for the model\"],\n",
    "        \"answer\": \"The number of outcome categories\"\n",
    "    },\n",
    "    {\n",
    "        \"question\": \"5. Which of the following is an assumption of Multinomial Logistic Regression?\",\n",
    "        \"options\": [\"There must be a linear relationship between independent variables and the log odds\", \"Observations should be independent of each other\", \"Residuals need to be normally distributed\", \"The model requires a large number of predictor variables\"],\n",
    "        \"answer\": \"Observations should be independent of each other\"\n",
    "    },\n",
    "    {\n",
    "        \"question\": \"6. What does the 'multinomial' in Multinomial Logistic Regression refer to?\",\n",
    "        \"options\": [\"Multiple linear relationships\", \"Multiple predictor variables\", \"Multiple outcome categories\", \"Multiple regression analyses performed simultaneously\"],\n",
    "        \"answer\": \"Multiple outcome categories\"\n",
    "    },\n",
    "    {\n",
    "        \"question\": \"7. Which method is commonly used to estimate the model parameters in Multinomial Logistic Regression?\",\n",
    "        \"options\": [\"Ordinary Least Squares\", \"Maximum Likelihood Estimation\", \"Bayesian Inference\", \"Ridge Regression\"],\n",
    "        \"answer\": \"Maximum Likelihood Estimation\"\n",
    "    },\n",
    "    {\n",
    "        \"question\": \"8. In the context of Multinomial Logistic Regression, what does 'overfitting' refer to?\",\n",
    "        \"options\": [\"When the model is too simple to capture the patterns in the data\", \"When the model captures the noise along with the underlying pattern in the data\", \"When there are too few predictor variables in the model\", \"When the model is trained on a very large dataset\"],\n",
    "        \"answer\": \"When the model captures the noise along with the underlying pattern in the data\"\n",
    "    },\n",
    "    {\n",
    "        \"question\": \"9. Which of the following metrics can be used to evaluate the performance of a Multinomial Logistic Regression model?\",\n",
    "        \"options\": [\"R-squared value\", \"Mean Squared Error\", \"Accuracy and Confusion Matrix\", \"P-value of the F-test\"],\n",
    "        \"answer\": \"Accuracy and Confusion Matrix\"\n",
    "    },\n",
    "    {\n",
    "        \"question\": \"10. Can Multinomial Logistic Regression be used for binary classification problems?\",\n",
    "        \"options\": [\"Yes, but it is not recommended\", \"No, it can only be used for multiclass problems\", \"Yes, it is the same as binary logistic regression\", \"No, because the algorithms are fundamentally different\"],\n",
    "        \"answer\": \"Yes, but it is not recommended\"\n",
    "    }\n",
    "]\n",
    "\n",
    "# Function to create a quiz question widget\n",
    "def create_quiz_question(question, options, answer):\n",
    "    question_label = widgets.Label(value=question)\n",
    "    options_widget = widgets.RadioButtons(options=options, description='Choices:')\n",
    "    submit_button = widgets.Button(description=\"Submit\")\n",
    "    output = widgets.Output()\n",
    "\n",
    "    def check_answer(b):\n",
    "        with output:\n",
    "            clear_output()\n",
    "            if options_widget.value == answer:\n",
    "                print(\"Correct!\")\n",
    "            else:\n",
    "                print(\"Incorrect. The correct answer is:\", answer)\n",
    "\n",
    "    submit_button.on_click(check_answer)\n",
    "    display(question_label, options_widget, submit_button, output)\n",
    "\n",
    "# Display each question\n",
    "for q in questions:\n",
    "    create_quiz_question(q[\"question\"], q[\"options\"], q[\"answer\"])\n"
   ]
  }
 ],
 "metadata": {
  "kernelspec": {
   "display_name": "Python 3",
   "language": "python",
   "name": "python3"
  },
  "language_info": {
   "codemirror_mode": {
    "name": "ipython",
    "version": 3
   },
   "file_extension": ".py",
   "mimetype": "text/x-python",
   "name": "python",
   "nbconvert_exporter": "python",
   "pygments_lexer": "ipython3",
   "version": "3.8.5"
  },
  "orig_nbformat": 4
 },
 "nbformat": 4,
 "nbformat_minor": 2
}
