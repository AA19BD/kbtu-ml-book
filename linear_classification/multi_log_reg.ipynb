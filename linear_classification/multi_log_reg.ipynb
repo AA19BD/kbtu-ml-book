{
 "cells": [
  {
   "cell_type": "markdown",
   "metadata": {},
   "source": [
    "# 1. Introduction to Multinomial Logistic Regression\n",
    "\n",
    "Logistic regression has been used in the field of biological research since the early twentieth century. Then it began to be used in many social sciences. Logistic regression is applicable when the dependent variable (target value) is categorical.\n",
    "\n",
    "For example, we need to predict:\n",
    "\n",
    "- whether the email is spam (1) or not (0);\n",
    "- whether the tumor is malignant (1) or benign (0).\n",
    "\n",
    "$\\boldsymbol Multinomial logistic regression $ is a statistical method used for classification problems where the outcome can take on more than two categories. It's an extension of binary logistic regression. The goal is to model the probabilities of the different possible outcomes of a categorically distributed dependent variable, given a set of independent variables.\n",
    "\n",
    "Let's look at the following examples:\n",
    "\n",
    "Example Scripts\n",
    "\n",
    "- Classification of Texts: Determining the topic of the text (for example, sports, politics, technology, art).\n",
    "\n",
    "- Medical Diagnosis: Classification of the type of disease (eg, infectious, inflammatory, genetic, metabolic).\n",
    "\n",
    "In each of these scenarios, the outcome is multiple categories, and multinomial logistic regression can be used to predict the probability of each category."
   ]
  },
  {
   "cell_type": "markdown",
   "metadata": {},
   "source": [
    "### Some Picture"
   ]
  },
  {
   "cell_type": "markdown",
   "metadata": {},
   "source": [
    "\n",
    "##### Data Structure  \n",
    "Let's imagine a data set $\\mathcal D$, where each element consists of a pair of feature vectors $\\boldsymbol x_i$ and a class label $y_i$:\n",
    "\n",
    "$$\n",
    "\\mathcal{D} = \\{(\\boldsymbol{x}_i, y_i)\\}_{i=1}^n \\quad \\text{where } \\boldsymbol{x}_i \\in \\mathbb{R}\n",
    "$$\n",
    "\n",
    "Здесь $\\mathcal Y$ — это множество возможных категорий.\n",
    "\n",
    "##### Probability Prediction\n",
    "Multinomial logistic regression predicts the probability of membership in each category:\n",
    "\n",
    "The predicted probability vector $\\boldsymbol{\\hat{y}}$ is defined as:\n",
    "\n",
    "$$\n",
    "\\boldsymbol{\\hat{y}} = (p_1, \\ldots, p_K), \\quad \\text{where } p_k > 0 \\text{ and } \\sum_{k=1}^K p_k = 1.\n",
    "$$\n",
    "\n",
    "\n",
    "##### Calculating Logits and Softmax Transformation\n",
    "Logits are calculated as a linear combination of the input features and then converted to probabilities using the softmax function:\n",
    "\n",
    "The logits $\\boldsymbol{z}$ are calculated as a linear combination of the input features $\\boldsymbol{x}$ and the weights $\\boldsymbol{w}_k$ for each class, and the predicted probability vector $\\boldsymbol{\\hat{y}}$ is obtained through the softmax function:\n",
    "\n",
    "$$\n",
    "z_k = \\boldsymbol{x}^\\top \\boldsymbol{w}_k, \\quad \\boldsymbol{\\hat{y}} = \\text{Softmax}(\\boldsymbol{z}) = \\left( \\frac{e^{z_1}}{\\sum_{k=1}^K e^{z_k}}, \\ldots , \\frac{e^{z_K}}{\\sum_{k=1}^K e^{z_k}} \\right)\n",
    "$$\n",
    "\n",
    "\n",
    "##### Class Selection\n",
    "The predicted class is given by the argument that maximizes the probabilities:\n",
    "\n",
    "$$\n",
    "\\text{Predicted class} = \\arg\\max_{1 \\leq k \\leq K} p_k\n",
    "$$\n",
    "\n",
    "##### Model parameters\n",
    "The weight matrix $\\boldsymbol{W}$ is defined as:\n",
    "\n",
    "$$\n",
    "\\boldsymbol{W} = [\\boldsymbol{w}_1 \\ldots \\boldsymbol{w}_K]\n",
    "$$"
   ]
  },
  {
   "cell_type": "markdown",
   "metadata": {},
   "source": [
    "### Quiz: Basic Concepts of Multinomial Logistic Regression\n"
   ]
  },
  {
   "cell_type": "code",
   "execution_count": 4,
   "metadata": {},
   "outputs": [
    {
     "data": {
      "application/vnd.jupyter.widget-view+json": {
       "model_id": "97953025b2114e92890e5333b6f29123",
       "version_major": 2,
       "version_minor": 0
      },
      "text/plain": [
       "Label(value='What is Multinomial Logistic Regression primarily used for?')"
      ]
     },
     "metadata": {},
     "output_type": "display_data"
    },
    {
     "data": {
      "application/vnd.jupyter.widget-view+json": {
       "model_id": "aa1cec4c0784400bb137e35df9d27134",
       "version_major": 2,
       "version_minor": 0
      },
      "text/plain": [
       "RadioButtons(description='Choices:', options=('Predicting continuous outcomes.', 'Classifying outcomes into on…"
      ]
     },
     "metadata": {},
     "output_type": "display_data"
    },
    {
     "data": {
      "application/vnd.jupyter.widget-view+json": {
       "model_id": "501b9f16840c41c396ef34c670c10f1b",
       "version_major": 2,
       "version_minor": 0
      },
      "text/plain": [
       "Button(description='Submit', style=ButtonStyle())"
      ]
     },
     "metadata": {},
     "output_type": "display_data"
    },
    {
     "data": {
      "application/vnd.jupyter.widget-view+json": {
       "model_id": "a93af14bbe29406f8d43086e227b7677",
       "version_major": 2,
       "version_minor": 0
      },
      "text/plain": [
       "Output()"
      ]
     },
     "metadata": {},
     "output_type": "display_data"
    },
    {
     "data": {
      "application/vnd.jupyter.widget-view+json": {
       "model_id": "28947f9b47e849f8a3e047f43ee2755f",
       "version_major": 2,
       "version_minor": 0
      },
      "text/plain": [
       "Label(value='Which function does Multinomial Logistic Regression use to model probabilities?')"
      ]
     },
     "metadata": {},
     "output_type": "display_data"
    },
    {
     "data": {
      "application/vnd.jupyter.widget-view+json": {
       "model_id": "48c93e45500244c9aeb0be9d31de2553",
       "version_major": 2,
       "version_minor": 0
      },
      "text/plain": [
       "RadioButtons(description='Choices:', options=('Linear function', 'Sigmoid function', 'Softmax function', 'Tang…"
      ]
     },
     "metadata": {},
     "output_type": "display_data"
    },
    {
     "data": {
      "application/vnd.jupyter.widget-view+json": {
       "model_id": "9bbcc437dee14e00808f983a87af159a",
       "version_major": 2,
       "version_minor": 0
      },
      "text/plain": [
       "Button(description='Submit', style=ButtonStyle())"
      ]
     },
     "metadata": {},
     "output_type": "display_data"
    },
    {
     "data": {
      "application/vnd.jupyter.widget-view+json": {
       "model_id": "53c135af6a3e4f3ea042a005c603ebbf",
       "version_major": 2,
       "version_minor": 0
      },
      "text/plain": [
       "Output()"
      ]
     },
     "metadata": {},
     "output_type": "display_data"
    },
    {
     "data": {
      "application/vnd.jupyter.widget-view+json": {
       "model_id": "6edea8f2a9164de8856b80314f1c822d",
       "version_major": 2,
       "version_minor": 0
      },
      "text/plain": [
       "Label(value='In Multinomial Logistic Regression, the outcome variable should be:')"
      ]
     },
     "metadata": {},
     "output_type": "display_data"
    },
    {
     "data": {
      "application/vnd.jupyter.widget-view+json": {
       "model_id": "afd64cd187484bf3a510ea7f075fe45c",
       "version_major": 2,
       "version_minor": 0
      },
      "text/plain": [
       "RadioButtons(description='Choices:', options=('Continuous', 'Ordinal', 'Nominal with two categories', 'Nominal…"
      ]
     },
     "metadata": {},
     "output_type": "display_data"
    },
    {
     "data": {
      "application/vnd.jupyter.widget-view+json": {
       "model_id": "1f36d2f2920d4319aab7c749ac596f51",
       "version_major": 2,
       "version_minor": 0
      },
      "text/plain": [
       "Button(description='Submit', style=ButtonStyle())"
      ]
     },
     "metadata": {},
     "output_type": "display_data"
    },
    {
     "data": {
      "application/vnd.jupyter.widget-view+json": {
       "model_id": "1a8ea87705824178ab80b1beb3f649c6",
       "version_major": 2,
       "version_minor": 0
      },
      "text/plain": [
       "Output()"
      ]
     },
     "metadata": {},
     "output_type": "display_data"
    }
   ],
   "source": [
    "import ipywidgets as widgets\n",
    "from IPython.display import display, clear_output\n",
    "\n",
    "questions = [\n",
    "    {\n",
    "        \"question\": \"1. What is Multinomial Logistic Regression primarily used for?\",\n",
    "        \"options\": [\"Predicting continuous outcomes.\", \"Classifying outcomes into one of two categories.\", \"Classifying outcomes into one of three or more categories.\", \"Estimating the relationships between continuous variables.\"],\n",
    "        \"answer\": \"Classifying outcomes into one of three or more categories.\"\n",
    "    },\n",
    "    {\n",
    "        \"question\": \"2. Which function does Multinomial Logistic Regression use to model probabilities?\",\n",
    "        \"options\": [\"Linear function\", \"Sigmoid function\", \"Softmax function\", \"Tangent function\"],\n",
    "        \"answer\": \"Softmax function\"\n",
    "    },\n",
    "    {\n",
    "        \"question\": \"3. In Multinomial Logistic Regression, the outcome variable should be:\",\n",
    "        \"options\": [\"Continuous\", \"Ordinal\", \"Nominal with two categories\", \"Nominal with more than two categories\"],\n",
    "        \"answer\": \"Nominal with more than two categories\"\n",
    "    },\n",
    "    {\n",
    "        \"question\": \"4. What is the main difference between Multinomial and Binary Logistic Regression?\",\n",
    "        \"options\": [\"The number of predictor variables\", \"The number of outcome categories\", \"The type of algorithms used for optimization\", \"The type of data used for the model\"],\n",
    "        \"answer\": \"The number of outcome categories\"\n",
    "    },\n",
    "    {\n",
    "        \"question\": \"5. Which of the following is an assumption of Multinomial Logistic Regression?\",\n",
    "        \"options\": [\"There must be a linear relationship between independent variables and the log odds\", \"Observations should be independent of each other\", \"Residuals need to be normally distributed\", \"The model requires a large number of predictor variables\"],\n",
    "        \"answer\": \"Observations should be independent of each other\"\n",
    "    },\n",
    "    {\n",
    "        \"question\": \"6. What does the 'multinomial' in Multinomial Logistic Regression refer to?\",\n",
    "        \"options\": [\"Multiple linear relationships\", \"Multiple predictor variables\", \"Multiple outcome categories\", \"Multiple regression analyses performed simultaneously\"],\n",
    "        \"answer\": \"Multiple outcome categories\"\n",
    "    },\n",
    "    {\n",
    "        \"question\": \"7. Which method is commonly used to estimate the model parameters in Multinomial Logistic Regression?\",\n",
    "        \"options\": [\"Ordinary Least Squares\", \"Maximum Likelihood Estimation\", \"Bayesian Inference\", \"Ridge Regression\"],\n",
    "        \"answer\": \"Maximum Likelihood Estimation\"\n",
    "    },\n",
    "    {\n",
    "        \"question\": \"8. In the context of Multinomial Logistic Regression, what does 'overfitting' refer to?\",\n",
    "        \"options\": [\"When the model is too simple to capture the patterns in the data\", \"When the model captures the noise along with the underlying pattern in the data\", \"When there are too few predictor variables in the model\", \"When the model is trained on a very large dataset\"],\n",
    "        \"answer\": \"When the model captures the noise along with the underlying pattern in the data\"\n",
    "    },\n",
    "    {\n",
    "        \"question\": \"9. Which of the following metrics can be used to evaluate the performance of a Multinomial Logistic Regression model?\",\n",
    "        \"options\": [\"R-squared value\", \"Mean Squared Error\", \"Accuracy and Confusion Matrix\", \"P-value of the F-test\"],\n",
    "        \"answer\": \"Accuracy and Confusion Matrix\"\n",
    "    },\n",
    "    {\n",
    "        \"question\": \"10. Can Multinomial Logistic Regression be used for binary classification problems?\",\n",
    "        \"options\": [\"Yes, but it is not recommended\", \"No, it can only be used for multiclass problems\", \"Yes, it is the same as binary logistic regression\", \"No, because the algorithms are fundamentally different\"],\n",
    "        \"answer\": \"Yes, but it is not recommended\"\n",
    "    }\n",
    "]\n",
    "\n",
    "# Function to create a quiz question widget\n",
    "def create_quiz_question(question, options, answer):\n",
    "    question_label = widgets.Label(value=question)\n",
    "    options_widget = widgets.RadioButtons(options=options, description='Choices:')\n",
    "    submit_button = widgets.Button(description=\"Submit\")\n",
    "    output = widgets.Output()\n",
    "\n",
    "    def check_answer(b):\n",
    "        with output:\n",
    "            clear_output()\n",
    "            if options_widget.value == answer:\n",
    "                print(\"Correct!\")\n",
    "            else:\n",
    "                print(\"Incorrect. The correct answer is:\", answer)\n",
    "\n",
    "    submit_button.on_click(check_answer)\n",
    "    display(question_label, options_widget, submit_button, output)\n",
    "\n",
    "# Display each question\n",
    "for q in questions:\n",
    "    create_quiz_question(q[\"question\"], q[\"options\"], q[\"answer\"])\n"
   ]
  }
 ],
 "metadata": {
  "kernelspec": {
   "display_name": "Python 3",
   "language": "python",
   "name": "python3"
  },
  "language_info": {
   "codemirror_mode": {
    "name": "ipython",
    "version": 3
   },
   "file_extension": ".py",
   "mimetype": "text/x-python",
   "name": "python",
   "nbconvert_exporter": "python",
   "pygments_lexer": "ipython3",
   "version": "3.8.5"
  },
  "orig_nbformat": 4
 },
 "nbformat": 4,
 "nbformat_minor": 2
}
