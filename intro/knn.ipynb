{
 "cells": [
  {
   "cell_type": "markdown",
   "metadata": {},
   "source": [
    "# k-NN\n",
    "\n",
    "## k-Nearest Neibors for Classification\n",
    "\n",
    "```{figure} https://cdn.analyticsvidhya.com/wp-content/uploads/2018/03/knn3.png\n",
    ":align: center\n",
    ":width: 400px\n",
    "```\n",
    "\n",
    "Given the training dataset $\\{(\\boldsymbol x_i, y_i)\\}_{i=1}^N$, how to classify a new object $\\boldsymbol x$?\n",
    "\n",
    "* Sort distances $\\rho (\\boldsymbol x_i, \\boldsymbol x)$ in increasing order:\n",
    "\n",
    "    $$\n",
    "    \\rho (\\boldsymbol x_{(1)}, \\boldsymbol x) \\leqslant \\rho (\\boldsymbol x_{(2)}, \\boldsymbol x) \\leqslant \\ldots \\leqslant \\rho (\\boldsymbol x_{(N)}, \\boldsymbol x) \n",
    "    $$\n",
    "\n",
    "* So $\\boldsymbol x_{(i)}$ is the $i$-th neighbor of the object $\\boldsymbol x$\n",
    "* Let $y_{(i)}$ be the label of $\\boldsymbol x_{(i)}$\n",
    "* Now the $k$-nearest neighbor looks at $k$ nearest neighbors to $\\boldsymbol x$ and assigns the most common label among these neigbors:\n",
    "$$\n",
    "    a_k(\\boldsymbol x) = \\arg\\max_{y\\in Y} \\sum\\limits_{i=1}^k [y = y_{(i)}]\n",
    "$$\n",
    "* Note that $a_1(\\boldsymbol x) = y_{(1)}$."
   ]
  }
 ],
 "metadata": {
  "language_info": {
   "name": "python"
  },
  "orig_nbformat": 4
 },
 "nbformat": 4,
 "nbformat_minor": 2
}
