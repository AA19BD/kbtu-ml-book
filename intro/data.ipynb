{
 "cells": [
  {
   "cell_type": "markdown",
   "metadata": {},
   "source": [
    "# Data\n",
    "\n",
    "```{epigraph}\n",
    "In God we trust, all others bring data.\n",
    "\n",
    "-- William Edwards Deming \n",
    "```\n",
    "\n",
    "**Data** is a broad term that refers to facts, statistics, or information in a raw, unprocessed, or organized form. Data can take many forms, including numbers, text, images, audio recordings, and more.\n",
    "\n",
    "## Data processing\n",
    "\n",
    "The process of preparing raw data for machine learning involves several stages of data processing and manipulation to transform it into a structured and suitable format. The most common stages are:\n",
    "\n",
    "* data collection;\n",
    "* data cleaning:\n",
    "    * handling missing values;\n",
    "    * remove duplicates;\n",
    "    * outlier detection;\n",
    "    * data type conversions;\n",
    "* data exploration and visualization;\n",
    "* feature engineering.\n",
    "\n",
    "The result of these manipulation is what is usually called a **dataset**: a specific collection of data that is organized and structured in a way that makes it suitable for analysis, processing, or machine learning tasks. \n",
    "\n",
    "## Data types\n",
    "\n",
    "```{image} https://i.ytimg.com/vi/7bsNWq2A5gI/hqdefault.jpg\n",
    ":alt: data-types\n",
    ":class: bg-primary mb-1\n",
    ":width: 500px\n",
    ":align: center\n",
    "```\n",
    "\n",
    "### Numerical continuous data\n",
    "\n",
    "Continuous data can take on any real[^real] value within a range and often involves measurements. For instance:\n",
    "\n",
    "* height\n",
    "* temperature\n",
    "* distance\n",
    "* time\n",
    "\n",
    "### Numerical discrete data\n",
    "\n",
    "Discrete data consists of distinct, separate values and often involves counts or categorizations, e.g.\n",
    "\n",
    "* number of children\n",
    "* shoe size\n",
    "* test scores\n",
    "\n",
    "```{important} \n",
    "The distiction between continuous and discrete data can be occasionally ambiguous. For example, `age` in years probably should be considered as a discrete variable. However, if we allow fractional ages, e.g. $30.2$ years, it becomes a continuous variable.\n",
    "```\n",
    "\n",
    "### Categorical nominal variables\n",
    "\n",
    "Nominal data consists of categories with no inherent order or ranking. For example:\n",
    "\n",
    "* colors\n",
    "* fruits\n",
    "* gender\n",
    "* countries\n",
    "\n",
    "### Categorical ordinal variables\n",
    "\n",
    "Ordinal data includes categories with a meaningful order or ranking. Examples:\n",
    "\n",
    "* education level\n",
    "* customer satisfaction\n",
    "* movie rating\n",
    "* top-10 items suggested by a search engine\n",
    "\n",
    "[^real]: In fact, only a finite amount of rational numbers is used in practice. However, the real numbers $\\mathbb R$ so firmly took place of the default number set that it seems unreasonable to make any attempts to substitute them by something more realistic.\n",
    "\n",
    "\n",
    "## Examples of datasets\n",
    "\n",
    "There are several way how you can import some famous datasets in Python. For instance, we can use helpers from [sklearn.datasets](https://scikit-learn.org/stable/modules/classes.html#module-sklearn.datasets) module."
   ]
  },
  {
   "cell_type": "code",
   "execution_count": 15,
   "metadata": {},
   "outputs": [
    {
     "data": {
      "text/plain": [
       "array(['setosa', 'versicolor', 'virginica'], dtype='<U10')"
      ]
     },
     "execution_count": 15,
     "metadata": {},
     "output_type": "execute_result"
    }
   ],
   "source": [
    "from sklearn.datasets import load_iris\n",
    "data = load_iris()\n",
    "data.target_names"
   ]
  }
 ],
 "metadata": {
  "kernelspec": {
   "display_name": "Python 3",
   "language": "python",
   "name": "python3"
  },
  "language_info": {
   "codemirror_mode": {
    "name": "ipython",
    "version": 3
   },
   "file_extension": ".py",
   "mimetype": "text/x-python",
   "name": "python",
   "nbconvert_exporter": "python",
   "pygments_lexer": "ipython3",
   "version": "3.11.4"
  },
  "orig_nbformat": 4
 },
 "nbformat": 4,
 "nbformat_minor": 2
}
