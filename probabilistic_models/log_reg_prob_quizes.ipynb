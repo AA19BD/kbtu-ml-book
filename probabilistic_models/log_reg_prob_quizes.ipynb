{
 "cells": [
  {
   "cell_type": "code",
   "execution_count": 37,
   "id": "initial_id",
   "metadata": {
    "collapsed": true,
    "ExecuteTime": {
     "end_time": "2023-12-02T16:14:10.459162300Z",
     "start_time": "2023-12-02T16:14:10.426989100Z"
    }
   },
   "outputs": [],
   "source": [
    "import json\n",
    "from base64 import b64encode\n",
    "from jupyterquiz import display_quiz\n",
    "\n",
    "def get_spanned_encoded_q(q, q_name):\n",
    "    byte_code = b64encode(bytes(json.dumps(q), 'utf8'))\n",
    "    return f'<span style=\"display:none\" id=\"{q_name}\">{byte_code.decode()}</span>'"
   ]
  },
  {
   "cell_type": "code",
   "execution_count": 38,
   "outputs": [],
   "source": [
    "q1 = [{\n",
    "        \"question\": \"Enter the value of log-odds:\",\n",
    "        \"type\": \"numeric\",\n",
    "        \"precision\": 1,\n",
    "        \"answers\": [\n",
    "            {\n",
    "                \"type\": \"value\",\n",
    "                \"value\": 1,\n",
    "                \"correct\": True,\n",
    "                \"feedback\": \"Correct.\"\n",
    "            },\n",
    "            {\n",
    "                \"type\": \"default\",\n",
    "                \"feedback\": \"Try again.\"\n",
    "            }\n",
    "        ]\n",
    "    }]"
   ],
   "metadata": {
    "collapsed": false,
    "ExecuteTime": {
     "end_time": "2023-12-02T16:14:10.461106500Z",
     "start_time": "2023-12-02T16:14:10.433826200Z"
    }
   },
   "id": "b42d72dc43c6b2f9"
  },
  {
   "cell_type": "code",
   "execution_count": 39,
   "outputs": [
    {
     "data": {
      "text/plain": "'<span style=\"display:none\" id=\"q1\">W3sicXVlc3Rpb24iOiAiRW50ZXIgdGhlIHZhbHVlIG9mIGxvZy1vZGRzOiIsICJ0eXBlIjogIm51bWVyaWMiLCAicHJlY2lzaW9uIjogMSwgImFuc3dlcnMiOiBbeyJ0eXBlIjogInZhbHVlIiwgInZhbHVlIjogMSwgImNvcnJlY3QiOiB0cnVlLCAiZmVlZGJhY2siOiAiQ29ycmVjdC4ifSwgeyJ0eXBlIjogImRlZmF1bHQiLCAiZmVlZGJhY2siOiAiVHJ5IGFnYWluLiJ9XX1d</span>'"
     },
     "execution_count": 39,
     "metadata": {},
     "output_type": "execute_result"
    }
   ],
   "source": [
    "get_spanned_encoded_q(q1, \"q1\")"
   ],
   "metadata": {
    "collapsed": false,
    "ExecuteTime": {
     "end_time": "2023-12-02T16:14:10.513334200Z",
     "start_time": "2023-12-02T16:14:10.438338500Z"
    }
   },
   "id": "8252e001b97172c6"
  },
  {
   "cell_type": "code",
   "execution_count": 40,
   "outputs": [],
   "source": [
    "\n",
    "q2 = [\n",
    "{\n",
    "        \"question\": \"Enter the value of logistic regression (will be checked to 3 decimal places):\",\n",
    "        \"type\": \"numeric\",\n",
    "        \"precision\": 3,\n",
    "        \"answers\": [\n",
    "            {\n",
    "                \"type\": \"value\",\n",
    "                \"value\": 0.731,\n",
    "                \"correct\": True,\n",
    "                \"feedback\": \"Correct.\"\n",
    "            },\n",
    "            {\n",
    "                \"type\": \"range\",\n",
    "                \"range\": [ 0.731000, 0.731400], \n",
    "                \"correct\": True,\n",
    "                \"feedback\": \"True to 3 decimal places, but answer is X.XXX\"\n",
    "            },\n",
    "            {\n",
    "                \"type\": \"range\",\n",
    "                \"range\": [ -100000000, -0.000001], \n",
    "                \"correct\": False,\n",
    "                \"feedback\": \"The range of logistic regression is in [0 , 1]. Try again.\"\n",
    "            },\n",
    "            {\n",
    "                \"type\": \"range\",\n",
    "                \"range\": [  1.000001, 100000000], \n",
    "                \"correct\": False,\n",
    "                \"feedback\": \"The range of logistic regression is in [0 , 1]. Try again.\"\n",
    "            },\n",
    "            {\n",
    "                \"type\": \"default\",\n",
    "                \"feedback\": \"Try again.\"\n",
    "            }\n",
    "        ]\n",
    "    }\n",
    "]"
   ],
   "metadata": {
    "collapsed": false,
    "ExecuteTime": {
     "end_time": "2023-12-02T16:14:10.514416700Z",
     "start_time": "2023-12-02T16:14:10.448281600Z"
    }
   },
   "id": "721d41abf144a11a"
  },
  {
   "cell_type": "code",
   "execution_count": 41,
   "outputs": [
    {
     "data": {
      "text/plain": "'<span style=\"display:none\" id=\"q2\">W3sicXVlc3Rpb24iOiAiRW50ZXIgdGhlIHZhbHVlIG9mIGxvZ2lzdGljIHJlZ3Jlc3Npb24gKHdpbGwgYmUgY2hlY2tlZCB0byAzIGRlY2ltYWwgcGxhY2VzKToiLCAidHlwZSI6ICJudW1lcmljIiwgInByZWNpc2lvbiI6IDMsICJhbnN3ZXJzIjogW3sidHlwZSI6ICJ2YWx1ZSIsICJ2YWx1ZSI6IDAuNzMxLCAiY29ycmVjdCI6IHRydWUsICJmZWVkYmFjayI6ICJDb3JyZWN0LiJ9LCB7InR5cGUiOiAicmFuZ2UiLCAicmFuZ2UiOiBbMC43MzEsIDAuNzMxNF0sICJjb3JyZWN0IjogdHJ1ZSwgImZlZWRiYWNrIjogIlRydWUgdG8gMyBkZWNpbWFsIHBsYWNlcywgYnV0IGFuc3dlciBpcyBYLlhYWCJ9LCB7InR5cGUiOiAicmFuZ2UiLCAicmFuZ2UiOiBbLTEwMDAwMDAwMCwgLTFlLTA2XSwgImNvcnJlY3QiOiBmYWxzZSwgImZlZWRiYWNrIjogIlRoZSByYW5nZSBvZiBsb2dpc3RpYyByZWdyZXNzaW9uIGlzIGluIFswICwgMV0uIFRyeSBhZ2Fpbi4ifSwgeyJ0eXBlIjogInJhbmdlIiwgInJhbmdlIjogWzEuMDAwMDAxLCAxMDAwMDAwMDBdLCAiY29ycmVjdCI6IGZhbHNlLCAiZmVlZGJhY2siOiAiVGhlIHJhbmdlIG9mIGxvZ2lzdGljIHJlZ3Jlc3Npb24gaXMgaW4gWzAgLCAxXS4gVHJ5IGFnYWluLiJ9LCB7InR5cGUiOiAiZGVmYXVsdCIsICJmZWVkYmFjayI6ICJUcnkgYWdhaW4uIn1dfV0=</span>'"
     },
     "execution_count": 41,
     "metadata": {},
     "output_type": "execute_result"
    }
   ],
   "source": [
    "get_spanned_encoded_q(q2, \"q2\")"
   ],
   "metadata": {
    "collapsed": false,
    "ExecuteTime": {
     "end_time": "2023-12-02T16:14:10.515416600Z",
     "start_time": "2023-12-02T16:14:10.457491600Z"
    }
   },
   "id": "ab4669713e3b6410"
  },
  {
   "cell_type": "code",
   "execution_count": 42,
   "outputs": [],
   "source": [
    "q3=[{\n",
    "        \"question\": \"Where can logistic regression be used?\",\n",
    "        \"type\": \"many_choice\",\n",
    "        \"answers\": [\n",
    "            {\n",
    "                \"answer\": \"Spam detection\",\n",
    "                \"correct\": True,\n",
    "                \"feedback\": \"Correct.\"\n",
    "            },\n",
    "            {\n",
    "                \"answer\": \"Credit scoring\",\n",
    "                \"correct\": True,\n",
    "                \"feedback\": \"Correct.\"\n",
    "            },\n",
    "            {\n",
    "                \"answer\": \"Medicine\",\n",
    "                \"correct\": True,\n",
    "                \"feedback\": \"Correct.\"\n",
    "            }\n",
    "        ]\n",
    "    }]"
   ],
   "metadata": {
    "collapsed": false,
    "ExecuteTime": {
     "end_time": "2023-12-02T16:14:10.515416600Z",
     "start_time": "2023-12-02T16:14:10.467070300Z"
    }
   },
   "id": "124216335fb6b176"
  },
  {
   "cell_type": "code",
   "execution_count": 43,
   "outputs": [
    {
     "data": {
      "text/plain": "'<span style=\"display:none\" id=\"q3\">W3sicXVlc3Rpb24iOiAiV2hlcmUgY2FuIGxvZ2lzdGljIHJlZ3Jlc3Npb24gYmUgdXNlZD8iLCAidHlwZSI6ICJtYW55X2Nob2ljZSIsICJhbnN3ZXJzIjogW3siYW5zd2VyIjogIlNwYW0gZGV0ZWN0aW9uIiwgImNvcnJlY3QiOiB0cnVlLCAiZmVlZGJhY2siOiAiQ29ycmVjdC4ifSwgeyJhbnN3ZXIiOiAiQ3JlZGl0IHNjb3JpbmciLCAiY29ycmVjdCI6IHRydWUsICJmZWVkYmFjayI6ICJDb3JyZWN0LiJ9LCB7ImFuc3dlciI6ICJNZWRpY2luZSIsICJjb3JyZWN0IjogdHJ1ZSwgImZlZWRiYWNrIjogIkNvcnJlY3QuIn1dfV0=</span>'"
     },
     "execution_count": 43,
     "metadata": {},
     "output_type": "execute_result"
    }
   ],
   "source": [
    "get_spanned_encoded_q(q3, \"q3\")"
   ],
   "metadata": {
    "collapsed": false,
    "ExecuteTime": {
     "end_time": "2023-12-02T16:14:10.515416600Z",
     "start_time": "2023-12-02T16:14:10.469590Z"
    }
   },
   "id": "532ee50c38479c72"
  },
  {
   "cell_type": "code",
   "execution_count": 44,
   "outputs": [],
   "source": [
    "q4=[{\n",
    "        \"question\": \"What is a range value of logistic regression?\",\n",
    "        \"type\": \"many_choice\",\n",
    "        \"answers\": [\n",
    "            {\n",
    "                \"answer\": \"[-1 , 0]\",\n",
    "                \"correct\": False,\n",
    "                \"feedback\": \"Incorrect\"\n",
    "            },\n",
    "            {\n",
    "                \"answer\": \"[0 , 1]\",\n",
    "                \"correct\": True,\n",
    "                \"feedback\": \"Correct.\"\n",
    "            },\n",
    "            {\n",
    "                \"answer\": \"[-∞, +∞]\",\n",
    "                \"correct\": False,\n",
    "                \"feedback\": \"Incorrect\"\n",
    "            }\n",
    "        ]\n",
    "    }]"
   ],
   "metadata": {
    "collapsed": false,
    "ExecuteTime": {
     "end_time": "2023-12-02T16:14:10.516396200Z",
     "start_time": "2023-12-02T16:14:10.476513300Z"
    }
   },
   "id": "6aaf0dd1519ff70a"
  },
  {
   "cell_type": "code",
   "execution_count": 45,
   "outputs": [
    {
     "data": {
      "text/plain": "'<span style=\"display:none\" id=\"q4\">W3sicXVlc3Rpb24iOiAiV2hhdCBpcyBhIHJhbmdlIHZhbHVlIG9mIGxvZ2lzdGljIHJlZ3Jlc3Npb24/IiwgInR5cGUiOiAibWFueV9jaG9pY2UiLCAiYW5zd2VycyI6IFt7ImFuc3dlciI6ICJbLTEgLCAwXSIsICJjb3JyZWN0IjogZmFsc2UsICJmZWVkYmFjayI6ICJJbmNvcnJlY3QifSwgeyJhbnN3ZXIiOiAiWzAgLCAxXSIsICJjb3JyZWN0IjogdHJ1ZSwgImZlZWRiYWNrIjogIkNvcnJlY3QuIn0sIHsiYW5zd2VyIjogIlstXHUyMjFlLCArXHUyMjFlXSIsICJjb3JyZWN0IjogZmFsc2UsICJmZWVkYmFjayI6ICJJbmNvcnJlY3QifV19XQ==</span>'"
     },
     "execution_count": 45,
     "metadata": {},
     "output_type": "execute_result"
    }
   ],
   "source": [
    "get_spanned_encoded_q(q4, \"q4\")"
   ],
   "metadata": {
    "collapsed": false,
    "ExecuteTime": {
     "end_time": "2023-12-02T16:14:10.516396200Z",
     "start_time": "2023-12-02T16:14:10.484952500Z"
    }
   },
   "id": "1cf002b68da2c900"
  },
  {
   "cell_type": "code",
   "execution_count": 56,
   "outputs": [],
   "source": [
    "q5=[{\n",
    "        \"question\": \"In the above question, which function makes 'p' between (0,1)?\",\n",
    "        \"type\": \"many_choice\",\n",
    "        \"answers\": [\n",
    "            {\n",
    "                \"answer\": \"Logistic function\",\n",
    "              \"correct\": True,\n",
    "              \"feedback\": \"Correct.\"\n",
    "            },\n",
    "            {\n",
    "              \"answer\": \"Log likelihood function\",\n",
    "              \"correct\": False,\n",
    "              \"feedback\": \"Incorrect.\"\n",
    "            },\n",
    "            {\n",
    "              \"answer\": \"Mixture of both\",\n",
    "              \"correct\": False,\n",
    "              \"feedback\": \"Incorrect.\"\n",
    "            },\n",
    "            {\n",
    "              \"answer\": \"None of them\",\n",
    "              \"correct\": False,\n",
    "          \"feedback\": \"Incorrect.\"\n",
    "            }\n",
    "        ]\n",
    "    }]"
   ],
   "metadata": {
    "collapsed": false,
    "ExecuteTime": {
     "end_time": "2023-12-02T16:19:20.491349500Z",
     "start_time": "2023-12-02T16:19:20.477261200Z"
    }
   },
   "id": "7ef2e1811be85f24"
  },
  {
   "cell_type": "code",
   "execution_count": 57,
   "outputs": [
    {
     "data": {
      "text/plain": "'<span style=\"display:none\" id=\"q5\">W3sicXVlc3Rpb24iOiAiSW4gdGhlIGFib3ZlIHF1ZXN0aW9uLCB3aGljaCBmdW5jdGlvbiBtYWtlcyAncCcgYmV0d2VlbiAoMCwxKT8iLCAidHlwZSI6ICJtYW55X2Nob2ljZSIsICJhbnN3ZXJzIjogW3siYW5zd2VyIjogIkxvZ2lzdGljIGZ1bmN0aW9uIiwgImNvcnJlY3QiOiB0cnVlLCAiZmVlZGJhY2siOiAiQ29ycmVjdC4ifSwgeyJhbnN3ZXIiOiAiTG9nIGxpa2VsaWhvb2QgZnVuY3Rpb24iLCAiY29ycmVjdCI6IGZhbHNlLCAiZmVlZGJhY2siOiAiSW5jb3JyZWN0LiJ9LCB7ImFuc3dlciI6ICJNaXh0dXJlIG9mIGJvdGgiLCAiY29ycmVjdCI6IGZhbHNlLCAiZmVlZGJhY2siOiAiSW5jb3JyZWN0LiJ9LCB7ImFuc3dlciI6ICJOb25lIG9mIHRoZW0iLCAiY29ycmVjdCI6IGZhbHNlLCAiZmVlZGJhY2siOiAiSW5jb3JyZWN0LiJ9XX1d</span>'"
     },
     "execution_count": 57,
     "metadata": {},
     "output_type": "execute_result"
    }
   ],
   "source": [
    "get_spanned_encoded_q(q5, \"q5\")"
   ],
   "metadata": {
    "collapsed": false,
    "ExecuteTime": {
     "end_time": "2023-12-02T16:19:25.882136900Z",
     "start_time": "2023-12-02T16:19:25.878617600Z"
    }
   },
   "id": "8ee53ac23a445758"
  },
  {
   "cell_type": "code",
   "execution_count": 47,
   "outputs": [],
   "source": [],
   "metadata": {
    "collapsed": false,
    "ExecuteTime": {
     "end_time": "2023-12-02T16:14:10.517395900Z",
     "start_time": "2023-12-02T16:14:10.504278200Z"
    }
   },
   "id": "916c805ce1d1ee79"
  }
 ],
 "metadata": {
  "kernelspec": {
   "display_name": "Python 3",
   "language": "python",
   "name": "python3"
  },
  "language_info": {
   "codemirror_mode": {
    "name": "ipython",
    "version": 2
   },
   "file_extension": ".py",
   "mimetype": "text/x-python",
   "name": "python",
   "nbconvert_exporter": "python",
   "pygments_lexer": "ipython2",
   "version": "2.7.6"
  }
 },
 "nbformat": 4,
 "nbformat_minor": 5
}
