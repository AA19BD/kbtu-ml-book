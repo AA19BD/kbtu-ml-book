{
 "cells": [
  {
   "cell_type": "markdown",
   "id": "f3064898-d081-4dec-85ae-ec5c8391a096",
   "metadata": {},
   "source": [
    "# Bayesian inference\n",
    " \n",
    "Suppose that we fit a model with parameters $\\boldsymbol w$ to the dataset $\\boldsymbol D = (\\boldsymbol X, \\boldsymbol y)$. According to the Bayes formula the posterior distribution\n",
    "\n",
    "$$\n",
    "    p(\\boldsymbol w \\vert \\boldsymbol X, \\boldsymbol y) \\propto p(\\boldsymbol y \\vert \\boldsymbol X, \\boldsymbol w) p(\\boldsymbol w).\n",
    "$$\n",
    "\n",
    "This is also written as\n",
    "\n",
    "$$\n",
    "    \\mathrm{Posterior} = \\frac{\\mathrm{Likelihood}\\times \\mathrm{Prior}}{\\mathrm{Evidence}}\n",
    "$$\n",
    "\n",
    "We are particularly interested in the posterior distribution because it allows us to make predictions.\n",
    "\n",
    "**Q**. How to calculate evidence?"
   ]
  },
  {
   "cell_type": "markdown",
   "id": "a1dfd712",
   "metadata": {},
   "source": [
    "## Conjugate distributions"
   ]
  },
  {
   "cell_type": "markdown",
   "metadata": {},
   "source": []
  },
  {
   "cell_type": "markdown",
   "id": "f9874a31-656b-4975-b276-e78f73877ff3",
   "metadata": {},
   "source": [
    "## Bayes rule\n",
    "\n",
    "Since \n",
    "\n",
    "$$\n",
    "p(\\boldsymbol x , y) = p(\\boldsymbol x \\vert y) p(y) = p(y \\vert \\boldsymbol x) p(\\boldsymbol x),\n",
    "$$\n",
    "\n",
    "we have\n",
    "\n",
    "$$\n",
    "    p(y \\vert \\boldsymbol x) = \\frac{p(\\boldsymbol x \\vert y) p(y)}{p(\\boldsymbol x)} = \n",
    "     \\frac{p(\\boldsymbol x \\vert y)p(y)}{\\int p(\\boldsymbol x \\vert y) p(y)\\,dy}.\n",
    "$$\n",
    "\n"
   ]
  },
  {
   "cell_type": "code",
   "execution_count": null,
   "metadata": {},
   "outputs": [],
   "source": []
  },
  {
   "cell_type": "markdown",
   "metadata": {},
   "source": [
    "### Discrete likelihood"
   ]
  },
  {
   "cell_type": "markdown",
   "metadata": {},
   "source": [
    "Example with soccer dataset https://www.kaggle.com/datasets/irkaal/english-premier-league-results"
   ]
  },
  {
   "cell_type": "code",
   "execution_count": 99,
   "metadata": {},
   "outputs": [],
   "source": [
    "import numpy as np\n",
    "import matplotlib.pyplot as plt\n",
    "from scipy.stats import beta, binom\n",
    "import pandas as pd"
   ]
  },
  {
   "cell_type": "markdown",
   "metadata": {},
   "source": [
    "Lets look at the data. The main columns that we'll work are **Season** and **FTR = Full Time Result (H=Home Win, D=Draw, A=Away Win)** "
   ]
  },
  {
   "cell_type": "code",
   "execution_count": 100,
   "metadata": {},
   "outputs": [
    {
     "data": {
      "text/html": [
       "<div>\n",
       "<style scoped>\n",
       "    .dataframe tbody tr th:only-of-type {\n",
       "        vertical-align: middle;\n",
       "    }\n",
       "\n",
       "    .dataframe tbody tr th {\n",
       "        vertical-align: top;\n",
       "    }\n",
       "\n",
       "    .dataframe thead th {\n",
       "        text-align: right;\n",
       "    }\n",
       "</style>\n",
       "<table border=\"1\" class=\"dataframe\">\n",
       "  <thead>\n",
       "    <tr style=\"text-align: right;\">\n",
       "      <th></th>\n",
       "      <th>Season</th>\n",
       "      <th>DateTime</th>\n",
       "      <th>HomeTeam</th>\n",
       "      <th>AwayTeam</th>\n",
       "      <th>FTHG</th>\n",
       "      <th>FTAG</th>\n",
       "      <th>FTR</th>\n",
       "      <th>HTHG</th>\n",
       "      <th>HTAG</th>\n",
       "      <th>HTR</th>\n",
       "      <th>...</th>\n",
       "      <th>HST</th>\n",
       "      <th>AST</th>\n",
       "      <th>HC</th>\n",
       "      <th>AC</th>\n",
       "      <th>HF</th>\n",
       "      <th>AF</th>\n",
       "      <th>HY</th>\n",
       "      <th>AY</th>\n",
       "      <th>HR</th>\n",
       "      <th>AR</th>\n",
       "    </tr>\n",
       "  </thead>\n",
       "  <tbody>\n",
       "    <tr>\n",
       "      <th>11108</th>\n",
       "      <td>2021-22</td>\n",
       "      <td>2022-04-09T17:30:00Z</td>\n",
       "      <td>Aston Villa</td>\n",
       "      <td>Tottenham</td>\n",
       "      <td>0</td>\n",
       "      <td>4</td>\n",
       "      <td>A</td>\n",
       "      <td>0.0</td>\n",
       "      <td>1.0</td>\n",
       "      <td>A</td>\n",
       "      <td>...</td>\n",
       "      <td>8.0</td>\n",
       "      <td>5.0</td>\n",
       "      <td>9.0</td>\n",
       "      <td>3.0</td>\n",
       "      <td>12.0</td>\n",
       "      <td>14.0</td>\n",
       "      <td>2.0</td>\n",
       "      <td>3.0</td>\n",
       "      <td>0.0</td>\n",
       "      <td>0.0</td>\n",
       "    </tr>\n",
       "    <tr>\n",
       "      <th>11109</th>\n",
       "      <td>2021-22</td>\n",
       "      <td>2022-04-10T14:00:00Z</td>\n",
       "      <td>Brentford</td>\n",
       "      <td>West Ham</td>\n",
       "      <td>2</td>\n",
       "      <td>0</td>\n",
       "      <td>H</td>\n",
       "      <td>0.0</td>\n",
       "      <td>0.0</td>\n",
       "      <td>D</td>\n",
       "      <td>...</td>\n",
       "      <td>7.0</td>\n",
       "      <td>1.0</td>\n",
       "      <td>4.0</td>\n",
       "      <td>6.0</td>\n",
       "      <td>2.0</td>\n",
       "      <td>6.0</td>\n",
       "      <td>0.0</td>\n",
       "      <td>1.0</td>\n",
       "      <td>0.0</td>\n",
       "      <td>0.0</td>\n",
       "    </tr>\n",
       "    <tr>\n",
       "      <th>11110</th>\n",
       "      <td>2021-22</td>\n",
       "      <td>2022-04-10T14:00:00Z</td>\n",
       "      <td>Leicester</td>\n",
       "      <td>Crystal Palace</td>\n",
       "      <td>2</td>\n",
       "      <td>1</td>\n",
       "      <td>H</td>\n",
       "      <td>2.0</td>\n",
       "      <td>0.0</td>\n",
       "      <td>H</td>\n",
       "      <td>...</td>\n",
       "      <td>3.0</td>\n",
       "      <td>3.0</td>\n",
       "      <td>3.0</td>\n",
       "      <td>4.0</td>\n",
       "      <td>11.0</td>\n",
       "      <td>12.0</td>\n",
       "      <td>1.0</td>\n",
       "      <td>1.0</td>\n",
       "      <td>0.0</td>\n",
       "      <td>0.0</td>\n",
       "    </tr>\n",
       "    <tr>\n",
       "      <th>11111</th>\n",
       "      <td>2021-22</td>\n",
       "      <td>2022-04-10T14:00:00Z</td>\n",
       "      <td>Norwich</td>\n",
       "      <td>Burnley</td>\n",
       "      <td>2</td>\n",
       "      <td>0</td>\n",
       "      <td>H</td>\n",
       "      <td>1.0</td>\n",
       "      <td>0.0</td>\n",
       "      <td>H</td>\n",
       "      <td>...</td>\n",
       "      <td>6.0</td>\n",
       "      <td>4.0</td>\n",
       "      <td>6.0</td>\n",
       "      <td>7.0</td>\n",
       "      <td>12.0</td>\n",
       "      <td>10.0</td>\n",
       "      <td>1.0</td>\n",
       "      <td>1.0</td>\n",
       "      <td>0.0</td>\n",
       "      <td>0.0</td>\n",
       "    </tr>\n",
       "    <tr>\n",
       "      <th>11112</th>\n",
       "      <td>2021-22</td>\n",
       "      <td>2022-04-10T16:30:00Z</td>\n",
       "      <td>Man City</td>\n",
       "      <td>Liverpool</td>\n",
       "      <td>2</td>\n",
       "      <td>2</td>\n",
       "      <td>D</td>\n",
       "      <td>2.0</td>\n",
       "      <td>1.0</td>\n",
       "      <td>H</td>\n",
       "      <td>...</td>\n",
       "      <td>5.0</td>\n",
       "      <td>4.0</td>\n",
       "      <td>4.0</td>\n",
       "      <td>1.0</td>\n",
       "      <td>9.0</td>\n",
       "      <td>11.0</td>\n",
       "      <td>1.0</td>\n",
       "      <td>4.0</td>\n",
       "      <td>0.0</td>\n",
       "      <td>0.0</td>\n",
       "    </tr>\n",
       "  </tbody>\n",
       "</table>\n",
       "<p>5 rows × 23 columns</p>\n",
       "</div>"
      ],
      "text/plain": [
       "        Season              DateTime     HomeTeam        AwayTeam  FTHG  FTAG  \\\n",
       "11108  2021-22  2022-04-09T17:30:00Z  Aston Villa       Tottenham     0     4   \n",
       "11109  2021-22  2022-04-10T14:00:00Z    Brentford        West Ham     2     0   \n",
       "11110  2021-22  2022-04-10T14:00:00Z    Leicester  Crystal Palace     2     1   \n",
       "11111  2021-22  2022-04-10T14:00:00Z      Norwich         Burnley     2     0   \n",
       "11112  2021-22  2022-04-10T16:30:00Z     Man City       Liverpool     2     2   \n",
       "\n",
       "      FTR  HTHG  HTAG HTR  ...  HST  AST   HC   AC    HF    AF   HY   AY   HR  \\\n",
       "11108   A   0.0   1.0   A  ...  8.0  5.0  9.0  3.0  12.0  14.0  2.0  3.0  0.0   \n",
       "11109   H   0.0   0.0   D  ...  7.0  1.0  4.0  6.0   2.0   6.0  0.0  1.0  0.0   \n",
       "11110   H   2.0   0.0   H  ...  3.0  3.0  3.0  4.0  11.0  12.0  1.0  1.0  0.0   \n",
       "11111   H   1.0   0.0   H  ...  6.0  4.0  6.0  7.0  12.0  10.0  1.0  1.0  0.0   \n",
       "11112   D   2.0   1.0   H  ...  5.0  4.0  4.0  1.0   9.0  11.0  1.0  4.0  0.0   \n",
       "\n",
       "        AR  \n",
       "11108  0.0  \n",
       "11109  0.0  \n",
       "11110  0.0  \n",
       "11111  0.0  \n",
       "11112  0.0  \n",
       "\n",
       "[5 rows x 23 columns]"
      ]
     },
     "execution_count": 100,
     "metadata": {},
     "output_type": "execute_result"
    }
   ],
   "source": [
    "df = pd.read_csv(\"dataset_for_bayes_inference/results.csv\", encoding='latin-1')\n",
    "df.tail()"
   ]
  },
  {
   "cell_type": "markdown",
   "metadata": {},
   "source": [
    "We will select matches of Home Teams (local teams) from 2015 season to 2020 and try to observe new data which will be matches from 2020-2021 season"
   ]
  },
  {
   "cell_type": "code",
   "execution_count": 101,
   "metadata": {},
   "outputs": [
    {
     "name": "stdout",
     "output_type": "stream",
     "text": [
      "Seasons from 2015 to 2020:  1900\n"
     ]
    }
   ],
   "source": [
    "selected_matches = df.query(\"Season in ['2015-16', '2016-17','2017-18', '2018-19', '2019-20']\")\n",
    "selected_matches_number = len(selected_matches)\n",
    "print(\"Seasons from 2015 to 2020: \",selected_matches_number)"
   ]
  },
  {
   "cell_type": "markdown",
   "metadata": {},
   "source": [
    "As a prior belief will be a win rate of the selected matches"
   ]
  },
  {
   "cell_type": "code",
   "execution_count": 102,
   "metadata": {},
   "outputs": [
    {
     "name": "stdout",
     "output_type": "stream",
     "text": [
      "Win rate:  0.46\n"
     ]
    }
   ],
   "source": [
    "home_wins = len(selected_matches[selected_matches['FTR'] == 'H'])\n",
    "home_win_rate = round(home_wins/selected_matches_number,2)\n",
    "print(\"Win rate: \", home_win_rate)"
   ]
  },
  {
   "cell_type": "markdown",
   "metadata": {},
   "source": [
    "$\\alpha$ and $\\beta$ positive parameters control the shape of the distribution. Prior parameters:"
   ]
  },
  {
   "cell_type": "code",
   "execution_count": 103,
   "metadata": {},
   "outputs": [
    {
     "name": "stdout",
     "output_type": "stream",
     "text": [
      "874.0 1026.0\n"
     ]
    }
   ],
   "source": [
    "alpha_param = home_win_rate * selected_matches_number\n",
    "beta_param = selected_matches_number - alpha_param\n",
    "\n",
    "print(alpha_param, beta_param)"
   ]
  },
  {
   "cell_type": "markdown",
   "metadata": {},
   "source": [
    "Selected matches from 2020 to 2021"
   ]
  },
  {
   "cell_type": "code",
   "execution_count": 104,
   "metadata": {},
   "outputs": [
    {
     "name": "stdout",
     "output_type": "stream",
     "text": [
      " Selected matches from 2020-21:  380 \n",
      " Win matches:  144 \n",
      " Win rate:  0.38\n"
     ]
    }
   ],
   "source": [
    "selected_matches_20_21 = df.query(\"Season == '2020-21'\")\n",
    "selected_matches_20_21_num = len(selected_matches_20_21)\n",
    "\n",
    "home_wins_20_21 = len(selected_matches_20_21[selected_matches_20_21['FTR'] == 'H'])\n",
    "win_rate_20_21 = round(home_wins_20_21/selected_matches_20_21_num,2)\n",
    "\n",
    "print(\" Selected matches from 2020-21: \", selected_matches_20_21_num, \"\\n\", \"Win matches: \", home_wins_20_21, \"\\n\", \"Win rate: \", win_rate_20_21)"
   ]
  },
  {
   "cell_type": "markdown",
   "metadata": {},
   "source": [
    "Posterior parameters are:\n",
    "\n",
    "$$ \\alpha’ = \\alpha + y $$\n",
    "$$ \\beta’ = n - y + \\beta$$\n",
    "\n"
   ]
  },
  {
   "cell_type": "code",
   "execution_count": 105,
   "metadata": {},
   "outputs": [
    {
     "name": "stdout",
     "output_type": "stream",
     "text": [
      "1018.0 1262.0\n"
     ]
    }
   ],
   "source": [
    "alpha_pos_param = alpha_param + home_wins_20_21\n",
    "beta_pos_param = selected_matches_20_21_num - home_wins_20_21 + beta_param\n",
    "print(alpha_pos_param, beta_pos_param)"
   ]
  },
  {
   "cell_type": "markdown",
   "metadata": {},
   "source": [
    "Lets calculate prior, likelihood and posterior of our selected data"
   ]
  },
  {
   "cell_type": "code",
   "execution_count": 106,
   "metadata": {},
   "outputs": [],
   "source": [
    "n = selected_matches_20_21_num\n",
    "y = home_wins_20_21\n",
    "\n",
    "theta = np.linspace(0,1,1000) # parameter array represents a possible value of the parameter for your beta distribution\n",
    "\n",
    "prior = beta.pdf(theta, alpha_pos_param, beta_pos_param)\n",
    "likelihood = binom.pmf(y, n, theta) \n",
    "posterior = beta.pdf(theta, alpha_pos_param + y, beta_pos_param + (n-y)) \n"
   ]
  },
  {
   "cell_type": "code",
   "execution_count": 107,
   "metadata": {},
   "outputs": [],
   "source": [
    "def plot_show(theta, prior, likelihood, posterior, l_factor):\n",
    "    plt.figure(figsize=(10, 6))\n",
    "\n",
    "    plt.plot(theta, prior, label=\"prior\")\n",
    "    plt.plot(theta, l_factor * likelihood, label=\"likelihood\")\n",
    "    plt.plot(theta, posterior, label=\"posterior\")\n",
    "\n",
    "    plt.ylabel(\"Values\")\n",
    "    plt.xlabel(\"$\\Theta$\")\n",
    "    plt.xlim([0, 1])\n",
    "    plt.legend()\n",
    "    plt.xticks(np.arange(0, 1, 0.1))\n",
    "    plt.show()"
   ]
  },
  {
   "cell_type": "code",
   "execution_count": 108,
   "metadata": {},
   "outputs": [
    {
     "data": {
      "image/png": "[encoded data removed]",
      "text/plain": [
       "<Figure size 1000x600 with 1 Axes>"
      ]
     },
     "metadata": {},
     "output_type": "display_data"
    }
   ],
   "source": [
    "plot_show(theta, prior, likelihood, posterior, l_factor=900)"
   ]
  },
  {
   "cell_type": "markdown",
   "metadata": {},
   "source": [
    "NOT READY: "
   ]
  },
  {
   "cell_type": "code",
   "execution_count": 109,
   "metadata": {},
   "outputs": [
    {
     "name": "stdout",
     "output_type": "stream",
     "text": [
      "318.8 441.2\n"
     ]
    }
   ],
   "source": [
    "n = selected_matches_20_21_num\n",
    "y = home_wins_20_21\n",
    "\n",
    "alpha_param = home_win_rate * selected_matches_20_21_num\n",
    "beta_param = selected_matches_20_21_num - alpha_param\n",
    "\n",
    "alpha_pos_param = alpha_param + home_wins_20_21\n",
    "beta_pos_param = selected_matches_20_21_num - home_wins_20_21 + beta_param\n",
    "\n",
    "\n",
    "prior_pos = beta.pdf(theta, alpha_pos_param, beta_pos_param)\n",
    "likelihood_pos = binom.pmf(y, n, theta)\n",
    "posterior_pos = beta.pdf(theta, alpha_pos_param + y, beta_pos_param + (n-y))  \n",
    "\n",
    "print(alpha_pos_param, beta_pos_param)"
   ]
  },
  {
   "cell_type": "code",
   "execution_count": 113,
   "metadata": {},
   "outputs": [
    {
     "data": {
      "image/png": "[encoded data removed]",
      "text/plain": [
       "<Figure size 1000x600 with 1 Axes>"
      ]
     },
     "metadata": {},
     "output_type": "display_data"
    }
   ],
   "source": [
    "plot_show(theta, prior_pos, likelihood_pos, posterior_pos, l_factor=550)"
   ]
  },
  {
   "cell_type": "code",
   "execution_count": null,
   "metadata": {},
   "outputs": [],
   "source": []
  },
  {
   "cell_type": "markdown",
   "metadata": {},
   "source": []
  },
  {
   "cell_type": "code",
   "execution_count": null,
   "metadata": {},
   "outputs": [],
   "source": []
  }
 ],
 "metadata": {
  "kernelspec": {
   "display_name": "Python 3 (ipykernel)",
   "language": "python",
   "name": "python3"
  },
  "language_info": {
   "codemirror_mode": {
    "name": "ipython",
    "version": 3
   },
   "file_extension": ".py",
   "mimetype": "text/x-python",
   "name": "python",
   "nbconvert_exporter": "python",
   "pygments_lexer": "ipython3",
   "version": "3.9.6"
  }
 },
 "nbformat": 4,
 "nbformat_minor": 5
}
