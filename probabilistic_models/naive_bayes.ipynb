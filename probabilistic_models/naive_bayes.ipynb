{
 "cells": [
  {
   "cell_type": "markdown",
   "id": "91938327",
   "metadata": {},
   "source": [
    "# Naive Bayes classifier\n",
    "\n",
    "## Discriminative and generative models\n",
    "\n",
    "A **discriminative model** learns posterior distribution $p(y \\vert \\boldsymbol x, \\boldsymbol w)$. Example: logistic regression model\n",
    "\n",
    "$$\n",
    "\\mathbb P(y=1  \\vert \\boldsymbol x, \\boldsymbol w) = \\sigma(\\boldsymbol x^\\intercal \\boldsymbol w), \\quad \n",
    "\\mathbb P(y=0  \\vert \\boldsymbol x, \\boldsymbol w) =  1 - \\sigma(\\boldsymbol x^\\intercal \\boldsymbol w)\n",
    "$$\n",
    "\n",
    "A **generative model** estimates joint distribution \n",
    "\n",
    "$$\n",
    "p(\\boldsymbol x, y) = p(\\boldsymbol x \\vert y) p(y).\n",
    "$$\n",
    "\n",
    "## Bayesian classifier\n",
    "\n",
    "For classification use Bayes theorem:\n",
    "\n",
    "$$\n",
    "    \\mathbb P(y = k \\vert \\boldsymbol x) = \\frac{p(\\boldsymbol x \\vert y = k) \\mathbb P(y = k)}{\\sum\\limits_{j=1}^K p(\\boldsymbol x \\vert y = j) \\mathbb P(y = j)}\n",
    "$$\n",
    "\n",
    "\n",
    "**Bayesian classifier** maximizes this expression:\n",
    "\n",
    "$$\n",
    "    \\widehat y = \\arg\\max\\limits_{1\\leqslant j \\leqslant K} p(\\boldsymbol x \\vert y = j) \\mathbb P(y = j)\n",
    "$$\n",
    "\n",
    "How to estimate $\\mathbb P(y = k)$ and $p(\\boldsymbol x \\vert y = k)$ given a training dataset $(\\boldsymbol X, \\boldsymbol y)$?"
   ]
  },
  {
   "cell_type": "code",
   "execution_count": null,
   "id": "6dd39cfb",
   "metadata": {},
   "outputs": [],
   "source": []
  }
 ],
 "metadata": {
  "kernelspec": {
   "display_name": "Python 3 (ipykernel)",
   "language": "python",
   "name": "python3"
  },
  "language_info": {
   "codemirror_mode": {
    "name": "ipython",
    "version": 3
   },
   "file_extension": ".py",
   "mimetype": "text/x-python",
   "name": "python",
   "nbconvert_exporter": "python",
   "pygments_lexer": "ipython3",
   "version": "3.11.4"
  }
 },
 "nbformat": 4,
 "nbformat_minor": 5
}
