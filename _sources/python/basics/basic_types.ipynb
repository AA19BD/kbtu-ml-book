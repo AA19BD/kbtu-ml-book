{
 "cells": [
  {
   "cell_type": "markdown",
   "id": "37708314",
   "metadata": {
    "pycharm": {
     "name": "#%% md\n"
    },
    "slideshow": {
     "slide_type": "slide"
    }
   },
   "source": [
    "# Basic Types\n",
    "\n",
    "## Zen of Python"
   ]
  },
  {
   "cell_type": "code",
   "execution_count": null,
   "id": "6096161d",
   "metadata": {
    "pycharm": {
     "name": "#%%\n"
    }
   },
   "outputs": [],
   "source": [
    "import this"
   ]
  },
  {
   "cell_type": "markdown",
   "id": "1f3fa1d4",
   "metadata": {
    "pycharm": {
     "name": "#%% md\n"
    },
    "slideshow": {
     "slide_type": "slide"
    }
   },
   "source": [
    "## Numeric types: int, float, complex"
   ]
  },
  {
   "cell_type": "code",
   "execution_count": null,
   "id": "471d672d",
   "metadata": {
    "pycharm": {
     "name": "#%%\n"
    },
    "slideshow": {
     "slide_type": "-"
    }
   },
   "outputs": [],
   "source": [
    "# int, float, complex\n",
    "1, 1.0, 1j"
   ]
  },
  {
   "cell_type": "code",
   "execution_count": null,
   "id": "f0e05582",
   "metadata": {},
   "outputs": [],
   "source": [
    "1j ** 2"
   ]
  },
  {
   "cell_type": "markdown",
   "id": "2bd3e39a",
   "metadata": {
    "pycharm": {
     "name": "#%% md\n"
    },
    "slideshow": {
     "slide_type": "slide"
    }
   },
   "source": [
    "### Variables"
   ]
  },
  {
   "cell_type": "code",
   "execution_count": null,
   "id": "bf77f9e3",
   "metadata": {
    "pycharm": {
     "name": "#%%\n"
    }
   },
   "outputs": [],
   "source": [
    "clicks = 2\n",
    "clicks, type(clicks)"
   ]
  },
  {
   "cell_type": "code",
   "execution_count": null,
   "id": "e86b0f60",
   "metadata": {
    "pycharm": {
     "name": "#%%\n"
    }
   },
   "outputs": [],
   "source": [
    "# type(object) == object's class"
   ]
  },
  {
   "cell_type": "code",
   "execution_count": null,
   "id": "762a2fdd",
   "metadata": {
    "pycharm": {
     "name": "#%%\n"
    }
   },
   "outputs": [],
   "source": [
    "1\n",
    "2\n",
    "3  # cell outputs the value of the last expression"
   ]
  },
  {
   "cell_type": "code",
   "execution_count": null,
   "id": "3939612c",
   "metadata": {
    "pycharm": {
     "name": "#%%\n"
    },
    "slideshow": {
     "slide_type": "slide"
    }
   },
   "outputs": [],
   "source": [
    "# variable binding\n",
    "\n",
    "temperature = 10\n",
    "temperature = 20\n",
    "temperature = 36.6  # dynamic typing"
   ]
  },
  {
   "cell_type": "code",
   "execution_count": null,
   "id": "68694164",
   "metadata": {},
   "outputs": [],
   "source": [
    "temperature, type(temperature)"
   ]
  },
  {
   "cell_type": "code",
   "execution_count": null,
   "id": "b1b5e2af",
   "metadata": {
    "pycharm": {
     "name": "#%%\n"
    },
    "slideshow": {
     "slide_type": "slide"
    }
   },
   "outputs": [],
   "source": [
    "shows = 50"
   ]
  },
  {
   "cell_type": "code",
   "execution_count": null,
   "id": "1e3f8642",
   "metadata": {
    "pycharm": {
     "name": "#%%\n"
    }
   },
   "outputs": [],
   "source": [
    "s4ows"
   ]
  },
  {
   "cell_type": "markdown",
   "id": "afbbe021",
   "metadata": {
    "pycharm": {
     "name": "#%% md\n"
    },
    "slideshow": {
     "slide_type": "slide"
    }
   },
   "source": [
    "<div class=\"alert alert-danger\">\n",
    "    <b>Anti-pattern:</b> meaningless names of variables\n",
    "</div>"
   ]
  },
  {
   "cell_type": "code",
   "execution_count": null,
   "id": "be1cb13e",
   "metadata": {
    "pycharm": {
     "name": "#%%\n"
    }
   },
   "outputs": [],
   "source": [
    "a = 2\n",
    "b = 10\n",
    "c = b / a\n",
    "c"
   ]
  },
  {
   "cell_type": "markdown",
   "id": "68bd67e9",
   "metadata": {
    "pycharm": {
     "name": "#%% md\n"
    },
    "slideshow": {
     "slide_type": "slide"
    }
   },
   "source": [
    "### int, float, arithmetic operations"
   ]
  },
  {
   "cell_type": "code",
   "execution_count": null,
   "id": "593d590d",
   "metadata": {
    "pycharm": {
     "name": "#%%\n"
    }
   },
   "outputs": [],
   "source": [
    "5 + 6 * (7 - 1) / 3"
   ]
  },
  {
   "cell_type": "code",
   "execution_count": null,
   "id": "95ca2544",
   "metadata": {
    "pycharm": {
     "name": "#%%\n"
    }
   },
   "outputs": [],
   "source": [
    "2**10"
   ]
  },
  {
   "cell_type": "code",
   "execution_count": null,
   "id": "2aa1fd80",
   "metadata": {
    "pycharm": {
     "name": "#%%\n"
    },
    "slideshow": {
     "slide_type": "slide"
    }
   },
   "outputs": [],
   "source": [
    "# int / int = float\n",
    "\n",
    "clicks = 12\n",
    "shows = 10\n",
    "ctr = clicks / shows\n",
    "\n",
    "type(ctr), ctr"
   ]
  },
  {
   "cell_type": "markdown",
   "id": "fbe044ca",
   "metadata": {},
   "source": [
    "**Remark.** **CTR = [Clicks-through rate](https://en.wikipedia.org/wiki/Click-through_rate)** is a popular metric: a ratio showing how often people who see your ad or free product listing end up clicking it."
   ]
  },
  {
   "cell_type": "markdown",
   "id": "5d9876fd",
   "metadata": {
    "pycharm": {
     "name": "#%% md\n"
    }
   },
   "source": [
    "<div class=\"alert alert-warning\">\n",
    "    <b>Common mistake:</b> Divisions / and // lead to different results\n",
    "</div>"
   ]
  },
  {
   "cell_type": "code",
   "execution_count": null,
   "id": "3cd41e29",
   "metadata": {
    "pycharm": {
     "name": "#%%\n"
    }
   },
   "outputs": [],
   "source": [
    "clicks // shows  # integer division"
   ]
  },
  {
   "cell_type": "code",
   "execution_count": null,
   "id": "25fc684c",
   "metadata": {
    "pycharm": {
     "name": "#%%\n"
    }
   },
   "outputs": [],
   "source": [
    "clicks % shows  # remainder "
   ]
  },
  {
   "cell_type": "code",
   "execution_count": null,
   "id": "29a4aceb",
   "metadata": {
    "pycharm": {
     "name": "#%%\n"
    },
    "slideshow": {
     "slide_type": "slide"
    }
   },
   "outputs": [],
   "source": [
    "value = 1\n",
    "value += 1\n",
    "value *= 2\n",
    "value /= 2\n",
    "value **= 3\n",
    "\n",
    "value"
   ]
  },
  {
   "cell_type": "markdown",
   "id": "cc3ffc90",
   "metadata": {
    "pycharm": {
     "name": "#%% md\n"
    },
    "slideshow": {
     "slide_type": "slide"
    }
   },
   "source": [
    "### Bit operations"
   ]
  },
  {
   "cell_type": "code",
   "execution_count": null,
   "id": "07f0b58b",
   "metadata": {
    "pycharm": {
     "name": "#%%\n"
    }
   },
   "outputs": [],
   "source": [
    "1 << 10, 8 >> 3"
   ]
  },
  {
   "cell_type": "code",
   "execution_count": null,
   "id": "7d149f7f",
   "metadata": {},
   "outputs": [],
   "source": [
    "bin(8)"
   ]
  },
  {
   "cell_type": "code",
   "execution_count": null,
   "id": "2e6ad472",
   "metadata": {
    "pycharm": {
     "name": "#%%\n"
    }
   },
   "outputs": [],
   "source": [
    "0b100 ^ 0b010, 0b011 | 0b010, 0b011 & 0b010"
   ]
  },
  {
   "cell_type": "code",
   "execution_count": null,
   "id": "e884e717",
   "metadata": {
    "pycharm": {
     "name": "#%%\n"
    }
   },
   "outputs": [],
   "source": [
    "bin(1023)"
   ]
  },
  {
   "cell_type": "markdown",
   "id": "0ce83072",
   "metadata": {
    "pycharm": {
     "name": "#%% md\n"
    }
   },
   "source": [
    "<div class=\"alert alert-info\">\n",
    "    <b>Advice:</b> bit operations are hard to read, and it's better to avoid them\n",
    "</div>"
   ]
  },
  {
   "cell_type": "markdown",
   "id": "f1448c1e",
   "metadata": {
    "pycharm": {
     "name": "#%% md\n"
    },
    "slideshow": {
     "slide_type": "slide"
    }
   },
   "source": [
    "### Logical type: bool"
   ]
  },
  {
   "cell_type": "code",
   "execution_count": null,
   "id": "4f962939",
   "metadata": {
    "pycharm": {
     "name": "#%%\n"
    }
   },
   "outputs": [],
   "source": [
    "True, False"
   ]
  },
  {
   "cell_type": "code",
   "execution_count": null,
   "id": "9a2e6e59",
   "metadata": {
    "pycharm": {
     "name": "#%%\n"
    }
   },
   "outputs": [],
   "source": [
    "type(True), type(False)"
   ]
  },
  {
   "cell_type": "code",
   "execution_count": null,
   "id": "e6ec613a",
   "metadata": {
    "pycharm": {
     "name": "#%%\n"
    }
   },
   "outputs": [],
   "source": [
    "not True, not False"
   ]
  },
  {
   "cell_type": "code",
   "execution_count": null,
   "id": "2d2605e2",
   "metadata": {
    "pycharm": {
     "name": "#%%\n"
    }
   },
   "outputs": [],
   "source": [
    "True and False, True or False, (2 < 3)"
   ]
  },
  {
   "cell_type": "markdown",
   "id": "0b494761",
   "metadata": {
    "pycharm": {
     "name": "#%% md\n"
    },
    "slideshow": {
     "slide_type": "slide"
    }
   },
   "source": [
    "<div class=\"alert alert-danger\">\n",
    "    <b>Anti-pattern:</b> omit brackets in ambiguous places\n",
    "</div>"
   ]
  },
  {
   "cell_type": "code",
   "execution_count": null,
   "id": "4deda308",
   "metadata": {
    "pycharm": {
     "name": "#%%\n"
    },
    "slideshow": {
     "slide_type": "-"
    }
   },
   "outputs": [],
   "source": [
    "# Q: What's the result?\n",
    "False == False != True"
   ]
  },
  {
   "cell_type": "code",
   "execution_count": null,
   "id": "0b71c5c8",
   "metadata": {
    "pycharm": {
     "name": "#%%\n"
    },
    "slideshow": {
     "slide_type": "slide"
    }
   },
   "outputs": [],
   "source": [
    "# How it works:\n",
    "(False == False) and (False != True)"
   ]
  },
  {
   "cell_type": "code",
   "execution_count": null,
   "id": "b01616c4",
   "metadata": {
    "pycharm": {
     "name": "#%%\n"
    }
   },
   "outputs": [],
   "source": [
    "# A more obvious example:\n",
    "2 < 3 < 5 < 7 < 11"
   ]
  },
  {
   "cell_type": "code",
   "execution_count": null,
   "id": "91c657f8",
   "metadata": {
    "pycharm": {
     "name": "#%%\n"
    }
   },
   "outputs": [],
   "source": [
    "(2 < 3) and (3 < 5) and (5 < 7) and (7 < 11)"
   ]
  },
  {
   "cell_type": "markdown",
   "id": "31b5ad8b",
   "metadata": {
    "pycharm": {
     "name": "#%% md\n"
    },
    "slideshow": {
     "slide_type": "slide"
    }
   },
   "source": [
    "### String type: str"
   ]
  },
  {
   "cell_type": "code",
   "execution_count": null,
   "id": "e337aab3",
   "metadata": {
    "pycharm": {
     "name": "#%%\n"
    }
   },
   "outputs": [],
   "source": [
    "greeting = \"Hello\"\n",
    "goodbye = 'Bye-bye'\n",
    "\n",
    "poem = \"\"\"\n",
    "В сто сорок солнц закат пылал, \n",
    "    в июль катилось лето, \n",
    "        была жара, \n",
    "            жара плыла - \n",
    "                на даче было это. \n",
    "Пригорок Пушкино горбил \n",
    "   Акуловой горою, \n",
    "       а низ горы - \n",
    "           деревней был, \n",
    "       кривился крыш корою. \n",
    "\"\"\"\n",
    "\n",
    "type(greeting), type(goodbye), type(poem)   "
   ]
  },
  {
   "cell_type": "markdown",
   "id": "edb1bda2",
   "metadata": {},
   "source": [
    "## Functions"
   ]
  },
  {
   "cell_type": "code",
   "execution_count": null,
   "id": "b90576a0",
   "metadata": {},
   "outputs": [],
   "source": [
    "def square(x):\n",
    "    return x*x"
   ]
  },
  {
   "cell_type": "code",
   "execution_count": null,
   "id": "b0daecda",
   "metadata": {},
   "outputs": [],
   "source": [
    "square(3.14)"
   ]
  },
  {
   "cell_type": "code",
   "execution_count": null,
   "id": "d032fcd3",
   "metadata": {},
   "outputs": [],
   "source": [
    "square(1j)"
   ]
  },
  {
   "cell_type": "code",
   "execution_count": null,
   "id": "8d9efe70",
   "metadata": {},
   "outputs": [],
   "source": [
    "square('123')"
   ]
  },
  {
   "cell_type": "code",
   "execution_count": null,
   "id": "5f240915",
   "metadata": {},
   "outputs": [],
   "source": [
    "square(int(\"123\"))"
   ]
  },
  {
   "cell_type": "code",
   "execution_count": null,
   "id": "64414025",
   "metadata": {},
   "outputs": [],
   "source": [
    "from math import factorial\n",
    "factorial(5)"
   ]
  },
  {
   "cell_type": "code",
   "execution_count": null,
   "id": "adc966ae",
   "metadata": {},
   "outputs": [],
   "source": [
    "factorial(20)"
   ]
  },
  {
   "cell_type": "code",
   "execution_count": null,
   "id": "9f91b3ba",
   "metadata": {},
   "outputs": [],
   "source": [
    "factorial(100)"
   ]
  },
  {
   "cell_type": "code",
   "execution_count": null,
   "id": "17aabf6d",
   "metadata": {},
   "outputs": [],
   "source": [
    "%%time\n",
    "factorial(1000)"
   ]
  },
  {
   "cell_type": "code",
   "execution_count": null,
   "id": "8423b06b",
   "metadata": {},
   "outputs": [],
   "source": [
    "# A very inefficient recursive example, for education purposes only.\n",
    "def my_factorial(n):\n",
    "    if n == 0:\n",
    "        return 1\n",
    "    return n*my_factorial(n-1)"
   ]
  },
  {
   "cell_type": "code",
   "execution_count": null,
   "id": "d0f5ff7f",
   "metadata": {},
   "outputs": [],
   "source": [
    "my_factorial(5)"
   ]
  },
  {
   "cell_type": "code",
   "execution_count": null,
   "id": "40191c95",
   "metadata": {},
   "outputs": [],
   "source": [
    "my_factorial(10)"
   ]
  },
  {
   "cell_type": "code",
   "execution_count": null,
   "id": "b1de6dc3",
   "metadata": {},
   "outputs": [],
   "source": [
    "%%time\n",
    "my_factorial(10000)"
   ]
  },
  {
   "cell_type": "markdown",
   "id": "eab74083",
   "metadata": {
    "pycharm": {
     "name": "#%% md\n"
    },
    "slideshow": {
     "slide_type": "slide"
    }
   },
   "source": [
    "### Function print"
   ]
  },
  {
   "cell_type": "code",
   "execution_count": null,
   "id": "255db530",
   "metadata": {
    "pycharm": {
     "name": "#%%\n"
    },
    "slideshow": {
     "slide_type": "-"
    }
   },
   "outputs": [],
   "source": [
    "print(poem)"
   ]
  },
  {
   "cell_type": "code",
   "execution_count": null,
   "id": "570e7546",
   "metadata": {
    "pycharm": {
     "name": "#%%\n"
    }
   },
   "outputs": [],
   "source": [
    "print(65536)\n",
    "print(10, 20, '123', True, False)"
   ]
  },
  {
   "cell_type": "code",
   "execution_count": null,
   "id": "0c1b068e",
   "metadata": {
    "pycharm": {
     "name": "#%%\n"
    }
   },
   "outputs": [],
   "source": [
    "print('2', '+', 2)\n",
    "print('2', '+', 2, sep='    ', end='!')"
   ]
  },
  {
   "cell_type": "code",
   "execution_count": null,
   "id": "a73b0550",
   "metadata": {
    "pycharm": {
     "name": "#%%\n"
    },
    "slideshow": {
     "slide_type": "slide"
    }
   },
   "outputs": [],
   "source": [
    "# Q: What will happen?\n",
    "print(\"Hello\" + \", world!\")\n",
    "print('Two' * 5)\n",
    "print(\"Two\" + 2)"
   ]
  },
  {
   "cell_type": "markdown",
   "id": "ae8815c1",
   "metadata": {
    "pycharm": {
     "name": "#%% md\n"
    },
    "slideshow": {
     "slide_type": "slide"
    }
   },
   "source": [
    "## Slices and substrings"
   ]
  },
  {
   "cell_type": "code",
   "execution_count": null,
   "id": "54e224e6",
   "metadata": {
    "pycharm": {
     "name": "#%%\n"
    },
    "slideshow": {
     "slide_type": "-"
    }
   },
   "outputs": [],
   "source": [
    "string = \"Hello, world!\"\n",
    "character = string[10]  # NB: indexing starts from 0\n",
    "sub_string = string[7:10]\n",
    "\n",
    "type(string), type(character), type(sub_string)"
   ]
  },
  {
   "cell_type": "code",
   "execution_count": null,
   "id": "105c9546",
   "metadata": {
    "pycharm": {
     "name": "#%%\n"
    }
   },
   "outputs": [],
   "source": [
    "character, sub_string"
   ]
  },
  {
   "cell_type": "code",
   "execution_count": null,
   "id": "03288024",
   "metadata": {
    "pycharm": {
     "name": "#%%\n"
    }
   },
   "outputs": [],
   "source": [
    "'закат' in poem"
   ]
  },
  {
   "cell_type": "code",
   "execution_count": null,
   "id": "1e1a42d5",
   "metadata": {
    "pycharm": {
     "name": "#%%\n"
    },
    "slideshow": {
     "slide_type": "slide"
    }
   },
   "outputs": [],
   "source": [
    "string = \"Hello, world!\"\n",
    "print(string[-1])\n",
    "print(string[0])"
   ]
  },
  {
   "cell_type": "code",
   "execution_count": null,
   "id": "86218059",
   "metadata": {
    "pycharm": {
     "name": "#%%\n"
    },
    "slideshow": {
     "slide_type": "-"
    }
   },
   "outputs": [],
   "source": [
    "print(string[:5])\n",
    "print(string[7:])\n",
    "print(string[4:8])\n",
    "print(string[-5:-1])"
   ]
  },
  {
   "cell_type": "code",
   "execution_count": null,
   "id": "54335ec1",
   "metadata": {},
   "outputs": [],
   "source": [
    "string[:]"
   ]
  },
  {
   "cell_type": "code",
   "execution_count": null,
   "id": "1c63173c",
   "metadata": {
    "pycharm": {
     "name": "#%%\n"
    }
   },
   "outputs": [],
   "source": [
    "print(string[::2])  # every second symbol\n",
    "print(string[::-1])  # reversed string"
   ]
  },
  {
   "cell_type": "markdown",
   "id": "b80c9bb7",
   "metadata": {
    "pycharm": {
     "name": "#%% md\n"
    },
    "slideshow": {
     "slide_type": "slide"
    }
   },
   "source": [
    "## String literals"
   ]
  },
  {
   "cell_type": "code",
   "execution_count": null,
   "id": "d34ae328",
   "metadata": {
    "pycharm": {
     "name": "#%%\n"
    }
   },
   "outputs": [],
   "source": [
    "(\n",
    "    'Hello'\n",
    "    ', world'\n",
    "    '!'\n",
    ")"
   ]
  },
  {
   "cell_type": "code",
   "execution_count": null,
   "id": "455ccc41",
   "metadata": {
    "pycharm": {
     "name": "#%%\n"
    }
   },
   "outputs": [],
   "source": [
    "'123' + \\\n",
    "'456' + \\\n",
    "'789'"
   ]
  },
  {
   "cell_type": "code",
   "execution_count": null,
   "id": "d8335df2",
   "metadata": {
    "pycharm": {
     "name": "#%%\n"
    }
   },
   "outputs": [],
   "source": [
    "'123' \\\n",
    "'456' \\\n",
    "'789'"
   ]
  },
  {
   "cell_type": "markdown",
   "id": "41e4cbc6",
   "metadata": {
    "pycharm": {
     "name": "#%% md\n"
    },
    "slideshow": {
     "slide_type": "slide"
    }
   },
   "source": [
    "## Dict"
   ]
  },
  {
   "cell_type": "code",
   "execution_count": null,
   "id": "d2e6cec0",
   "metadata": {},
   "outputs": [],
   "source": [
    "birthdays = {'Alice': 123, 'Bob': '1999-12-31'}\n",
    "birthdays['Sam'] = '1972-01-01'\n",
    "birthdays['Sam']"
   ]
  },
  {
   "cell_type": "code",
   "execution_count": null,
   "id": "a7ac7cb2",
   "metadata": {},
   "outputs": [],
   "source": [
    "birthdays"
   ]
  },
  {
   "cell_type": "code",
   "execution_count": null,
   "id": "c2ae4319",
   "metadata": {},
   "outputs": [],
   "source": [
    "birthdays.get(123) is None"
   ]
  },
  {
   "cell_type": "code",
   "execution_count": null,
   "id": "286a62cd",
   "metadata": {},
   "outputs": [],
   "source": [
    "birthdays.get('Alice')"
   ]
  },
  {
   "cell_type": "code",
   "execution_count": null,
   "id": "aa68373a",
   "metadata": {},
   "outputs": [],
   "source": [
    "del birthdays['Bob']\n",
    "birthdays"
   ]
  },
  {
   "cell_type": "code",
   "execution_count": null,
   "id": "01f206ef",
   "metadata": {},
   "outputs": [],
   "source": [
    "'Alice' in birthdays"
   ]
  },
  {
   "cell_type": "code",
   "execution_count": null,
   "id": "cadc12e8",
   "metadata": {},
   "outputs": [],
   "source": [
    "'Bob' in birthdays"
   ]
  },
  {
   "cell_type": "code",
   "execution_count": null,
   "id": "95984a68",
   "metadata": {},
   "outputs": [],
   "source": [
    "empty_dict = dict()\n",
    "len(empty_dict)"
   ]
  },
  {
   "cell_type": "code",
   "execution_count": null,
   "id": "f250cf81",
   "metadata": {},
   "outputs": [],
   "source": [
    "empty_dict"
   ]
  },
  {
   "cell_type": "code",
   "execution_count": null,
   "id": "87c50aab",
   "metadata": {},
   "outputs": [],
   "source": [
    "len(birthdays)"
   ]
  },
  {
   "cell_type": "markdown",
   "id": "545ab888",
   "metadata": {
    "pycharm": {
     "name": "#%% md\n"
    },
    "slideshow": {
     "slide_type": "slide"
    }
   },
   "source": [
    "## List"
   ]
  },
  {
   "cell_type": "code",
   "execution_count": null,
   "id": "e86dd194",
   "metadata": {
    "pycharm": {
     "name": "#%%\n"
    }
   },
   "outputs": [],
   "source": [
    "math_names = ['sin', 'cos', 'rot', 'div']\n",
    "type(math_names)"
   ]
  },
  {
   "cell_type": "code",
   "execution_count": null,
   "id": "4189141f",
   "metadata": {},
   "outputs": [],
   "source": [
    "len(math_names)"
   ]
  },
  {
   "cell_type": "code",
   "execution_count": null,
   "id": "90815735",
   "metadata": {
    "pycharm": {
     "name": "#%%\n"
    }
   },
   "outputs": [],
   "source": [
    "'cos' in math_names, 'sos' in math_names"
   ]
  },
  {
   "cell_type": "code",
   "execution_count": null,
   "id": "68cc3ed7",
   "metadata": {
    "pycharm": {
     "name": "#%%\n"
    }
   },
   "outputs": [],
   "source": [
    "math_names[0], math_names[1], math_names[-1]"
   ]
  },
  {
   "cell_type": "code",
   "execution_count": null,
   "id": "a191ba4f",
   "metadata": {
    "pycharm": {
     "name": "#%%\n"
    }
   },
   "outputs": [],
   "source": [
    "math_names[1:3]"
   ]
  },
  {
   "cell_type": "code",
   "execution_count": null,
   "id": "3c9862a7",
   "metadata": {
    "pycharm": {
     "name": "#%%\n"
    }
   },
   "outputs": [],
   "source": [
    "math_names[::-1]"
   ]
  },
  {
   "cell_type": "code",
   "execution_count": null,
   "id": "60f0fac5",
   "metadata": {
    "pycharm": {
     "name": "#%%\n"
    },
    "slideshow": {
     "slide_type": "slide"
    }
   },
   "outputs": [],
   "source": [
    "# Q: What will happen?\n",
    "print([1, 2] + [3, 4])\n",
    "print([2, 3] * 4)\n",
    "print([2, 3] + 4)"
   ]
  },
  {
   "cell_type": "code",
   "execution_count": null,
   "id": "77698b39",
   "metadata": {
    "pycharm": {
     "name": "#%%\n"
    },
    "slideshow": {
     "slide_type": "slide"
    }
   },
   "outputs": [],
   "source": [
    "letters = ['alpha', 'beta', 'gamma']\n",
    "letters.append('delta')\n",
    "\n",
    "letters"
   ]
  },
  {
   "cell_type": "code",
   "execution_count": null,
   "id": "fffe2afd",
   "metadata": {
    "pycharm": {
     "name": "#%%\n"
    },
    "slideshow": {
     "slide_type": "-"
    }
   },
   "outputs": [],
   "source": [
    "books = ['Философский камень', 'Тайная комната']\n",
    "books += ['Узник Азкабана']\n",
    "books"
   ]
  },
  {
   "cell_type": "code",
   "execution_count": null,
   "id": "811c4ded",
   "metadata": {
    "pycharm": {
     "name": "#%%\n"
    }
   },
   "outputs": [],
   "source": [
    "letters.pop(), letters  # pop deletes the last element of the list and returns it"
   ]
  },
  {
   "cell_type": "code",
   "execution_count": null,
   "id": "2d8226e2",
   "metadata": {
    "pycharm": {
     "name": "#%%\n"
    }
   },
   "outputs": [],
   "source": [
    "letters.pop(1), letters  # delete element at position 1"
   ]
  },
  {
   "cell_type": "markdown",
   "id": "a3709646",
   "metadata": {
    "pycharm": {
     "name": "#%% md\n"
    },
    "slideshow": {
     "slide_type": "slide"
    }
   },
   "source": [
    "<div class=\"alert alert-info\">\n",
    "    <b>Advice:</b> use list as a mutable container of values of similar types\n",
    "</div>"
   ]
  },
  {
   "cell_type": "markdown",
   "id": "8b3615ce",
   "metadata": {
    "pycharm": {
     "name": "#%% md\n"
    },
    "slideshow": {
     "slide_type": "-"
    }
   },
   "source": [
    "<div class=\"alert alert-danger\">\n",
    "    <b>Anti-pattern:</b> mix values of different type in a list\n",
    "</div>"
   ]
  },
  {
   "cell_type": "code",
   "execution_count": null,
   "id": "c0df36c2",
   "metadata": {
    "pycharm": {
     "name": "#%%\n"
    }
   },
   "outputs": [],
   "source": [
    "yyyyy = [555, \"World\", [1,2,3], True, 10.5]"
   ]
  },
  {
   "cell_type": "markdown",
   "id": "d620da3f",
   "metadata": {
    "pycharm": {
     "name": "#%% md\n"
    }
   },
   "source": [
    "<div class=\"alert alert-danger\">\n",
    "    <b>Anti-pattern:</b> self-referencing\n",
    "</div>"
   ]
  },
  {
   "cell_type": "code",
   "execution_count": null,
   "id": "53cc7692",
   "metadata": {
    "pycharm": {
     "name": "#%%\n"
    }
   },
   "outputs": [],
   "source": [
    "inception = ['dream']\n",
    "inception.append(inception)"
   ]
  },
  {
   "cell_type": "code",
   "execution_count": null,
   "id": "1cf26b7f",
   "metadata": {
    "pycharm": {
     "name": "#%%\n"
    }
   },
   "outputs": [],
   "source": [
    "inception"
   ]
  },
  {
   "cell_type": "code",
   "execution_count": null,
   "id": "e258447a",
   "metadata": {
    "pycharm": {
     "name": "#%%\n"
    }
   },
   "outputs": [],
   "source": [
    "inception[1][1][1][1][1][1][1][1][1][1][1][1]"
   ]
  },
  {
   "cell_type": "code",
   "execution_count": null,
   "id": "9228064e",
   "metadata": {},
   "outputs": [],
   "source": [
    "type(inception)"
   ]
  },
  {
   "cell_type": "markdown",
   "id": "7b3f09c4",
   "metadata": {
    "pycharm": {
     "name": "#%% md\n"
    },
    "slideshow": {
     "slide_type": "slide"
    }
   },
   "source": [
    "## Tuple"
   ]
  },
  {
   "cell_type": "code",
   "execution_count": null,
   "id": "b3d556c7",
   "metadata": {
    "pycharm": {
     "name": "#%%\n"
    }
   },
   "outputs": [],
   "source": [
    "(1, 2, 3)"
   ]
  },
  {
   "cell_type": "code",
   "execution_count": null,
   "id": "ea440670",
   "metadata": {
    "pycharm": {
     "name": "#%%\n"
    }
   },
   "outputs": [],
   "source": [
    "(True, 100)"
   ]
  },
  {
   "cell_type": "code",
   "execution_count": null,
   "id": "0720ae40",
   "metadata": {
    "pycharm": {
     "name": "#%%\n"
    }
   },
   "outputs": [],
   "source": [
    "(complex, 21, False)"
   ]
  },
  {
   "cell_type": "code",
   "execution_count": null,
   "id": "3aae3e9a",
   "metadata": {
    "pycharm": {
     "name": "#%%\n"
    }
   },
   "outputs": [],
   "source": [
    "21 in (complex, 21, False)"
   ]
  },
  {
   "cell_type": "code",
   "execution_count": null,
   "id": "8f0d9adc",
   "metadata": {
    "pycharm": {
     "name": "#%%\n"
    },
    "slideshow": {
     "slide_type": "slide"
    }
   },
   "outputs": [],
   "source": [
    "print((1, 2) + (3, 4))\n",
    "print((True, False) * 10)"
   ]
  },
  {
   "cell_type": "code",
   "execution_count": null,
   "id": "e3fa145e",
   "metadata": {
    "pycharm": {
     "name": "#%%\n"
    },
    "slideshow": {
     "slide_type": "-"
    }
   },
   "outputs": [],
   "source": [
    "print((20, 30) + 40)"
   ]
  },
  {
   "cell_type": "code",
   "execution_count": null,
   "id": "cfe759fc",
   "metadata": {},
   "outputs": [],
   "source": [
    "ls = [1,2, 3]\n",
    "ls"
   ]
  },
  {
   "cell_type": "code",
   "execution_count": null,
   "id": "261b44a1",
   "metadata": {},
   "outputs": [],
   "source": [
    "ls[1] = 10\n",
    "ls"
   ]
  },
  {
   "cell_type": "code",
   "execution_count": null,
   "id": "42473755",
   "metadata": {},
   "outputs": [],
   "source": [
    "t = (4, 5, 6)\n",
    "t"
   ]
  },
  {
   "cell_type": "code",
   "execution_count": null,
   "id": "2072381d",
   "metadata": {},
   "outputs": [],
   "source": [
    "t[1] = 20"
   ]
  },
  {
   "cell_type": "markdown",
   "id": "70ffbce5",
   "metadata": {},
   "source": [
    "## Set"
   ]
  },
  {
   "cell_type": "code",
   "execution_count": null,
   "id": "25b3acf1",
   "metadata": {},
   "outputs": [],
   "source": [
    "{'foo', 'bar', 'foobar'}"
   ]
  },
  {
   "cell_type": "code",
   "execution_count": null,
   "id": "0d7f8287",
   "metadata": {},
   "outputs": [],
   "source": [
    "{'foo', 'bar', 'foobar', 'foo', 'foo'}"
   ]
  },
  {
   "cell_type": "code",
   "execution_count": null,
   "id": "5bc3b51c",
   "metadata": {},
   "outputs": [],
   "source": [
    "s = {1, 2, 3}\n",
    "s[1]"
   ]
  },
  {
   "cell_type": "code",
   "execution_count": null,
   "id": "aca6212c",
   "metadata": {},
   "outputs": [],
   "source": [
    "set(\"A man, a plan, a canal, - Panama\")"
   ]
  },
  {
   "cell_type": "code",
   "execution_count": null,
   "id": "ced56343",
   "metadata": {},
   "outputs": [],
   "source": [
    "nile =\"\"\"\n",
    "    1120 1160 963 1210 1160 1160 813 1230 1370 1140 995 935 1110\n",
    "    994 1020 960 1180 799 958 1140 1100 1210 1150 1250 1260 1220\n",
    "    1030 1100 774 840 874 694 940 833 701 916 692 1020 1050 969\n",
    "    831 726 456 824 702 1120 1100 832 764 821 768 845 864 862 698\n",
    "    845 744 796 1040 759 781 865 845 944 984 897 822 1010 771 676\n",
    "    649 846 812 742 801 1040 860 874 848 890 744 749 838 1050 918\n",
    "    986 797 923 975 815 1020 906 901 1170 912 746 919 718 714 740\n",
    "\"\"\"\n",
    "nile_list = nile.split()\n",
    "print(nile_list[:10])\n",
    "print(\"Size of list:\", len(nile_list))"
   ]
  },
  {
   "cell_type": "code",
   "execution_count": null,
   "id": "94a0f394",
   "metadata": {},
   "outputs": [],
   "source": [
    "#Q. How to get all unique values from the list?\n",
    "s = set(nile_list)\n",
    "print(type(s))\n",
    "l = list(s)\n",
    "print(type(l))\n",
    "len(list(set(nile_list)))"
   ]
  },
  {
   "cell_type": "code",
   "execution_count": null,
   "id": "35428e2a",
   "metadata": {},
   "outputs": [],
   "source": [
    "print(s)"
   ]
  },
  {
   "cell_type": "code",
   "execution_count": null,
   "id": "dff28569",
   "metadata": {},
   "outputs": [],
   "source": [
    "print(list(s)[:10])"
   ]
  },
  {
   "cell_type": "markdown",
   "id": "4a6b75e7",
   "metadata": {
    "pycharm": {
     "name": "#%% md\n"
    },
    "slideshow": {
     "slide_type": "slide"
    }
   },
   "source": [
    "## Packing, unpacking"
   ]
  },
  {
   "cell_type": "code",
   "execution_count": null,
   "id": "fed894f8",
   "metadata": {
    "pycharm": {
     "name": "#%%\n"
    }
   },
   "outputs": [],
   "source": [
    "int, 21, False"
   ]
  },
  {
   "cell_type": "code",
   "execution_count": null,
   "id": "3b860ffb",
   "metadata": {
    "pycharm": {
     "name": "#%%\n"
    }
   },
   "outputs": [],
   "source": [
    "type(_)  # the variable _ stores the result of the last expression evaluation"
   ]
  },
  {
   "cell_type": "code",
   "execution_count": null,
   "id": "c34764e6",
   "metadata": {
    "pycharm": {
     "name": "#%%\n"
    },
    "slideshow": {
     "slide_type": "slide"
    }
   },
   "outputs": [],
   "source": [
    "numbers = (4, 8, 15, 16, 23, 42)\n",
    "a, b, c, d, e, f = numbers"
   ]
  },
  {
   "cell_type": "code",
   "execution_count": null,
   "id": "8a494a8d",
   "metadata": {
    "pycharm": {
     "name": "#%%\n"
    }
   },
   "outputs": [],
   "source": [
    "a"
   ]
  },
  {
   "cell_type": "code",
   "execution_count": null,
   "id": "3cd935e4",
   "metadata": {
    "pycharm": {
     "name": "#%%\n"
    }
   },
   "outputs": [],
   "source": [
    "e"
   ]
  },
  {
   "cell_type": "code",
   "execution_count": null,
   "id": "71104a98",
   "metadata": {
    "pycharm": {
     "name": "#%%\n"
    },
    "slideshow": {
     "slide_type": "slide"
    }
   },
   "outputs": [],
   "source": [
    "colors = ('red', 'green', 'blue')\n",
    "red_variable, *other_colors = colors"
   ]
  },
  {
   "cell_type": "code",
   "execution_count": null,
   "id": "1121ed3e",
   "metadata": {
    "pycharm": {
     "name": "#%%\n"
    }
   },
   "outputs": [],
   "source": [
    "red_variable"
   ]
  },
  {
   "cell_type": "code",
   "execution_count": null,
   "id": "9041e6a2",
   "metadata": {
    "pycharm": {
     "name": "#%%\n"
    }
   },
   "outputs": [],
   "source": [
    "other_colors"
   ]
  },
  {
   "cell_type": "code",
   "execution_count": null,
   "id": "a4fb545d",
   "metadata": {
    "pycharm": {
     "name": "#%%\n"
    }
   },
   "outputs": [],
   "source": [
    "letters = 'abcdefgh'\n",
    "*other, prev, last = letters"
   ]
  },
  {
   "cell_type": "code",
   "execution_count": null,
   "id": "7f3f0e35",
   "metadata": {
    "pycharm": {
     "name": "#%%\n"
    }
   },
   "outputs": [],
   "source": [
    "print(other, prev, last)"
   ]
  },
  {
   "cell_type": "code",
   "execution_count": null,
   "id": "a781557b",
   "metadata": {
    "pycharm": {
     "name": "#%%\n"
    }
   },
   "outputs": [],
   "source": [
    "# pack, transfer, unpack\n",
    "\n",
    "type_of_object = float\n",
    "text = '-273.15'\n",
    "\n",
    "pack = (type_of_object, text)\n",
    "# ..."
   ]
  },
  {
   "cell_type": "code",
   "execution_count": null,
   "id": "3a29a28d",
   "metadata": {
    "pycharm": {
     "name": "#%%\n"
    }
   },
   "outputs": [],
   "source": [
    "call, value = pack\n",
    "call(value)"
   ]
  },
  {
   "cell_type": "code",
   "execution_count": null,
   "id": "cac6ec53",
   "metadata": {
    "pycharm": {
     "name": "#%%\n"
    }
   },
   "outputs": [],
   "source": [
    "# swap a and b\n",
    "a = 10\n",
    "b = 20\n",
    "print(a, b)\n",
    "\n",
    "a, b = b, a\n",
    "print(a, b)"
   ]
  },
  {
   "cell_type": "markdown",
   "id": "4dc417c9",
   "metadata": {
    "pycharm": {
     "name": "#%% md\n"
    },
    "slideshow": {
     "slide_type": "slide"
    }
   },
   "source": [
    "## Implicit type conversion"
   ]
  },
  {
   "cell_type": "code",
   "execution_count": null,
   "id": "6f1f01b2",
   "metadata": {
    "pycharm": {
     "name": "#%%\n"
    }
   },
   "outputs": [],
   "source": [
    "True + 1"
   ]
  },
  {
   "cell_type": "code",
   "execution_count": null,
   "id": "3ab20166",
   "metadata": {
    "pycharm": {
     "name": "#%%\n"
    }
   },
   "outputs": [],
   "source": [
    "1 + 1.0"
   ]
  },
  {
   "cell_type": "code",
   "execution_count": null,
   "id": "fec29220",
   "metadata": {
    "pycharm": {
     "name": "#%%\n"
    }
   },
   "outputs": [],
   "source": [
    "True + 1.0"
   ]
  },
  {
   "cell_type": "code",
   "execution_count": null,
   "id": "6e9e7fa5",
   "metadata": {
    "pycharm": {
     "name": "#%%\n"
    }
   },
   "outputs": [],
   "source": [
    "True == 1, \\\n",
    "1.0 == 1, \\\n",
    "\"1\" == 1"
   ]
  },
  {
   "cell_type": "markdown",
   "id": "500a6f75",
   "metadata": {
    "pycharm": {
     "name": "#%% md\n"
    },
    "slideshow": {
     "slide_type": "slide"
    }
   },
   "source": [
    "## Explicit type conversion"
   ]
  },
  {
   "cell_type": "code",
   "execution_count": null,
   "id": "10dec09e",
   "metadata": {
    "pycharm": {
     "name": "#%%\n"
    }
   },
   "outputs": [],
   "source": [
    "int(4.9), int(\"345\"), float(-7), float(\"1.4\")"
   ]
  },
  {
   "cell_type": "code",
   "execution_count": null,
   "id": "1cd796fd",
   "metadata": {
    "pycharm": {
     "name": "#%%\n"
    }
   },
   "outputs": [],
   "source": [
    "float(\"-inf\"), float(\"inf\"), float(\"nan\")"
   ]
  },
  {
   "cell_type": "code",
   "execution_count": null,
   "id": "a5189016",
   "metadata": {
    "pycharm": {
     "name": "#%%\n"
    }
   },
   "outputs": [],
   "source": [
    "list(\"abc\")"
   ]
  },
  {
   "cell_type": "code",
   "execution_count": null,
   "id": "c012524b",
   "metadata": {
    "pycharm": {
     "name": "#%%\n"
    }
   },
   "outputs": [],
   "source": [
    "str([1,2,3])"
   ]
  },
  {
   "cell_type": "code",
   "execution_count": null,
   "id": "1860085e",
   "metadata": {
    "pycharm": {
     "name": "#%%\n"
    }
   },
   "outputs": [],
   "source": [
    "tuple([\"Obi\", \"Wan\", \"Kenobi\"])"
   ]
  },
  {
   "cell_type": "code",
   "execution_count": null,
   "id": "97cbfacb",
   "metadata": {
    "pycharm": {
     "name": "#%%\n"
    },
    "slideshow": {
     "slide_type": "slide"
    }
   },
   "outputs": [],
   "source": [
    "bool(-2), bool(-1), bool(0), bool(1), bool(2)"
   ]
  },
  {
   "cell_type": "code",
   "execution_count": null,
   "id": "99ef8420",
   "metadata": {
    "pycharm": {
     "name": "#%%\n"
    }
   },
   "outputs": [],
   "source": [
    "bool(-100.0), bool(0.0), bool(1000.0)"
   ]
  },
  {
   "cell_type": "code",
   "execution_count": null,
   "id": "66a057fc",
   "metadata": {
    "pycharm": {
     "name": "#%%\n"
    }
   },
   "outputs": [],
   "source": [
    "bool(-1j), bool(0j+0), bool(3j)"
   ]
  },
  {
   "cell_type": "code",
   "execution_count": null,
   "id": "61b37ed8",
   "metadata": {
    "pycharm": {
     "name": "#%%\n"
    },
    "slideshow": {
     "slide_type": "slide"
    }
   },
   "outputs": [],
   "source": [
    "bool(\"\"), bool(\"True\"), bool(\"False\"), bool(\"[]\")"
   ]
  },
  {
   "cell_type": "code",
   "execution_count": null,
   "id": "e95cace6",
   "metadata": {
    "pycharm": {
     "name": "#%%\n"
    },
    "slideshow": {
     "slide_type": "-"
    }
   },
   "outputs": [],
   "source": [
    "bool([]), bool([10, 20, 30]), bool([True]), bool([False])"
   ]
  },
  {
   "cell_type": "code",
   "execution_count": null,
   "id": "c98b3f14",
   "metadata": {
    "pycharm": {
     "name": "#%%\n"
    }
   },
   "outputs": [],
   "source": [
    "bool(()), bool((False)), bool((False,))"
   ]
  },
  {
   "cell_type": "markdown",
   "id": "79eb3c77",
   "metadata": {
    "pycharm": {
     "name": "#%% md\n"
    },
    "slideshow": {
     "slide_type": "slide"
    }
   },
   "source": [
    "## Control flow"
   ]
  },
  {
   "cell_type": "markdown",
   "id": "af5dbf94",
   "metadata": {
    "pycharm": {
     "name": "#%% md\n"
    },
    "slideshow": {
     "slide_type": "slide"
    }
   },
   "source": [
    "### Condition operator, if, elif, else"
   ]
  },
  {
   "cell_type": "code",
   "execution_count": null,
   "id": "b0734349",
   "metadata": {
    "pycharm": {
     "name": "#%%\n"
    },
    "slideshow": {
     "slide_type": "slide"
    }
   },
   "outputs": [],
   "source": [
    "x = 30"
   ]
  },
  {
   "cell_type": "code",
   "execution_count": null,
   "id": "e7e53f98",
   "metadata": {
    "pycharm": {
     "name": "#%%\n"
    },
    "slideshow": {
     "slide_type": "-"
    }
   },
   "outputs": [],
   "source": [
    "if x % 10 == 0:  # semicolon emphasizes the beginning of еру new code block\n",
    "    \n",
    "    # indentation is important!\n",
    "\n",
    "    print(x, \"Divisible by 10\")\n",
    "elif x % 5 == 0:\n",
    "    print(x, \"Divisible by 5\")\n",
    "else:\n",
    "    print(x, \"Not divisible by 5\")"
   ]
  },
  {
   "cell_type": "code",
   "execution_count": null,
   "id": "b7b7d901",
   "metadata": {
    "pycharm": {
     "name": "#%%\n"
    },
    "slideshow": {
     "slide_type": "slide"
    }
   },
   "outputs": [],
   "source": [
    "value = 4\n",
    "\n",
    "if value > 5:\n",
    "    print('> 5')\n",
    "elif value == 5:\n",
    "    print('5')\n",
    "elif value < 5:\n",
    "    print('< 5')\n",
    "else:\n",
    "    print('HOW?!')  # Q: for which value \"HOW?!\" will be printed?"
   ]
  },
  {
   "cell_type": "markdown",
   "id": "6c2384b6",
   "metadata": {
    "pycharm": {
     "name": "#%% md\n"
    },
    "slideshow": {
     "slide_type": "slide"
    }
   },
   "source": [
    "<div class=\"alert alert-danger\">\n",
    "<b>Anti-pattern:</b> redundant brackets\n",
    "</div>"
   ]
  },
  {
   "cell_type": "code",
   "execution_count": null,
   "id": "451ce466",
   "metadata": {
    "pycharm": {
     "name": "#%%\n"
    }
   },
   "outputs": [],
   "source": [
    "if (x % 10 == 0):  # unnecessary brackets impede reading of this code\n",
    "    print(x, \"Divisible by 10\")\n",
    "elif (x % 5 == 0):\n",
    "    print(x, \"Divisible by 5\")\n",
    "else:\n",
    "    print(x, \"Not divisible by 5\")"
   ]
  },
  {
   "cell_type": "markdown",
   "id": "acfcee5e",
   "metadata": {
    "pycharm": {
     "name": "#%% md\n"
    },
    "slideshow": {
     "slide_type": "slide"
    }
   },
   "source": [
    "### Ternary operator"
   ]
  },
  {
   "cell_type": "code",
   "execution_count": null,
   "id": "6285879c",
   "metadata": {
    "pycharm": {
     "name": "#%%\n"
    }
   },
   "outputs": [],
   "source": [
    "if x % 10 == 0:\n",
    "    answer = \"Divisible by 10\"\n",
    "else:\n",
    "    answer = \"Not divisible by 10\""
   ]
  },
  {
   "cell_type": "code",
   "execution_count": null,
   "id": "9cc6c327",
   "metadata": {
    "pycharm": {
     "name": "#%%\n"
    }
   },
   "outputs": [],
   "source": [
    "answer = \"Divisible by 10\" if x % 10 == 0 else \"Not divisible by 10\""
   ]
  },
  {
   "cell_type": "markdown",
   "id": "661e2ffb",
   "metadata": {
    "pycharm": {
     "name": "#%% md\n"
    },
    "slideshow": {
     "slide_type": "slide"
    }
   },
   "source": [
    "<div class=\"alert alert-danger\">\n",
    "<b>Anti-pattern:</b> use a ternary operator for large expressions\n",
    "</div>"
   ]
  },
  {
   "cell_type": "markdown",
   "id": "45884346",
   "metadata": {
    "pycharm": {
     "name": "#%% md\n"
    }
   },
   "source": [
    "<img src=\"./images/big_ternary.png\" />"
   ]
  },
  {
   "cell_type": "markdown",
   "id": "51dcbc6c",
   "metadata": {
    "pycharm": {
     "name": "#%% md\n"
    },
    "slideshow": {
     "slide_type": "slide"
    }
   },
   "source": [
    "<div class=\"alert alert-danger\">\n",
    "<b>Anti-pattern:</b> return different types depending on the condition\n",
    "</div>"
   ]
  },
  {
   "cell_type": "code",
   "execution_count": null,
   "id": "a496830c",
   "metadata": {
    "pycharm": {
     "name": "#%%\n"
    }
   },
   "outputs": [],
   "source": [
    "x = 13\n",
    "\n",
    "answer = x % 10 if x > 0 else \"Wrong value!\""
   ]
  },
  {
   "cell_type": "markdown",
   "id": "36769e3f",
   "metadata": {},
   "source": [
    "**Execsice -1**. Write a function, which returns the middle of three given integers."
   ]
  },
  {
   "cell_type": "code",
   "execution_count": null,
   "id": "6765bf44",
   "metadata": {},
   "outputs": [],
   "source": [
    "def get_middle_value(a: int, b: int, c: int) -> int:\n",
    "    \"\"\"\n",
    "    Takes three values and returns middle value.\n",
    "    \"\"\"\n",
    "    pass"
   ]
  },
  {
   "cell_type": "code",
   "execution_count": null,
   "id": "69f62f9c",
   "metadata": {},
   "outputs": [],
   "source": [
    "assert get_middle_value(1, 2, 3) == 2\n",
    "assert get_middle_value(1, 3, 2) == 2\n",
    "assert get_middle_value(2, 1, 3) == 2\n",
    "assert get_middle_value(2, 3, 1) == 2\n",
    "assert get_middle_value(3, 1, 2) == 2\n",
    "assert get_middle_value(3, 2, 1) == 2\n",
    "assert get_middle_value(-100, -10, 100) == -10\n",
    "assert get_middle_value(100, -100, -10) == -10\n",
    "assert get_middle_value(-10, -10, -5) == -10\n",
    "assert get_middle_value(-10, -10, -10) == -10\n",
    "assert get_middle_value(-100, 10, 100) == 10\n",
    "assert get_middle_value(0, 0, 0) == 0\n",
    "assert get_middle_value(10**12, -10**12, 10**10) == 10**10"
   ]
  },
  {
   "cell_type": "markdown",
   "id": "85f8d3f2",
   "metadata": {
    "pycharm": {
     "name": "#%% md\n"
    },
    "slideshow": {
     "slide_type": "slide"
    }
   },
   "source": [
    "### or, and"
   ]
  },
  {
   "cell_type": "code",
   "execution_count": null,
   "id": "ae44a14e",
   "metadata": {
    "pycharm": {
     "name": "#%%\n"
    }
   },
   "outputs": [],
   "source": [
    "bool(20), bool(0)"
   ]
  },
  {
   "cell_type": "code",
   "execution_count": null,
   "id": "a7a2a1cf",
   "metadata": {
    "pycharm": {
     "name": "#%%\n"
    }
   },
   "outputs": [],
   "source": [
    "bool(20 or 0), bool(20 and 0)"
   ]
  },
  {
   "cell_type": "code",
   "execution_count": null,
   "id": "921257d9",
   "metadata": {
    "pycharm": {
     "name": "#%%\n"
    }
   },
   "outputs": [],
   "source": [
    "type(20 or 0), type(20 and 0)"
   ]
  },
  {
   "cell_type": "code",
   "execution_count": null,
   "id": "c6d5fef0",
   "metadata": {
    "pycharm": {
     "name": "#%%\n"
    },
    "slideshow": {
     "slide_type": "slide"
    }
   },
   "outputs": [],
   "source": [
    "x = \"\"\n",
    "if x:\n",
    "    pass  # pass just does nothing\n",
    "else:\n",
    "    x = \"default\"\n",
    "    \n",
    "x"
   ]
  },
  {
   "cell_type": "code",
   "execution_count": null,
   "id": "d4b7838b",
   "metadata": {
    "pycharm": {
     "name": "#%%\n"
    }
   },
   "outputs": [],
   "source": [
    "x = \"\"\n",
    "x = x or \"default\"  # often pattern to substitute empty value\n",
    "\n",
    "x"
   ]
  },
  {
   "cell_type": "markdown",
   "id": "2010077a",
   "metadata": {
    "pycharm": {
     "name": "#%% md\n"
    },
    "slideshow": {
     "slide_type": "slide"
    }
   },
   "source": [
    "### Lazy evaluation"
   ]
  },
  {
   "cell_type": "code",
   "execution_count": null,
   "id": "cc9f50a7",
   "metadata": {
    "pycharm": {
     "name": "#%%\n"
    }
   },
   "outputs": [],
   "source": [
    "#Q: what will happen?\n",
    "print(0 and NEVER_EXISTED_VARIABLE)\n",
    "print([10] or NEVER_EXISTED_VARIABLE)"
   ]
  },
  {
   "cell_type": "code",
   "execution_count": null,
   "id": "75b7547c",
   "metadata": {
    "pycharm": {
     "name": "#%%\n"
    }
   },
   "outputs": [],
   "source": [
    "print(10 and NEVER_EXISTED_VARIABLE)"
   ]
  },
  {
   "cell_type": "code",
   "execution_count": null,
   "id": "e8fdda50",
   "metadata": {
    "pycharm": {
     "name": "#%%\n"
    }
   },
   "outputs": [],
   "source": [
    "10 or print(\"lazy\")"
   ]
  },
  {
   "cell_type": "code",
   "execution_count": null,
   "id": "92ffd304",
   "metadata": {
    "pycharm": {
     "name": "#%%\n"
    }
   },
   "outputs": [],
   "source": [
    "print(\"start\") or print(\"end\")"
   ]
  },
  {
   "cell_type": "code",
   "execution_count": null,
   "id": "a5d67ad9",
   "metadata": {},
   "outputs": [],
   "source": [
    "print(\"start\")"
   ]
  },
  {
   "cell_type": "markdown",
   "id": "39dbec55",
   "metadata": {
    "pycharm": {
     "name": "#%% md\n"
    },
    "slideshow": {
     "slide_type": "slide"
    }
   },
   "source": [
    "### None"
   ]
  },
  {
   "cell_type": "code",
   "execution_count": null,
   "id": "4d569c71",
   "metadata": {
    "pycharm": {
     "name": "#%%\n"
    }
   },
   "outputs": [],
   "source": [
    "# None means the value is missing\n",
    "None"
   ]
  },
  {
   "cell_type": "code",
   "execution_count": null,
   "id": "e56cd60b",
   "metadata": {
    "pycharm": {
     "name": "#%%\n"
    }
   },
   "outputs": [],
   "source": [
    "type(_)  # sic! None is not stored to _ (because \"value is missing\")\n",
    "         # so _ contains one of previous values"
   ]
  },
  {
   "cell_type": "code",
   "execution_count": null,
   "id": "89bdaf3a",
   "metadata": {
    "pycharm": {
     "name": "#%%\n"
    }
   },
   "outputs": [],
   "source": [
    "type(None)"
   ]
  },
  {
   "cell_type": "code",
   "execution_count": null,
   "id": "8b9f8abe",
   "metadata": {
    "pycharm": {
     "name": "#%%\n"
    }
   },
   "outputs": [],
   "source": [
    "bool(None), str(None)"
   ]
  },
  {
   "cell_type": "markdown",
   "id": "2f4031aa",
   "metadata": {
    "pycharm": {
     "name": "#%% md\n"
    },
    "slideshow": {
     "slide_type": "slide"
    }
   },
   "source": [
    "### None usage"
   ]
  },
  {
   "cell_type": "code",
   "execution_count": null,
   "id": "8dba4159",
   "metadata": {
    "pycharm": {
     "name": "#%%\n"
    }
   },
   "outputs": [],
   "source": [
    "# Turning video on...\n",
    "\n",
    "is_working = False  # something is broken\n",
    "\n",
    "if is_working:\n",
    "    channel = 'Megasuper Channel'\n",
    "else:\n",
    "    channel = None "
   ]
  },
  {
   "cell_type": "code",
   "execution_count": null,
   "id": "eaf7a4b2",
   "metadata": {
    "pycharm": {
     "name": "#%%\n"
    }
   },
   "outputs": [],
   "source": [
    "value = print(\"I am print!\")  # print just prints objects, and returns None\n",
    "    \n",
    "print(\"value\", \"=\", value)"
   ]
  },
  {
   "cell_type": "markdown",
   "id": "a83a793a",
   "metadata": {
    "pycharm": {
     "name": "#%% md\n"
    },
    "slideshow": {
     "slide_type": "slide"
    }
   },
   "source": [
    "<div class=\"alert alert-danger\">\n",
    "<b>Аnti-pattern:</b> checking `== None` instead of `is None`\n",
    "</div>"
   ]
  },
  {
   "cell_type": "code",
   "execution_count": null,
   "id": "8fbadab9",
   "metadata": {
    "pycharm": {
     "name": "#%%\n"
    }
   },
   "outputs": [],
   "source": [
    "# print size of value, if value is not None\n",
    "\n",
    "value = None\n",
    "# value = \"Football\"\n",
    "# value = \"\"\n",
    "\n",
    "# Newbie\n",
    "if value != None:  # works for basic types, but \n",
    "                   # nonstandard objects could equal None,\n",
    "                   # not beeing None\n",
    "    print(len(value))\n",
    "\n",
    "# Newbie 2\n",
    "if value:  # empty list coerced to False \n",
    "    print(len(value))\n",
    "    \n",
    "# Expert\n",
    "if value is not None:  # is checks if value is the same object\n",
    "    print(len(value))"
   ]
  },
  {
   "cell_type": "markdown",
   "id": "0768ea06",
   "metadata": {
    "pycharm": {
     "name": "#%% md\n"
    },
    "slideshow": {
     "slide_type": "slide"
    }
   },
   "source": [
    "### Loops: for"
   ]
  },
  {
   "cell_type": "code",
   "execution_count": null,
   "id": "e86f2806",
   "metadata": {
    "pycharm": {
     "name": "#%%\n"
    }
   },
   "outputs": [],
   "source": [
    "# print numbers from 1 to 10\n",
    "print(1)\n",
    "print(2)\n",
    "print(3)\n",
    "print(4)\n",
    "print(5)\n",
    "print(6)\n",
    "print(7)\n",
    "print(8)\n",
    "print(9)\n",
    "print(10)"
   ]
  },
  {
   "cell_type": "code",
   "execution_count": null,
   "id": "34ba49df",
   "metadata": {
    "pycharm": {
     "name": "#%%\n"
    },
    "slideshow": {
     "slide_type": "slide"
    }
   },
   "outputs": [],
   "source": [
    "for n in [1, 2, 3, 4, 5, 6, 7, 8, 9, 10]:\n",
    "    print(n)"
   ]
  },
  {
   "cell_type": "code",
   "execution_count": null,
   "id": "627ca93e",
   "metadata": {
    "pycharm": {
     "name": "#%%\n"
    },
    "slideshow": {
     "slide_type": "slide"
    }
   },
   "outputs": [],
   "source": [
    "for letter in \"ABCDE\":\n",
    "    print(\"Letter\", letter)"
   ]
  },
  {
   "cell_type": "code",
   "execution_count": null,
   "id": "90fc8723",
   "metadata": {
    "pycharm": {
     "name": "#%%\n"
    }
   },
   "outputs": [],
   "source": [
    "for obj in (int, 10.1, True, None):\n",
    "    print(obj)"
   ]
  },
  {
   "cell_type": "code",
   "execution_count": null,
   "id": "a6a3db74",
   "metadata": {},
   "outputs": [],
   "source": [
    "for k in {\"a\": 1, \"b\": 2}:\n",
    "    print(k)"
   ]
  },
  {
   "cell_type": "code",
   "execution_count": null,
   "id": "b23978b0",
   "metadata": {},
   "outputs": [],
   "source": [
    "d = {\"a\": 1, \"b\": 2}\n",
    "for k, v in d.items():\n",
    "    print(k ,v)"
   ]
  },
  {
   "cell_type": "code",
   "execution_count": null,
   "id": "f409bdc5",
   "metadata": {
    "pycharm": {
     "name": "#%%\n"
    },
    "slideshow": {
     "slide_type": "slide"
    }
   },
   "outputs": [],
   "source": [
    "# print numbers 1 to 1000000\n",
    "\n",
    "for n in [1, 2, 3, ]:  # too long to type...\n",
    "    print(n)"
   ]
  },
  {
   "cell_type": "markdown",
   "id": "87fc6fbc",
   "metadata": {
    "pycharm": {
     "name": "#%% md\n"
    },
    "slideshow": {
     "slide_type": "slide"
    }
   },
   "source": [
    "### range"
   ]
  },
  {
   "cell_type": "code",
   "execution_count": null,
   "id": "d55531c4",
   "metadata": {
    "pycharm": {
     "name": "#%%\n"
    }
   },
   "outputs": [],
   "source": [
    "numbers = range(10)"
   ]
  },
  {
   "cell_type": "code",
   "execution_count": null,
   "id": "c9c63412",
   "metadata": {
    "pycharm": {
     "name": "#%%\n"
    }
   },
   "outputs": [],
   "source": [
    "type(numbers)"
   ]
  },
  {
   "cell_type": "code",
   "execution_count": null,
   "id": "197bb6d6",
   "metadata": {
    "pycharm": {
     "name": "#%%\n"
    }
   },
   "outputs": [],
   "source": [
    "numbers[0], numbers[-1]"
   ]
  },
  {
   "cell_type": "code",
   "execution_count": null,
   "id": "6c3a67da",
   "metadata": {
    "pycharm": {
     "name": "#%%\n"
    }
   },
   "outputs": [],
   "source": [
    "reversed_numbers = numbers[::-1]\n",
    "reversed_numbers"
   ]
  },
  {
   "cell_type": "code",
   "execution_count": null,
   "id": "e790b365",
   "metadata": {
    "pycharm": {
     "name": "#%%\n"
    },
    "slideshow": {
     "slide_type": "slide"
    }
   },
   "outputs": [],
   "source": [
    "list(range(10))"
   ]
  },
  {
   "cell_type": "code",
   "execution_count": null,
   "id": "7b2c2c8b",
   "metadata": {
    "pycharm": {
     "name": "#%%\n"
    }
   },
   "outputs": [],
   "source": [
    "list(range(4, 14))  # half-open interval [4, 14)"
   ]
  },
  {
   "cell_type": "code",
   "execution_count": null,
   "id": "1614641d",
   "metadata": {
    "pycharm": {
     "name": "#%%\n"
    }
   },
   "outputs": [],
   "source": [
    "list(range(4, 14, 3))"
   ]
  },
  {
   "cell_type": "code",
   "execution_count": null,
   "id": "f22a6ce2",
   "metadata": {
    "pycharm": {
     "name": "#%%\n"
    }
   },
   "outputs": [],
   "source": [
    "list(range(14, 4, -2))"
   ]
  },
  {
   "cell_type": "code",
   "execution_count": null,
   "id": "a498800d",
   "metadata": {
    "pycharm": {
     "name": "#%%\n"
    }
   },
   "outputs": [],
   "source": [
    "range(10**100)  # does not fit in memory, but range can handle it"
   ]
  },
  {
   "cell_type": "code",
   "execution_count": null,
   "id": "3f522cb4",
   "metadata": {
    "pycharm": {
     "name": "#%%\n"
    },
    "slideshow": {
     "slide_type": "-"
    }
   },
   "outputs": [],
   "source": [
    "range('a', 'f', 2)  # Q: will it work?"
   ]
  },
  {
   "cell_type": "markdown",
   "id": "0e7f730b",
   "metadata": {
    "pycharm": {
     "name": "#%% md\n"
    },
    "slideshow": {
     "slide_type": "slide"
    }
   },
   "source": [
    "### Loops: for"
   ]
  },
  {
   "cell_type": "code",
   "execution_count": null,
   "id": "ea394d46",
   "metadata": {
    "pycharm": {
     "name": "#%%\n"
    },
    "slideshow": {
     "slide_type": "-"
    }
   },
   "outputs": [],
   "source": [
    "# Print numbers from 0 to 1000000\n",
    "\n",
    "for n in range(1000000):\n",
    "    # print(n)  # закомментировано, чтоб случайно не напечатать и не подвесить jupyter ;]\n",
    "    pass"
   ]
  },
  {
   "cell_type": "code",
   "execution_count": null,
   "id": "a045dfd3",
   "metadata": {
    "pycharm": {
     "name": "#%%\n"
    },
    "slideshow": {
     "slide_type": "slide"
    }
   },
   "outputs": [],
   "source": [
    "# print alphabet in direct and reversed orders\n",
    "alphabet = 'abcdefghijklmnopqrstuvwxyz'\n",
    "for letter in alphabet:\n",
    "    print(letter, end=' ')\n",
    "    \n",
    "print()\n",
    "    \n",
    "for letter in alphabet[::-1]:\n",
    "    print(letter, end=' ')"
   ]
  },
  {
   "cell_type": "markdown",
   "id": "f3121500",
   "metadata": {
    "pycharm": {
     "name": "#%% md\n"
    },
    "slideshow": {
     "slide_type": "slide"
    }
   },
   "source": [
    "<div class=\"alert alert-danger\">\n",
    "<b>Anti-pattern:</b> [::-1] is read poorly. It's better to use reversed\n",
    "</div>"
   ]
  },
  {
   "cell_type": "code",
   "execution_count": null,
   "id": "9a0e3ad8",
   "metadata": {
    "pycharm": {
     "name": "#%%\n"
    }
   },
   "outputs": [],
   "source": [
    "reversed(alphabet)"
   ]
  },
  {
   "cell_type": "code",
   "execution_count": null,
   "id": "75223b0c",
   "metadata": {
    "pycharm": {
     "name": "#%%\n"
    }
   },
   "outputs": [],
   "source": [
    "for letter in reversed(alphabet):\n",
    "    print(letter, end=' ')"
   ]
  },
  {
   "cell_type": "code",
   "execution_count": null,
   "id": "a017c6c4",
   "metadata": {
    "pycharm": {
     "name": "#%%\n"
    }
   },
   "outputs": [],
   "source": [
    "for value in range(9, -1, -1):\n",
    "    print(value, end=' ')\n",
    "\n",
    "print()\n",
    "\n",
    "for value in reversed(range(10)):\n",
    "    print(value, end=' ')"
   ]
  },
  {
   "cell_type": "markdown",
   "id": "18e78b35",
   "metadata": {},
   "source": [
    "**Exersice 0.** Write five versions of reversing list program."
   ]
  },
  {
   "cell_type": "code",
   "execution_count": null,
   "id": "89e7ddd5",
   "metadata": {},
   "outputs": [],
   "source": [
    "def reverse_iterative(lst: list[int]) -> list[int]:\n",
    "    \"\"\"\n",
    "    Return reversed list. You can use only iteration\n",
    "    :param lst: input list\n",
    "    :return: reversed list\n",
    "    \"\"\"\n",
    "    # lst = [1, 5, 7, 8, -54] -> [-54, 8, 7, 5, 1]\n",
    "    result = list()\n",
    "    for i in range(len(lst)):\n",
    "        result.append(lst[len(lst) - i - 1])\n",
    "    return result\n",
    "\n",
    "def reverse_inplace_iterative(lst: list[int]) -> None:\n",
    "    \"\"\"\n",
    "    Revert list inplace. You can use only iteration\n",
    "    :param lst: input list\n",
    "    :return: None\n",
    "    \"\"\"\n",
    "    # YOUR CODE HERE\n",
    "\n",
    "\n",
    "def reverse_inplace(lst: list[int]) -> None:\n",
    "    \"\"\"\n",
    "    Revert list inplace with reverse method\n",
    "    :param lst: input list\n",
    "    :return: None\n",
    "    \"\"\"\n",
    "    # YOUR CODE HERE\n",
    "\n",
    "\n",
    "def reverse_reversed(lst: list[int]) -> list[int]:\n",
    "    \"\"\"\n",
    "    Revert list with `reversed`\n",
    "    :param lst: input list\n",
    "    :return: reversed list\n",
    "    \"\"\"\n",
    "    # YOUR CODE HERE\n",
    "\n",
    "def reverse_slice(lst: list[int]) -> list[int]:\n",
    "    \"\"\"\n",
    "    Revert list with slicing\n",
    "    :param lst: input list\n",
    "    :return: reversed list\n",
    "    \"\"\"\n",
    "    # YOUR CODE HERE"
   ]
  },
  {
   "cell_type": "code",
   "execution_count": null,
   "id": "ec534fdd",
   "metadata": {},
   "outputs": [],
   "source": [
    "reverse_iterative([1, 5, 7, 8, -54])"
   ]
  },
  {
   "cell_type": "code",
   "execution_count": null,
   "id": "30fb2637",
   "metadata": {},
   "outputs": [],
   "source": [
    "reverse_slice([1, 5, 7, 8, -54])"
   ]
  },
  {
   "cell_type": "markdown",
   "id": "1b2168c1",
   "metadata": {},
   "source": [
    "**Excercise 1.** The legendary [FizzBuzz](http://wiki.c2.com/?FizzBuzzTest) (if you think that it is too easy, look [here](https://habr.com/ru/post/540136/))."
   ]
  },
  {
   "cell_type": "code",
   "execution_count": null,
   "id": "ae997e8f",
   "metadata": {},
   "outputs": [],
   "source": [
    "def FizzBuzz(n):\n",
    "    \"\"\"\n",
    "    Prints numbers from 1 to n.\n",
    "    But for the multiples of three print 'Fizz' instead of the number \n",
    "    and for the multiples of five print 'Buzz'.\n",
    "    For numbers which are multiples of both three and five print 'FizzBuzz'.\n",
    "    \"\"\"\n",
    "    # YOUR CODE HERE"
   ]
  },
  {
   "cell_type": "code",
   "execution_count": null,
   "id": "484196ac",
   "metadata": {},
   "outputs": [],
   "source": [
    "FizzBuzz(5)"
   ]
  },
  {
   "cell_type": "code",
   "execution_count": null,
   "id": "838258fa",
   "metadata": {},
   "outputs": [],
   "source": [
    "FizzBuzz(15)"
   ]
  },
  {
   "cell_type": "markdown",
   "id": "1b856149",
   "metadata": {
    "pycharm": {
     "name": "#%% md\n"
    },
    "slideshow": {
     "slide_type": "slide"
    }
   },
   "source": [
    "### Loops: while"
   ]
  },
  {
   "cell_type": "code",
   "execution_count": null,
   "id": "e0d21df0",
   "metadata": {
    "pycharm": {
     "name": "#%%\n"
    },
    "slideshow": {
     "slide_type": "slide"
    }
   },
   "outputs": [],
   "source": [
    "data = [.0, .0, .0, 1.2]\n",
    "\n",
    "while len(data) > data[-1]:\n",
    "    last = data[-1]\n",
    "    data.append(last * last)\n",
    "    \n",
    "    print(data)"
   ]
  },
  {
   "cell_type": "code",
   "execution_count": null,
   "id": "744f9675",
   "metadata": {},
   "outputs": [],
   "source": [
    "def gcd(a, b):\n",
    "    # Euclid's algorithm\n",
    "    while a > 0:\n",
    "        if a > b:\n",
    "            a, b = b, a\n",
    "        a, b = b % a, a\n",
    "    return b\n",
    "\n",
    "gcd(10010, 1100)"
   ]
  },
  {
   "cell_type": "markdown",
   "id": "82866a75",
   "metadata": {
    "pycharm": {
     "name": "#%% md\n"
    },
    "slideshow": {
     "slide_type": "slide"
    }
   },
   "source": [
    "<div class=\"alert alert-info\">\n",
    "    <b>Advice:</b> use <b>for</b> when elements are handled sequentially and independently\n",
    "</div>"
   ]
  },
  {
   "cell_type": "code",
   "execution_count": null,
   "id": "b0aa3219",
   "metadata": {
    "pycharm": {
     "name": "#%%\n"
    }
   },
   "outputs": [],
   "source": [
    "data = [10, 20, 30, 40]\n",
    "\n",
    "print(\"Print every element in the list\")\n",
    "\n",
    "for value in data:\n",
    "    print(value, end=', ')\n",
    "\n",
    "print()\n",
    "print(\"For every element in the list print: (index, element)\")\n",
    "\n",
    "for i, value in enumerate(data):\n",
    "    # enumerate maps data objects to the tuple (index, object)\n",
    "    print(i, value, end=', ')\n",
    "\n",
    "print()\n",
    "print(\"Print index every element in the list\")\n",
    "\n",
    "for i in range(len(data)):\n",
    "    print(i, end=', ')"
   ]
  },
  {
   "cell_type": "markdown",
   "id": "69348eb1",
   "metadata": {
    "pycharm": {
     "name": "#%% md\n"
    },
    "slideshow": {
     "slide_type": "slide"
    }
   },
   "source": [
    "<div class=\"alert alert-danger\">\n",
    "<b>Anti-pattern:</b> alter the object being iterated by in for loop\n",
    "</div>"
   ]
  },
  {
   "cell_type": "code",
   "execution_count": null,
   "id": "f6341c2d",
   "metadata": {
    "pycharm": {
     "name": "#%%\n"
    }
   },
   "outputs": [],
   "source": [
    "data = [0,1,2,3,4,5,6,7,8,9,10]\n",
    "\n",
    "for value in data:\n",
    "    print(value, end=', ')\n",
    "    data.pop(0)  # delete the first element"
   ]
  },
  {
   "cell_type": "markdown",
   "id": "3efd1703",
   "metadata": {
    "pycharm": {
     "name": "#%% md\n"
    },
    "slideshow": {
     "slide_type": "slide"
    }
   },
   "source": [
    "<div class=\"alert alert-info\">\n",
    "    <b>Рекомендация:</b> use <b>while</b> if the list changes at each iteration, or if the number of iterations is unpredictible\n",
    "</div>"
   ]
  },
  {
   "cell_type": "code",
   "execution_count": null,
   "id": "2ca51c85",
   "metadata": {
    "pycharm": {
     "name": "#%%\n"
    }
   },
   "outputs": [],
   "source": [
    "data = [0,1,2,3,4,5,6,7,8,9,10]\n",
    "\n",
    "while data:\n",
    "    value = data.pop(0)\n",
    "    print(value, end=', ')"
   ]
  },
  {
   "cell_type": "markdown",
   "id": "782d0128",
   "metadata": {},
   "source": [
    "**Excercise 2.** [Collatz conjecture](https://en.wikipedia.org/wiki/Collatz_conjecture) states that for any $n \\in \\mathbb N$ the iterative calculation of the function\n",
    "$$\n",
    "    f(n) = \\begin{cases}\n",
    "        \\frac n2,& n \\text{ is even,}\\\\\n",
    "        3n+1, & n \\text{ is odd.}\n",
    "    \\end{cases}\n",
    "$$\n",
    "finally reaches $1$. For example:\n",
    "* $f(2) = 1$ (one iteration);\n",
    "* $f(3) = 10$, $f(10) = 5$, $f(5) = 16$, $f(16) = 8$, $f(8) = 4$, $f(4) = 2$, $f(2) = 1$ (seven iterations); \n",
    "* $f(4) = 2$, $f(2) = 1$ (two iterations). \n",
    "\n",
    "Calculate the number of steps for n to reach 1."
   ]
  },
  {
   "cell_type": "code",
   "execution_count": null,
   "id": "2a9330e4",
   "metadata": {},
   "outputs": [],
   "source": [
    "def collatz_steps(n):\n",
    "    # YOUR CODE HERE"
   ]
  },
  {
   "cell_type": "code",
   "execution_count": null,
   "id": "b33431ab",
   "metadata": {},
   "outputs": [],
   "source": [
    "# run this cell to test your solution\n",
    "\n",
    "ground_truth = {1: 0,\n",
    "                2: 1,\n",
    "                3: 7,\n",
    "                4: 2,\n",
    "                5: 5,\n",
    "                6: 8,\n",
    "                7: 16,\n",
    "                8: 3,\n",
    "                9: 19,\n",
    "                27: 111,\n",
    "                257: 122,\n",
    "                1000: 111,\n",
    "                100500: 66\n",
    "               }\n",
    "\n",
    "for n, steps in ground_truth.items():\n",
    "    got_steps = collatz_steps(n)\n",
    "    assert got_steps == steps, f\"Expected {steps}, got: {got_steps}\""
   ]
  },
  {
   "cell_type": "markdown",
   "id": "8455860e",
   "metadata": {
    "pycharm": {
     "name": "#%% md\n"
    },
    "slideshow": {
     "slide_type": "slide"
    }
   },
   "source": [
    "### Loops: break, continue, else"
   ]
  },
  {
   "cell_type": "markdown",
   "id": "3de4c070",
   "metadata": {
    "pycharm": {
     "name": "#%% md\n"
    }
   },
   "source": [
    "#### contnue"
   ]
  },
  {
   "cell_type": "code",
   "execution_count": null,
   "id": "9e99e5a8",
   "metadata": {
    "pycharm": {
     "name": "#%%\n"
    }
   },
   "outputs": [],
   "source": [
    "# continue stops the execution of the current iteration and goes to the next one"
   ]
  },
  {
   "cell_type": "code",
   "execution_count": null,
   "id": "7b3ddab5",
   "metadata": {
    "pycharm": {
     "name": "#%%\n"
    }
   },
   "outputs": [],
   "source": [
    "skip = 7\n",
    "\n",
    "for n in range(10):\n",
    "    if n == skip:\n",
    "        print('*', end=', ')\n",
    "        continue\n",
    "    print(n, end=', ')"
   ]
  },
  {
   "cell_type": "code",
   "execution_count": null,
   "id": "d6f82cd0",
   "metadata": {
    "pycharm": {
     "name": "#%%\n"
    }
   },
   "outputs": [],
   "source": [
    "data = [1, 2, 3, 4, 5, 6, 7]\n",
    "\n",
    "while data:\n",
    "    value = data.pop()  # remove the last element\n",
    "    if 2 <= len(data) <= 4:\n",
    "        continue\n",
    "    print(value, end=', ')"
   ]
  },
  {
   "cell_type": "markdown",
   "id": "b1975132",
   "metadata": {
    "pycharm": {
     "name": "#%% md\n"
    },
    "slideshow": {
     "slide_type": "slide"
    }
   },
   "source": [
    "#### break"
   ]
  },
  {
   "cell_type": "code",
   "execution_count": null,
   "id": "a105c4da",
   "metadata": {
    "pycharm": {
     "name": "#%%\n"
    }
   },
   "outputs": [],
   "source": [
    "# break interrupts the loop execution"
   ]
  },
  {
   "cell_type": "code",
   "execution_count": null,
   "id": "ea600005",
   "metadata": {
    "pycharm": {
     "name": "#%%\n"
    }
   },
   "outputs": [],
   "source": [
    "# break interrupts the loop execution\n",
    "\n",
    "for natural in [1, 2, 3, 4, -1, 20]:\n",
    "    if natural < 0:\n",
    "        print(\"ERROR\")\n",
    "        break\n",
    "    "
   ]
  },
  {
   "cell_type": "code",
   "execution_count": null,
   "id": "c9a8d42d",
   "metadata": {
    "pycharm": {
     "name": "#%%\n"
    }
   },
   "outputs": [],
   "source": [
    "from datetime import datetime\n",
    "\n",
    "secret_number = 1 + datetime.now().microsecond % 100\n",
    "\n",
    "while True:\n",
    "    n = int(input(\"Enter your guess:\"))\n",
    "    if n == secret_number:\n",
    "        print(\"You win!\")\n",
    "        break\n",
    "    if n == 0:\n",
    "        print(\"The secret number was\", secret_number)\n",
    "        break"
   ]
  },
  {
   "cell_type": "markdown",
   "id": "adeeab3e",
   "metadata": {
    "pycharm": {
     "name": "#%% md\n"
    },
    "slideshow": {
     "slide_type": "slide"
    }
   },
   "source": [
    "#### else"
   ]
  },
  {
   "cell_type": "code",
   "execution_count": null,
   "id": "2fdc2764",
   "metadata": {
    "pycharm": {
     "name": "#%%\n"
    }
   },
   "outputs": [],
   "source": [
    "# if the loop was not finished by break then else-block executes"
   ]
  },
  {
   "cell_type": "code",
   "execution_count": null,
   "id": "446ea51d",
   "metadata": {
    "pycharm": {
     "name": "#%%\n"
    }
   },
   "outputs": [],
   "source": [
    "for line in ['Hello', 'World', 'Library']:\n",
    "    if len(line) > 7:\n",
    "        print(\"Found long line!\")\n",
    "        break\n",
    "else:\n",
    "    print(\"All lines are short\")"
   ]
  },
  {
   "cell_type": "markdown",
   "id": "3d9f8ffb",
   "metadata": {
    "pycharm": {
     "name": "#%% md\n"
    },
    "slideshow": {
     "slide_type": "slide"
    }
   },
   "source": [
    "## Built-ins"
   ]
  },
  {
   "cell_type": "code",
   "execution_count": null,
   "id": "0c388fcc",
   "metadata": {
    "pycharm": {
     "name": "#%%\n"
    },
    "slideshow": {
     "slide_type": "slide"
    }
   },
   "outputs": [],
   "source": [
    "dir(__builtins__)"
   ]
  },
  {
   "cell_type": "markdown",
   "id": "c77381a1",
   "metadata": {
    "pycharm": {
     "name": "#%% md\n"
    },
    "slideshow": {
     "slide_type": "slide"
    }
   },
   "source": [
    "<div class=\"alert alert-danger\">\n",
    "<b>Anti-pattern:</b> use builtins as names for variables\n",
    "</div>"
   ]
  },
  {
   "cell_type": "code",
   "execution_count": null,
   "id": "a1405f6f",
   "metadata": {
    "pycharm": {
     "name": "#%%\n"
    },
    "slideshow": {
     "slide_type": "-"
    }
   },
   "outputs": [],
   "source": [
    "# Q: What will happen?\n",
    "str = 'hello'\n",
    "str(1)"
   ]
  },
  {
   "cell_type": "code",
   "execution_count": null,
   "id": "81e0ba06",
   "metadata": {
    "pycharm": {
     "name": "#%%\n"
    }
   },
   "outputs": [],
   "source": [
    "str = __builtins__.str  # Recovering"
   ]
  },
  {
   "cell_type": "code",
   "execution_count": null,
   "id": "29ad217e",
   "metadata": {
    "pycharm": {
     "name": "#%%\n"
    },
    "slideshow": {
     "slide_type": "slide"
    }
   },
   "outputs": [],
   "source": [
    "print, reversed, enumerate"
   ]
  },
  {
   "cell_type": "code",
   "execution_count": null,
   "id": "71311282",
   "metadata": {
    "pycharm": {
     "name": "#%%\n"
    }
   },
   "outputs": [],
   "source": [
    "# built-in functions\n",
    "min, max, sum, ..."
   ]
  },
  {
   "cell_type": "markdown",
   "id": "12ab2ad1",
   "metadata": {
    "pycharm": {
     "name": "#%% md\n"
    },
    "slideshow": {
     "slide_type": "slide"
    }
   },
   "source": [
    "<div class=\"alert alert-danger\">\n",
    "<b>Anti-pattern:</b> do not use built-ins for simple operations\n",
    "</div>"
   ]
  },
  {
   "cell_type": "code",
   "execution_count": null,
   "id": "2cef30bd",
   "metadata": {
    "pycharm": {
     "name": "#%%\n"
    }
   },
   "outputs": [],
   "source": [
    "data = [1, 2, 3, 4, 5]\n",
    "\n",
    "# Newbie\n",
    "total = 0\n",
    "for el in data:\n",
    "    total += el\n",
    "    \n",
    "# Expert\n",
    "total = sum(data)\n",
    "\n",
    "total"
   ]
  },
  {
   "cell_type": "code",
   "execution_count": null,
   "id": "1d9467d5",
   "metadata": {
    "pycharm": {
     "name": "#%%\n"
    },
    "slideshow": {
     "slide_type": "slide"
    }
   },
   "outputs": [],
   "source": [
    "data = [1, 2, 3, 4, 5]\n",
    "\n",
    "# Newbie\n",
    "\n",
    "min_value = None\n",
    "\n",
    "for el in data:\n",
    "    if min_value is None:\n",
    "        min_value = el\n",
    "    else:\n",
    "        if el < min_value:\n",
    "            min_value = el\n",
    "    \n",
    "# Expert\n",
    "min_value = min(data)"
   ]
  },
  {
   "cell_type": "code",
   "execution_count": null,
   "id": "fbbbaa1d",
   "metadata": {
    "pycharm": {
     "name": "#%%\n"
    },
    "slideshow": {
     "slide_type": "-"
    }
   },
   "outputs": [],
   "source": [
    "# Q: What's the value of this expression?\n",
    "max([])"
   ]
  },
  {
   "cell_type": "code",
   "execution_count": null,
   "id": "5a384c6e",
   "metadata": {
    "pycharm": {
     "name": "#%%\n"
    },
    "slideshow": {
     "slide_type": "slide"
    }
   },
   "outputs": [],
   "source": [
    "# newbie\n",
    "for value in [1, 2, 3, 4, 5]:\n",
    "    print(value, end=', ')\n",
    "\n",
    "print()\n",
    "\n",
    "# expert\n",
    "for value in range(1, 6):\n",
    "    print(value, end=', ')"
   ]
  },
  {
   "cell_type": "code",
   "execution_count": null,
   "id": "2da13193",
   "metadata": {
    "pycharm": {
     "name": "#%%\n"
    }
   },
   "outputs": [],
   "source": [
    "data = [1, 2, 3, 4, 5]\n",
    "\n",
    "# newbie\n",
    "for i in range(len(data)):\n",
    "    print(i, data[i], end=', ')\n",
    "\n",
    "print()\n",
    "    \n",
    "# expert\n",
    "for i, value in enumerate(data):\n",
    "    print(i, value, end=', ')"
   ]
  },
  {
   "cell_type": "code",
   "execution_count": null,
   "id": "311068ca",
   "metadata": {
    "pycharm": {
     "name": "#%%\n"
    }
   },
   "outputs": [],
   "source": [
    "data = [1, 2, 3, 4, 5]\n",
    "letters = ['a', 'b', 'c', 'd', 'e']\n",
    "\n",
    "# newbie\n",
    "for i in range(len(data)):\n",
    "    print(i, (data[i], letters[i]), end=', ')\n",
    "\n",
    "print()\n",
    "    \n",
    "# expert\n",
    "for i, value in enumerate(zip(data, letters)):\n",
    "    print(i, value, end=', ')"
   ]
  },
  {
   "cell_type": "code",
   "execution_count": null,
   "id": "d50c65e5",
   "metadata": {
    "pycharm": {
     "name": "#%%\n"
    },
    "slideshow": {
     "slide_type": "slide"
    }
   },
   "outputs": [],
   "source": [
    "math_vector_first = [1.0, -3.5, 4.1]\n",
    "math_vector_second = [7.0, -1.1, -1.4]\n",
    "#math_vector_sum = ? Using numpy is a better choice!\n",
    "\n",
    "math_vector_sum = []\n",
    "for element_first, element_second in zip(math_vector_first, math_vector_second):\n",
    "    # теперь на каждой итерации мы видим пару элементов и можем их сложить\n",
    "    math_vector_sum.append(\n",
    "        element_first + element_second\n",
    "    )\n",
    "    \n",
    "math_vector_sum"
   ]
  },
  {
   "cell_type": "markdown",
   "id": "d194bee5",
   "metadata": {},
   "source": [
    "### Sorting"
   ]
  },
  {
   "cell_type": "code",
   "execution_count": null,
   "id": "bc8b8c37",
   "metadata": {},
   "outputs": [],
   "source": [
    "lst = [-1, 5, 7.34, 0.15, 2.5, -3]"
   ]
  },
  {
   "cell_type": "code",
   "execution_count": null,
   "id": "9ff4af1d",
   "metadata": {},
   "outputs": [],
   "source": [
    "sorted(lst)"
   ]
  },
  {
   "cell_type": "code",
   "execution_count": null,
   "id": "9f4abad1",
   "metadata": {},
   "outputs": [],
   "source": [
    "sorted(lst, reverse=True)"
   ]
  },
  {
   "cell_type": "code",
   "execution_count": null,
   "id": "22141d04",
   "metadata": {},
   "outputs": [],
   "source": [
    "# make list of ints from nile.txt file, using list comprehension\n",
    "nile_lst = [int(s) for s in nile.split()]\n",
    "\n",
    "print(sorted(nile_lst))"
   ]
  },
  {
   "cell_type": "markdown",
   "id": "f736fa64",
   "metadata": {},
   "source": [
    "**Exercise 3**. The merging part of [Merge Sort](https://en.wikipedia.org/wiki/Merge_sort)."
   ]
  },
  {
   "cell_type": "code",
   "execution_count": null,
   "id": "cfe3684d",
   "metadata": {},
   "outputs": [],
   "source": [
    "def merge_iterative(lst_a: list[int], lst_b: list[int]) -> list[int]:\n",
    "    \"\"\"\n",
    "    Merge two sorted lists in one sorted list\n",
    "    :param lst_a: first sorted list\n",
    "    :param lst_b: second sorted list\n",
    "    :return: merged sorted list\n",
    "    \"\"\"\n",
    "    # YOUR CODE HERE\n",
    "    \n",
    "\n",
    "def merge_sorted(lst_a: list[int], lst_b: list[int]) -> list[int]:\n",
    "    \"\"\"\n",
    "    Merge two sorted lists in one sorted list using `sorted`\n",
    "    :param lst_a: first sorted list\n",
    "    :param lst_b: second sorted list\n",
    "    :return: merged sorted list\n",
    "    \"\"\"\n",
    "    # YOUR CODE HERE"
   ]
  },
  {
   "cell_type": "code",
   "execution_count": null,
   "id": "8e5c2253",
   "metadata": {},
   "outputs": [],
   "source": [
    "assert merge_sorted([],[]) == []\n",
    "assert merge_iterative([],[]) == []\n",
    "assert merge_sorted([1],[]) == [1]\n",
    "assert merge_iterative([1],[]) == [1]\n",
    "assert merge_sorted([],[1]) == [1]\n",
    "assert merge_iterative([],[1]) == [1]\n",
    "assert merge_sorted([1],[1]) == [1, 1]\n",
    "assert merge_iterative([1],[1]) == [1, 1]\n",
    "assert merge_sorted([2],[1]) == [1, 2]\n",
    "assert merge_iterative([2],[1]) == [1, 2]\n",
    "assert merge_sorted([1],[2]) == [1, 2]\n",
    "assert merge_iterative([1],[2]) == [1, 2]\n",
    "assert merge_sorted([1, 3],[2, 4]) == [1, 2, 3, 4]\n",
    "assert merge_iterative([1, 3],[2, 4]) == [1, 2, 3, 4]\n",
    "assert merge_sorted([1, 3, 3, 4],[2, 3,  4]) == [1, 2, 3, 3, 3, 4, 4]\n",
    "assert merge_iterative([1, 3, 3, 4],[2, 3, 4]) == [1, 2, 3, 3, 3, 4, 4]"
   ]
  },
  {
   "cell_type": "markdown",
   "id": "d0c7a94d",
   "metadata": {},
   "source": [
    "**Exercise 4.** Using [binary search](https://en.wikipedia.org/wiki/Binary_search_algorithm), determine wether a value is present in a sorted list."
   ]
  },
  {
   "cell_type": "code",
   "execution_count": 1,
   "id": "9a6d54c2",
   "metadata": {},
   "outputs": [],
   "source": [
    "def find_value(l: list[int], v: int):\n",
    "    \"\"\"\n",
    "        Returns True iff the value v is present in the increasingly sorted list l.\n",
    "    \"\"\"\n",
    "    # YOUR CODE HERE    "
   ]
  },
  {
   "cell_type": "code",
   "execution_count": null,
   "id": "3d33e6cc",
   "metadata": {},
   "outputs": [],
   "source": [
    "# Run this and the next cell to test your solution\n",
    "import copy\n",
    "import dataclasses\n",
    "\n",
    "@dataclasses.dataclass\n",
    "class Case:\n",
    "    nums: list[int] | range\n",
    "    value: int\n",
    "    result: bool\n",
    "    name: str | None = None\n",
    "\n",
    "    def __str__(self) -> str:\n",
    "        if self.name is not None:\n",
    "            return self.name\n",
    "        return 'find_{}_in_{}'.format(self.value, self.nums)\n",
    "\n",
    "BIG_VALUE = 10**15\n",
    "\n",
    "TEST_CASES = [\n",
    "    Case(nums=[], value=2, result=False),\n",
    "    Case(nums=[1], value=2, result=False),\n",
    "    Case(nums=[1, 3, 5], value=0, result=False),\n",
    "    Case(nums=[1, 3, 5], value=2, result=False),\n",
    "    Case(nums=[1, 3, 5], value=4, result=False),\n",
    "    Case(nums=[1, 3, 5], value=6, result=False),\n",
    "    Case(nums=[1, 3, 5], value=1, result=True),\n",
    "    Case(nums=[1, 3, 5], value=3, result=True),\n",
    "    Case(nums=[1, 3, 5], value=5, result=True),\n",
    "    Case(nums=[3], value=3, result=True),\n",
    "    Case(nums=[1, 3], value=1, result=True),\n",
    "    Case(nums=[1, 3], value=3, result=True),\n",
    "    Case(nums=[1, 3, 5, 7], value=0, result=False),\n",
    "    Case(nums=[1, 3, 5, 7], value=2, result=False),\n",
    "    Case(nums=[1, 3, 5, 7], value=4, result=False),\n",
    "    Case(nums=[1, 3, 5, 7], value=6, result=False),\n",
    "    Case(nums=[1, 3, 5, 7], value=8, result=False),\n",
    "    Case(nums=[1, 3, 5, 7], value=1, result=True),\n",
    "    Case(nums=[1, 3, 5, 7], value=3, result=True),\n",
    "    Case(nums=[1, 3, 5, 7], value=5, result=True),\n",
    "    Case(nums=[1, 3, 5, 7], value=7, result=True),\n",
    "    Case(nums=[1, 3, 5, 7, 9], value=0, result=False),\n",
    "    Case(nums=[1, 3, 5, 7, 9], value=2, result=False),\n",
    "    Case(nums=[1, 3, 5, 7, 9], value=4, result=False),\n",
    "    Case(nums=[1, 3, 5, 7, 9], value=6, result=False),\n",
    "    Case(nums=[1, 3, 5, 7, 9], value=8, result=False),\n",
    "    Case(nums=[1, 3, 5, 7, 9], value=10, result=False),\n",
    "    Case(nums=[1, 3, 5, 7, 9], value=1, result=True),\n",
    "    Case(nums=[1, 3, 5, 7, 9], value=3, result=True),\n",
    "    Case(nums=[1, 3, 5, 7, 9], value=5, result=True),\n",
    "    Case(nums=[1, 3, 5, 7, 9], value=7, result=True),\n",
    "    Case(nums=[1, 3, 5, 7, 9], value=9, result=True),\n",
    "    Case(nums=[1, 5, 5, 5, 9], value=1, result=True),\n",
    "    Case(nums=[1, 5, 5, 5, 9], value=5, result=True),\n",
    "    Case(nums=[1, 5, 5, 5, 9], value=9, result=True),\n",
    "    Case(nums=[1, 5, 5, 5, 9], value=7, result=False),\n",
    "    Case(nums=range(0, BIG_VALUE, 2), value=BIG_VALUE - 2, result=True, name=\"max_in_big_range\"),\n",
    "    Case(nums=range(0, BIG_VALUE, 2), value=0, result=True, name=\"min_in_big_range\"),\n",
    "    Case(nums=range(0, BIG_VALUE, 2), value=BIG_VALUE, result=False, name=\"greater_than_max_in_big_range\"),\n",
    "    Case(nums=range(0, BIG_VALUE, 2), value=-1, result=False, name=\"less_than_min_in_big_range\"),\n",
    "    Case(nums=range(0, BIG_VALUE, 2), value=BIG_VALUE // 2, result=True, name=\"middle_in_big_range\"),\n",
    "    Case(nums=range(0, BIG_VALUE, 2), value=BIG_VALUE // 2 + 1, result=False, name=\"middle_not_exists_in_big_range\"),\n",
    "]\n",
    "\n",
    "def test_find_value(t: Case) -> None:\n",
    "    nums_copy = copy.deepcopy(t.nums)\n",
    "\n",
    "    answer = find_value(nums_copy, t.value)\n",
    "    assert answer == t.result, str(t)\n",
    "\n",
    "    assert t.nums == nums_copy, \"You shouldn't change inputs\""
   ]
  },
  {
   "cell_type": "code",
   "execution_count": null,
   "id": "6c949218",
   "metadata": {},
   "outputs": [],
   "source": [
    "%%time\n",
    "for case in TEST_CASES:\n",
    "    test_find_value(case)"
   ]
  },
  {
   "cell_type": "markdown",
   "id": "2c9938e1",
   "metadata": {
    "pycharm": {
     "name": "#%% md\n"
    },
    "slideshow": {
     "slide_type": "slide"
    }
   },
   "source": [
    "### Functions"
   ]
  },
  {
   "cell_type": "code",
   "execution_count": null,
   "id": "a3bc8684",
   "metadata": {
    "pycharm": {
     "name": "#%%\n"
    }
   },
   "outputs": [],
   "source": [
    "print(\"Welcome to Moscow!\")\n",
    "print(\"Welcome to Samara!\")\n",
    "print(\"Welcome to Novosibirsk!\")\n",
    "print(\"Welcome to Sochi!\")\n",
    "print(\"Welcome to Khabarovsk!\")"
   ]
  },
  {
   "cell_type": "code",
   "execution_count": null,
   "id": "b14f18a9",
   "metadata": {
    "pycharm": {
     "name": "#%%\n"
    }
   },
   "outputs": [],
   "source": [
    "# can write as a loop\n",
    "for city in ['Moscow', 'Samara', 'Novosibirsk', 'Sochi', 'Khabarovsk']:\n",
    "    print(\"Welcome to \", city, '!', sep='')"
   ]
  },
  {
   "cell_type": "code",
   "execution_count": null,
   "id": "e2eba316",
   "metadata": {
    "pycharm": {
     "name": "#%%\n"
    }
   },
   "outputs": [],
   "source": [
    "# and wrap into a function\n",
    "def print_wellcome(location):\n",
    "    print(\"Welcome to \", city, '!', sep='')\n",
    "\n",
    "for city in ['Moscow', 'Samara', 'Novosibirsk', 'Sochi', 'Khabarovsk']:\n",
    "    print_wellcome(city)"
   ]
  },
  {
   "cell_type": "markdown",
   "id": "d581391c",
   "metadata": {
    "pycharm": {
     "name": "#%% md\n"
    },
    "slideshow": {
     "slide_type": "slide"
    }
   },
   "source": [
    "### Typing"
   ]
  },
  {
   "cell_type": "code",
   "execution_count": null,
   "id": "c62b4887",
   "metadata": {
    "pycharm": {
     "name": "#%%\n"
    }
   },
   "outputs": [],
   "source": [
    "import typing as tp\n",
    "\n",
    "\n",
    "def f(\n",
    "    int_value: int,\n",
    "    float_value: float,\n",
    "    str_value: str,\n",
    "    list_value: list[str],\n",
    "    tuple_value: tuple[str, str],\n",
    "    optional_str_value: str | None,\n",
    "    str_or_int_value: str | int,\n",
    "    type_value: type,\n",
    "    any_value: tp.Any\n",
    ") -> None:\n",
    "    pass\n",
    "\n",
    "f(\n",
    "    int_value=10, \n",
    "    float_value=10.1, \n",
    "    str_value=str, \n",
    "    list_value=[\"a\", \"b\"],\n",
    "    tuple_value=(\"a\", \"b\"),\n",
    "    optional_str_value=\"hello\",  # or None\n",
    "    str_or_int_value=\"world\",  # or 1\n",
    "    type_value=int,\n",
    "    any_value=12345  # or any other type\n",
    ")\n"
   ]
  },
  {
   "cell_type": "markdown",
   "id": "f185b11b",
   "metadata": {
    "pycharm": {
     "name": "#%% md\n"
    },
    "slideshow": {
     "slide_type": "slide"
    }
   },
   "source": [
    "<div class=\"alert alert-danger\">\n",
    "<b>Anti-pattern:</b> not using type hints\n",
    "</div>"
   ]
  },
  {
   "cell_type": "code",
   "execution_count": null,
   "id": "8a6ba216",
   "metadata": {
    "pycharm": {
     "name": "#%%\n"
    },
    "slideshow": {
     "slide_type": "-"
    }
   },
   "outputs": [],
   "source": [
    "# Newbie\n",
    "def ctr(clicks, shows):\n",
    "    return clicks / shows\n",
    "    \n",
    "# Expert\n",
    "def ctr(clicks: int, shows: int) -> float:\n",
    "    return clicks / shows"
   ]
  },
  {
   "cell_type": "markdown",
   "id": "415bf6fc",
   "metadata": {
    "pycharm": {
     "name": "#%% md\n"
    },
    "slideshow": {
     "slide_type": "slide"
    }
   },
   "source": [
    "<div class=\"alert alert-danger\">\n",
    "<b>Anti-pattern:</b> write functions with crazy inputs\n",
    "</div>"
   ]
  },
  {
   "cell_type": "code",
   "execution_count": null,
   "id": "76033538",
   "metadata": {
    "pycharm": {
     "name": "#%%\n"
    }
   },
   "outputs": [],
   "source": [
    "# Tried to figure out what are the types of the arguments of this function...\n",
    "\n",
    "def _update_input_fields(input_fields, output_fields):\n",
    "    \n",
    "    for output_field_name, output_field_type in dict(output_fields).iteritems():\n",
    "        if output_field_name not in input_fields:\n",
    "            input_fields[output_field_name] = output_field_type\n",
    "        elif init_to_string(input_fields[output_field_name]) != init_to_string(output_field_type):\n",
    "            input_fields[output_field_name] = _merge_field_type(input_fields[output_field_name], output_field_type)\n"
   ]
  },
  {
   "cell_type": "code",
   "execution_count": null,
   "id": "51d37299",
   "metadata": {
    "pycharm": {
     "name": "#%%\n"
    }
   },
   "outputs": [],
   "source": [
    "# Done. Do not do like this\n",
    "\n",
    "import typing as tp\n",
    "\n",
    "def _update_input_fields(\n",
    "        input_fields: tp.Mapping[str, tp.Union[tp.Tuple[tp.Union[tp.Callable[tp.Any, tp.Any], str], tp.Union[tp.Callable[tp.Any, tp.Any], str]], tp.Union[tp.Callable[tp.Any, tp.Any], str]]], \n",
    "        output_fields: tp.Union[tp.Mapping[str, tp.Union[tp.Tuple[tp.Union[tp.Callable[tp.Any, tp.Any], str], tp.Union[tp.Callable[tp.Any, tp.Any], str]], tp.Union[tp.Callable[tp.Any, tp.Any], str]]], tp.Sequence[tp.Tuple[str,  tp.Union[tp.Tuple[ tp.Union[tp.Callable[tp.Any, tp.Any], str],  tp.Union[tp.Callable[tp.Any, tp.Any], str]],  tp.Union[tp.Callable[tp.Any, tp.Any], str]]]]]\n",
    "        ) -> None:\n",
    "    \n",
    "    for output_field_name, output_field_type in dict(output_fields).iteritems():\n",
    "        if output_field_name not in input_fields:\n",
    "            input_fields[output_field_name] = output_field_type\n",
    "        elif init_to_string(input_fields[output_field_name]) != init_to_string(output_field_type):\n",
    "            input_fields[output_field_name] = _merge_field_type(input_fields[output_field_name], output_field_type)\n"
   ]
  },
  {
   "cell_type": "markdown",
   "id": "6a2208a3",
   "metadata": {
    "pycharm": {
     "name": "#%% md\n"
    },
    "slideshow": {
     "slide_type": "slide"
    }
   },
   "source": [
    "<div class=\"alert alert-danger\">\n",
    "<b>Anti-pattern:</b> do not return values from some branches\n",
    "</div>"
   ]
  },
  {
   "cell_type": "code",
   "execution_count": null,
   "id": "e9f40ffe",
   "metadata": {
    "pycharm": {
     "name": "#%%\n"
    }
   },
   "outputs": [],
   "source": [
    "# newbie\n",
    "def ctr(clicks: int, shows: int) -> float | None:\n",
    "    if shows != 0:\n",
    "        return clicks / shows\n",
    "    \n",
    "# expert\n",
    "def ctr(clicks: int, shows: int) -> float:\n",
    "    if shows != 0:\n",
    "        return clicks / shows\n",
    "    return 0.0"
   ]
  },
  {
   "cell_type": "markdown",
   "id": "0186a83b",
   "metadata": {
    "pycharm": {
     "name": "#%% md\n"
    },
    "slideshow": {
     "slide_type": "slide"
    }
   },
   "source": [
    "### Comments"
   ]
  },
  {
   "cell_type": "code",
   "execution_count": null,
   "id": "ba8fcf64",
   "metadata": {
    "pycharm": {
     "name": "#%%\n"
    }
   },
   "outputs": [],
   "source": [
    "# comments begin with symbol #\n",
    "\n",
    "def function():  # can write a comment here\n",
    "    pass"
   ]
  },
  {
   "cell_type": "markdown",
   "id": "1b459ec2",
   "metadata": {
    "pycharm": {
     "name": "#%% md\n"
    },
    "slideshow": {
     "slide_type": "slide"
    }
   },
   "source": [
    "<div class=\"alert alert-danger\">\n",
    "<b>Anti-pattern:</b> duplicate obvious code with comments\n",
    "</div>"
   ]
  },
  {
   "cell_type": "code",
   "execution_count": null,
   "id": "50a6127f",
   "metadata": {
    "pycharm": {
     "name": "#%%\n"
    }
   },
   "outputs": [],
   "source": [
    "def product_three(a, b, c):\n",
    "    return a * b * c  # multiply three numbers in order to return the result"
   ]
  },
  {
   "cell_type": "markdown",
   "id": "668f5e64",
   "metadata": {
    "pycharm": {
     "name": "#%% md\n"
    },
    "slideshow": {
     "slide_type": "slide"
    }
   },
   "source": [
    "<div class=\"alert alert-danger\">\n",
    "<b>Anti-pattern:</b> write comments instead of clear code\n",
    "</div>"
   ]
  },
  {
   "cell_type": "code",
   "execution_count": null,
   "id": "9f49aa9c",
   "metadata": {
    "pycharm": {
     "name": "#%%\n"
    }
   },
   "outputs": [],
   "source": [
    "def f(u, b):\n",
    "    return u * b\n",
    "\n",
    "def g(ub, c):\n",
    "    return ub * c\n",
    "\n",
    "def h(c, b, u):  # the button a was broken on my keybord,\n",
    "                 # and I just like the order of these variables\n",
    "    # this function multiplies three numbers\n",
    "    return g(f(c, b), u)  # first, multiply c and b;\n",
    "                          # then pass the result to the function g,\n",
    "                          # which multipies it with the third number "
   ]
  },
  {
   "cell_type": "markdown",
   "id": "c701bcf7",
   "metadata": {
    "pycharm": {
     "name": "#%% md\n"
    },
    "slideshow": {
     "slide_type": "slide"
    }
   },
   "source": [
    "<div class=\"alert alert-info\">\n",
    "<b>Advice:</b> A good comment:<br/>\n",
    "1. is abscent because the clear code made it unnecessary<br/>\n",
    "2. answers the question \"why?\"\n",
    "</div>\n"
   ]
  },
  {
   "cell_type": "markdown",
   "id": "97b00d31",
   "metadata": {
    "pycharm": {
     "name": "#%% md\n"
    },
    "slideshow": {
     "slide_type": "slide"
    }
   },
   "source": [
    "### Documentation"
   ]
  },
  {
   "cell_type": "code",
   "execution_count": null,
   "id": "81b7308e",
   "metadata": {
    "pycharm": {
     "name": "#%%\n"
    }
   },
   "outputs": [],
   "source": [
    "def print_message(message: tp.Optional[str]):\n",
    "    # Prints the passed message\n",
    "    # Handles the cases of empty and missing messages separately\n",
    "    if message is None:\n",
    "        print(\"No message!\")\n",
    "    elif not message:\n",
    "        print(\"Empty message!\")\n",
    "    else:\n",
    "        print(message)"
   ]
  },
  {
   "cell_type": "code",
   "execution_count": null,
   "id": "e403c4b8",
   "metadata": {
    "pycharm": {
     "name": "#%%\n"
    }
   },
   "outputs": [],
   "source": [
    "help(print_message)  # help – one more builtin"
   ]
  },
  {
   "cell_type": "code",
   "execution_count": null,
   "id": "c837c82a",
   "metadata": {
    "pycharm": {
     "name": "#%%\n"
    },
    "slideshow": {
     "slide_type": "slide"
    }
   },
   "outputs": [],
   "source": [
    "def print_message(message: tp.Optional[str]):\n",
    "    \"\"\"\n",
    "        Prints the passed message.\n",
    "        Handles the cases of empty and missing messages separately.\n",
    "    \"\"\"\n",
    "    if message is None:\n",
    "        print(\"No message!\")\n",
    "    elif not message:\n",
    "        print(\"Empty message!\")\n",
    "    else:\n",
    "        print(message)"
   ]
  },
  {
   "cell_type": "code",
   "execution_count": null,
   "id": "9f78095c",
   "metadata": {},
   "outputs": [],
   "source": [
    "print_message.__doc__"
   ]
  },
  {
   "cell_type": "code",
   "execution_count": null,
   "id": "97a93f57",
   "metadata": {
    "pycharm": {
     "name": "#%%\n"
    }
   },
   "outputs": [],
   "source": [
    "help(print_message)"
   ]
  },
  {
   "cell_type": "code",
   "execution_count": null,
   "id": "c8a81bd0",
   "metadata": {
    "pycharm": {
     "name": "#%%\n"
    },
    "slideshow": {
     "slide_type": "-"
    }
   },
   "outputs": [],
   "source": [
    "print_message  # in Jupyter use shift + tab for docs"
   ]
  },
  {
   "cell_type": "markdown",
   "id": "bca1562f",
   "metadata": {
    "pycharm": {
     "name": "#%% md\n"
    },
    "slideshow": {
     "slide_type": "slide"
    }
   },
   "source": [
    "<div class=\"alert alert-danger\">\n",
    "<b>Anti-pattern:</b> not to write docstrings\n",
    "</div>"
   ]
  },
  {
   "cell_type": "code",
   "execution_count": null,
   "id": "4ac83f98",
   "metadata": {
    "pycharm": {
     "name": "#%%\n"
    }
   },
   "outputs": [],
   "source": [
    "# newbie\n",
    "def ctr1(clicks: int, shows: int) -> float:\n",
    "    if shows != 0:\n",
    "        return clicks / shows\n",
    "    return 0.0\n",
    "    \n",
    "# expert\n",
    "def ctr2(clicks: int, shows: int) -> float:\n",
    "    \"\"\"\n",
    "    Calculate ctr. If there are no shows, return 0.\n",
    "    :param clicks: number of clicks on banner\n",
    "    :param shows: number of banners shows\n",
    "    :return: clicks-through rate\n",
    "    \"\"\"\n",
    "    if shows != 0:\n",
    "        return clicks / shows\n",
    "    return 0.0"
   ]
  },
  {
   "cell_type": "markdown",
   "id": "501906c4",
   "metadata": {
    "pycharm": {
     "name": "#%% md\n"
    },
    "slideshow": {
     "slide_type": "slide"
    }
   },
   "source": [
    "<div class=\"alert alert-success\">\n",
    "<b>Advice:</b> document the nontrivial logic\n",
    "</div>\n",
    "<img src=\"./images/untrivial_logic_doc.png\">"
   ]
  },
  {
   "cell_type": "markdown",
   "id": "ab9bce10",
   "metadata": {
    "pycharm": {
     "name": "#%% md\n"
    },
    "slideshow": {
     "slide_type": "slide"
    }
   },
   "source": [
    "<div class=\"alert alert-success\">\n",
    "<b>Advice:</b> document cautions\n",
    "</div>\n",
    "<img src=\"./images/careful_logic_doc.png\">"
   ]
  },
  {
   "cell_type": "markdown",
   "id": "6e4fca57",
   "metadata": {
    "pycharm": {
     "name": "#%% md\n"
    },
    "slideshow": {
     "slide_type": "slide"
    }
   },
   "source": [
    "### assert"
   ]
  },
  {
   "cell_type": "code",
   "execution_count": null,
   "id": "d727a274",
   "metadata": {
    "pycharm": {
     "name": "#%%\n"
    }
   },
   "outputs": [],
   "source": [
    "assert True  # assert"
   ]
  },
  {
   "cell_type": "code",
   "execution_count": null,
   "id": "c27cd8f0",
   "metadata": {
    "pycharm": {
     "name": "#%%\n"
    }
   },
   "outputs": [],
   "source": [
    "assert False # this always fails"
   ]
  },
  {
   "cell_type": "code",
   "execution_count": null,
   "id": "52c7a7a4",
   "metadata": {
    "pycharm": {
     "name": "#%%\n"
    }
   },
   "outputs": [],
   "source": [
    "assert 2 + 2 == 4  # assert expresses the confidence that the expression is always true \n",
    "                   # during the normal program execution. Mainly used for debugging"
   ]
  },
  {
   "cell_type": "code",
   "execution_count": null,
   "id": "a04750b4",
   "metadata": {
    "pycharm": {
     "name": "#%%\n"
    }
   },
   "outputs": [],
   "source": [
    "allways_filled_list = []\n",
    "assert allways_filled_list, \"List must not be empty!\""
   ]
  },
  {
   "cell_type": "code",
   "execution_count": null,
   "id": "84242f75",
   "metadata": {
    "pycharm": {
     "name": "#%%\n"
    },
    "slideshow": {
     "slide_type": "slide"
    }
   },
   "outputs": [],
   "source": [
    "import typing as tp\n",
    "\n",
    "def _dot_product(first: tp.Sequence[float], second: tp.Sequence[float]) -> float:  \n",
    "    \n",
    "    result = 0\n",
    "    for i in range(len(first)):\n",
    "        result += first[i] * second[i]\n",
    "        \n",
    "    return result\n",
    "\n",
    "\n",
    "def length(vector: tp.List[float]) -> float:\n",
    "    return _dot_product(vector, vector) ** 0.5\n",
    "\n",
    "\n",
    "length([1, 2, 3, 4, 5])"
   ]
  },
  {
   "cell_type": "code",
   "execution_count": null,
   "id": "0c48dff0",
   "metadata": {
    "pycharm": {
     "name": "#%%\n"
    },
    "slideshow": {
     "slide_type": "slide"
    }
   },
   "outputs": [],
   "source": [
    "import typing as tp\n",
    "\n",
    "def _dot_product(first: tp.List[float], second: tp.List[float]) -> float:    \n",
    "    assert len(first) == len(second), \"First and second should be equal length\"\n",
    "    \n",
    "    result = 0\n",
    "    for el_first, el_second in zip(first, second):\n",
    "        result += el_first * el_second\n",
    "        \n",
    "    return result\n",
    "\n",
    "\n",
    "def length(vector: tp.List[float]) -> float:\n",
    "    return _dot_product(vector, vector) ** 0.5\n",
    "\n",
    "\n",
    "length([1, 2, 3, 4, 5])"
   ]
  },
  {
   "cell_type": "markdown",
   "id": "8540df58",
   "metadata": {
    "pycharm": {
     "name": "#%% md\n"
    },
    "slideshow": {
     "slide_type": "slide"
    }
   },
   "source": [
    "### assert in tests"
   ]
  },
  {
   "cell_type": "code",
   "execution_count": null,
   "id": "84da0677",
   "metadata": {
    "pycharm": {
     "name": "#%%\n"
    }
   },
   "outputs": [],
   "source": [
    "def dummy_function(a) -> str:\n",
    "    return \"hello\"\n",
    "\n",
    "def test_dummy_function(value) -> None:\n",
    "    assert dummy_function(value) == value, \"Function doesn't return the same value as passed\""
   ]
  },
  {
   "cell_type": "code",
   "execution_count": null,
   "id": "e3702fbf",
   "metadata": {
    "pycharm": {
     "name": "#%%\n"
    }
   },
   "outputs": [],
   "source": [
    "test_dummy_function(\"hello\")\n",
    "test_dummy_function(\"hi\")"
   ]
  },
  {
   "cell_type": "code",
   "execution_count": null,
   "id": "c18665a7",
   "metadata": {},
   "outputs": [],
   "source": []
  }
 ],
 "metadata": {
  "celltoolbar": "Slideshow",
  "kernelspec": {
   "display_name": "Python 3 (ipykernel)",
   "language": "python",
   "name": "python3"
  },
  "language_info": {
   "codemirror_mode": {
    "name": "ipython",
    "version": 3
   },
   "file_extension": ".py",
   "mimetype": "text/x-python",
   "name": "python",
   "nbconvert_exporter": "python",
   "pygments_lexer": "ipython3",
   "version": "3.11.4"
  },
  "rise": {
   "enable_chalkboard": true,
   "footer": "<p style=\"margin: 5px; color: #a0a0a0\">YSDA Python Course</p>",
   "scroll": true,
   "start_slideshow_at": "selected",
   "theme": "serif"
  }
 },
 "nbformat": 4,
 "nbformat_minor": 5
}
