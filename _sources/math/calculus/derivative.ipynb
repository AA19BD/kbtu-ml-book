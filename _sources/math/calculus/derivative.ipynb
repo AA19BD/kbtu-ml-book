{
 "cells": [
  {
   "cell_type": "markdown",
   "metadata": {},
   "source": [
    "# Derivatives and differentials\n",
    "\n",
    "В курсе матанализа изучаются произвольные функции действительного аргумента,\n",
    "однако, на практике в целом и в машинном обучении в частности обычно встречаются **дифференцируемые** (**гладкие**) функции, локально «похожие» на простую и понятную линейную функцию. «Малому приращению» $h=\\Delta x$ аргумента гладкой функции $f$ соответствует «малое приращение» $\\Delta f = f(x+h) - f(x)$ её значения, приблизительно пропорциональное $h$: $f(x+h) - f(x) \\approx L(x)h$. Более формально, функция $f\\colon \\mathbb R \\to\\mathbb R$ дифференцируема в точке $x$, если \n",
    "\n",
    "$$\n",
    "f(x + h) - f(x) = L(x)h + o(h), \\quad \\text{ где } L(x) = \\lim\\limits_{h\\to 0} \\frac{f(x+h)-f(x)}h =: f'(x)\n",
    "$$\n",
    "\n",
    "— **производная** функции $f$ в точке $x$. Геометрически это означает, что график функции $y=f(x)$ имеет касательную в точке $(x, f(x))$.\n",
    "\n",
    "```{image} https://sites.millersville.edu/bikenaga/calculus1/derivatives/derivatives4.png\n",
    ":align: center\n",
    "```"
   ]
  }
 ],
 "metadata": {
  "language_info": {
   "name": "python"
  },
  "orig_nbformat": 4
 },
 "nbformat": 4,
 "nbformat_minor": 2
}
