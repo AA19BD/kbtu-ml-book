{
 "cells": [
  {
   "cell_type": "markdown",
   "id": "9b9c51d5-52a0-4e65-9022-9c7fdc1a4a3f",
   "metadata": {},
   "source": [
    "# Probabilistic models for linear regression\n",
    "\n",
    "Consider a regression problem with dataset $\\mathcal D = \\{(\\boldsymbol x_i, y_i)\\}_{i=1}^n$, $y_i\\in\\mathbb R$. The probabilistic model for the linear regression model assumes that\n",
    "\n",
    "$$\n",
    "    y_i = \\boldsymbol x_i^\\top \\boldsymbol w + \\varepsilon_i,\n",
    "$$\n",
    "\n",
    "where $\\varepsilon_i$ is some random noise."
   ]
  },
  {
   "cell_type": "markdown",
   "id": "a6fe9fb7-e006-4458-a57a-35afbe8927c8",
   "metadata": {},
   "source": [
    "## Gaussian model\n",
    "\n",
    "In this setting the random noise is gaussian: $\\varepsilon_i \\sim \\mathcal N (0, \\sigma^2)$. Hence,\n",
    "\n",
    "$$\n",
    "    p(y_i \\vert \\boldsymbol x_i, \\boldsymbol w) = \\mathcal N(\\boldsymbol x_i^\\top \\boldsymbol w, \\sigma^2) = \\frac 1{\\sqrt{2\\pi} \\sigma} \\exp\\Big(-\\frac{(\\boldsymbol x_i^\\top \\boldsymbol w - y_i)^2}{2\\sigma^2}\\Big).\n",
    "$$\n",
    "\n",
    "**Q**. What is $\\mathbb E y_i$? $\\mathbb V y_i$?\n",
    "\n",
    "A picture from [ML Handbook](https://academy.yandex.ru/handbook/ml/article/beta-pervoe-znakomstvo-s-veroyatnostnymi-modelyami#sluchajnost-kak-istochnik-nesovershenstva-modeli):\n",
    "\n",
    "```{figure} lin_reg_gaussians.png\n",
    ":align: center\n",
    "```\n",
    "\n",
    "**Q**. What is $\\boldsymbol x_i$ and $\\boldsymbol w$ in this picture? \n",
    "\n",
    "The likelihood of the dataset $\\mathcal D$ is\n",
    "\n",
    "$$\n",
    "    p(\\boldsymbol y \\vert \\boldsymbol X, \\boldsymbol w) = \\prod_{i=1}^n \\mathcal N(\\boldsymbol x_i^\\top \\boldsymbol w, \\sigma^2) = \\frac 1{(\\sqrt{2\\pi}\\sigma)^n}\\exp\\Big(-\\sum\\limits_{i=1}^n \\frac{(\\boldsymbol x_i^\\top \\boldsymbol w - y_i)^2}{2\\sigma^2}\\Big).\n",
    "$$\n",
    "\n",
    "Hence, the negative log-likelihood is\n",
    "\n",
    "$$\n",
    "    \\mathrm{NLL}(\\boldsymbol w) = -\\log p(\\boldsymbol y \\vert \\boldsymbol X, \\boldsymbol w)=\n",
    "    \\frac 1{2\\sigma^2} \\sum\\limits_{i=1}^n (\\boldsymbol x_i^\\top \\boldsymbol w - y_i)^2 + \\frac n2\\log(2\\pi\\sigma)^2.\n",
    "$$\n",
    "\n",
    "**Q.** How does this NLL relates to the loss function {eq}`lin-reg-loss-opt` of the linear regression model?\n",
    "\n",
    "Thus, the optimal weights {eq}`lin-reg-solution` of the linear regression with MSE loss coincide with MLE:\n",
    "\n",
    "$$\n",
    "    \\boldsymbol{\\widehat w} = \\arg\\max\\limits_{\\boldsymbol w} p(\\boldsymbol y \\vert \\boldsymbol X, \\boldsymbol w) = \\arg\\min\\limits_{\\boldsymbol w} \\mathrm{NLL}(\\boldsymbol w).\n",
    "$$\n"
   ]
  },
  {
   "cell_type": "markdown",
   "id": "95d617d2",
   "metadata": {},
   "source": [
    "## Laplacian model\n",
    "\n",
    "Now suppose that out loss function is MAE. Then \n",
    "\n",
    "$$  \n",
    "    \\boldsymbol{\\widehat w} = \\arg\\min\\limits_{\\boldsymbol w} \\sum\\limits_{i=1}^n \\vert \\boldsymbol x_i^\\top \\boldsymbol w - y_i\\vert = \\arg\\max\\limits_{\\boldsymbol w} \\Big(-\\sum\\limits_{i=1}^n \\vert \\boldsymbol x_i^\\top \\boldsymbol w - y_i\\vert\\Big)\n",
    "$$"
   ]
  },
  {
   "cell_type": "markdown",
   "id": "18e8c6d1",
   "metadata": {},
   "source": [
    "Which probabilistic model will give\n",
    "\n",
    "$$\n",
    "    \\mathrm{NLL}(\\boldsymbol w) = -\\sum\\limits_{i=1}^n \\vert \\boldsymbol x_i^\\top \\boldsymbol w - y_i\\vert?\n",
    "$$\n",
    "\n",
    "Well, then likelihood should be\n",
    "\n",
    "$$\n",
    "    p(\\boldsymbol y \\vert \\boldsymbol X, \\boldsymbol w) = \\exp\\Big(-\\sum\\limits_{i=1}^n \\vert\\boldsymbol x_i^\\top \\boldsymbol w - y_i\\vert\\Big) = \\prod\\limits_{i=1}^n \\exp(-\\vert\\boldsymbol x_i^\\top \\boldsymbol w - y_i\\vert).\n",
    "$$\n",
    "\n",
    "Hence,\n",
    "\n",
    "$$\n",
    "    p(y_i \\vert \\boldsymbol x_i, \\boldsymbol w) = \\exp(-\\vert\\boldsymbol x_i^\\top \\boldsymbol w - y_i\\vert),\n",
    "$$\n",
    "\n",
    "and\n",
    "\n",
    "$$\n",
    "    y_i  \\sim \\mathrm{Laplace}(\\boldsymbol x_i^\\top \\boldsymbol w, b).\n",
    "$$\n"
   ]
  },
  {
   "cell_type": "code",
   "execution_count": null,
   "id": "96f451b2",
   "metadata": {},
   "outputs": [],
   "source": []
  }
 ],
 "metadata": {
  "kernelspec": {
   "display_name": "Python 3 (ipykernel)",
   "language": "python",
   "name": "python3"
  },
  "language_info": {
   "codemirror_mode": {
    "name": "ipython",
    "version": 3
   },
   "file_extension": ".py",
   "mimetype": "text/x-python",
   "name": "python",
   "nbconvert_exporter": "python",
   "pygments_lexer": "ipython3",
   "version": "3.11.4"
  }
 },
 "nbformat": 4,
 "nbformat_minor": 5
}
